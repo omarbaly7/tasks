{
 "cells": [
  {
   "cell_type": "code",
   "execution_count": 1,
   "id": "d8f7d079-ed97-4d08-b02a-6fbfaedebc2d",
   "metadata": {},
   "outputs": [
    {
     "name": "stdout",
     "output_type": "stream",
     "text": [
      "Twinkle, twinkle, little star,\n",
      "\tHow I wonder what you are! \n",
      "\t\tUp above the world so high, \n",
      "\t\tLike a diamond in the sky. \n",
      "Twinkle, twinkle, little star, \n",
      "\tHow I wonder what you are!\n"
     ]
    }
   ],
   "source": [
    "#Task1\n",
    "print(\"Twinkle, twinkle, little star,\\n\\tHow I wonder what you are! \\n\\t\\tUp above the world so high, \\n\\t\\tLike a diamond in the sky. \\nTwinkle, twinkle, little star, \\n\\tHow I wonder what you are!\")\n"
   ]
  },
  {
   "cell_type": "code",
   "execution_count": 2,
   "id": "630a5d52-8a6b-4124-81c5-bc627452e29f",
   "metadata": {},
   "outputs": [
    {
     "name": "stdout",
     "output_type": "stream",
     "text": [
      "Python version is :3.11.7 | packaged by Anaconda, Inc. | (main, Dec 15 2023, 18:05:47) [MSC v.1916 64 bit (AMD64)] \n"
     ]
    }
   ],
   "source": [
    "#Task2\n",
    "import sys\n",
    "\n",
    "print(f\"Python version is :{sys.version} \")\n"
   ]
  },
  {
   "cell_type": "code",
   "execution_count": 3,
   "id": "bf511e13-cca8-425d-a1a2-710d30071d40",
   "metadata": {},
   "outputs": [
    {
     "name": "stdout",
     "output_type": "stream",
     "text": [
      "Current date and time : \n",
      "2024-07-25 22:05:06.188935\n"
     ]
    }
   ],
   "source": [
    "#Task3\n",
    "from datetime import datetime\n",
    "\n",
    "print(\"Current date and time : \")\n",
    "print(datetime.now())"
   ]
  },
  {
   "cell_type": "code",
   "execution_count": 4,
   "id": "d1ea4d94-1496-464e-828c-84141e361ecb",
   "metadata": {},
   "outputs": [
    {
     "name": "stdin",
     "output_type": "stream",
     "text": [
      "Put the radius of the circle :  5\n"
     ]
    },
    {
     "name": "stdout",
     "output_type": "stream",
     "text": [
      "Area = 78.57142857142857\n"
     ]
    }
   ],
   "source": [
    "#Task4\n",
    "radius=float(input('Put the radius of the circle : '))\n",
    "area =(22/7)*radius**2\n",
    "\n",
    "print(f'Area = {area}')\n"
   ]
  },
  {
   "cell_type": "code",
   "execution_count": 5,
   "id": "1fb1817e-25a5-4235-ae5e-132ccf5cd2a1",
   "metadata": {},
   "outputs": [
    {
     "name": "stdin",
     "output_type": "stream",
     "text": [
      "Enter your first name :  omar\n",
      "Enter your last name :  baly\n"
     ]
    },
    {
     "name": "stdout",
     "output_type": "stream",
     "text": [
      "baly omar\n"
     ]
    }
   ],
   "source": [
    "#Task5\n",
    "first_name=input('Enter your first name : ')\n",
    "last_name=input('Enter your last name : ')\n",
    "\n",
    "print(last_name+\" \"+first_name)\n"
   ]
  },
  {
   "cell_type": "code",
   "execution_count": 6,
   "id": "235c3d94-d92f-4633-af6e-e72f15d6ad64",
   "metadata": {},
   "outputs": [
    {
     "name": "stdin",
     "output_type": "stream",
     "text": [
      "Enter the numbers :  5,6,7\n"
     ]
    },
    {
     "name": "stdout",
     "output_type": "stream",
     "text": [
      "List :  ['5', '6', '7']\n",
      "Tuple :  ('5', '6', '7')\n"
     ]
    }
   ],
   "source": [
    "#Task6\n",
    "numbers=input(\"Enter the numbers : \")\n",
    "list = numbers.split(\",\")\n",
    "\n",
    "tuple = tuple(list)\n",
    "print('List : ', list)\n",
    "print('Tuple : ', tuple)\n"
   ]
  },
  {
   "cell_type": "code",
   "execution_count": 7,
   "id": "38b9d642-21fb-4cc9-824d-682403cc7e3d",
   "metadata": {},
   "outputs": [
    {
     "name": "stdin",
     "output_type": "stream",
     "text": [
      "Enter the filename :  omar.txt\n"
     ]
    },
    {
     "name": "stdout",
     "output_type": "stream",
     "text": [
      "txt\n"
     ]
    }
   ],
   "source": [
    "#Task7\n",
    "name=input(\"Enter the filename : \")\n",
    "extension=name.split('.')[-1]\n",
    "\n",
    "print(extension)"
   ]
  },
  {
   "cell_type": "code",
   "execution_count": 8,
   "id": "92f3c053-7f7f-4d0e-9c5d-d9c6cc250f08",
   "metadata": {},
   "outputs": [
    {
     "name": "stdout",
     "output_type": "stream",
     "text": [
      "Red Black\n"
     ]
    }
   ],
   "source": [
    "#Task8\n",
    "color_list = [\"Red\",\"Green\",\"White\" ,\"Black\"]\n",
    "print(color_list[0],color_list[-1] )"
   ]
  },
  {
   "cell_type": "code",
   "execution_count": 9,
   "id": "161da9e6-9aad-47d4-9492-cecf48a44f90",
   "metadata": {},
   "outputs": [
    {
     "name": "stdout",
     "output_type": "stream",
     "text": [
      "The examination will start on : 4 / 1 / 2024 \n"
     ]
    }
   ],
   "source": [
    "#Task9\n",
    "exam_st_date = (4, 1, 2024)\n",
    "print('The examination will start on : %i / %i / %i ' %exam_st_date)"
   ]
  },
  {
   "cell_type": "code",
   "execution_count": 10,
   "id": "00fa24dc-474b-4d39-a08c-e1a615c40639",
   "metadata": {},
   "outputs": [
    {
     "name": "stdin",
     "output_type": "stream",
     "text": [
      "Enter the number :  66\n"
     ]
    },
    {
     "name": "stdout",
     "output_type": "stream",
     "text": [
      "8118\n"
     ]
    }
   ],
   "source": [
    "#Task10\n",
    "n=int(input(\"Enter the number : \"))\n",
    "t=(n*10)+n\n",
    "res=n+t+((t*10)+n)\n",
    "print(res)"
   ]
  },
  {
   "cell_type": "code",
   "execution_count": 11,
   "id": "5b57545d-2326-4f25-9dee-7b5f439f6898",
   "metadata": {},
   "outputs": [
    {
     "name": "stdout",
     "output_type": "stream",
     "text": [
      "Return the number of items in a container.\n",
      "Return the absolute value of the argument.\n"
     ]
    }
   ],
   "source": [
    "#Task11\n",
    "print(len.__doc__)\n",
    "print(abs.__doc__)"
   ]
  },
  {
   "cell_type": "code",
   "execution_count": 12,
   "id": "563746d1-72ab-48d2-ad67-2b8720c05bdd",
   "metadata": {},
   "outputs": [
    {
     "name": "stdin",
     "output_type": "stream",
     "text": [
      "Enter the year :  2001\n",
      "Enter the month :  8\n"
     ]
    },
    {
     "name": "stdout",
     "output_type": "stream",
     "text": [
      "    August 2001\n",
      "Mo Tu We Th Fr Sa Su\n",
      "       1  2  3  4  5\n",
      " 6  7  8  9 10 11 12\n",
      "13 14 15 16 17 18 19\n",
      "20 21 22 23 24 25 26\n",
      "27 28 29 30 31\n",
      "\n"
     ]
    }
   ],
   "source": [
    "#Task12\n",
    "import calendar\n",
    "year=int(input(\"Enter the year : \"))\n",
    "month=int(input(\"Enter the month : \"))\n",
    "print(calendar.month(year,month))\n"
   ]
  },
  {
   "cell_type": "code",
   "execution_count": 13,
   "id": "b2986126-a39e-4e91-b7ec-10382363e3b3",
   "metadata": {},
   "outputs": [
    {
     "name": "stdout",
     "output_type": "stream",
     "text": [
      "\n",
      "a string that you \"don't\" have to escape\n",
      "This\n",
      "is a  ....... multi-line\n",
      "heredoc string --------> example\n",
      "\n"
     ]
    }
   ],
   "source": [
    "#Task13\n",
    "print('''\n",
    "a string that you \"don't\" have to escape\n",
    "This\n",
    "is a  ....... multi-line\n",
    "heredoc string --------> example\n",
    "''')"
   ]
  },
  {
   "cell_type": "code",
   "execution_count": 14,
   "id": "09ff154c-5915-46c6-be0f-684eb1f9ff08",
   "metadata": {},
   "outputs": [
    {
     "name": "stdout",
     "output_type": "stream",
     "text": [
      "8386 days, 0:00:00\n"
     ]
    }
   ],
   "source": [
    "#Task14\n",
    "from datetime import date,datetime\n",
    "old_date = date(2001, 8, 6)\n",
    "new_date = date(2024,7,22)\n",
    "result=new_date-old_date\n",
    "print(result)"
   ]
  },
  {
   "cell_type": "code",
   "execution_count": 15,
   "id": "3cfecd10-312c-4ade-8e7d-0d6b634ebd74",
   "metadata": {},
   "outputs": [
    {
     "name": "stdout",
     "output_type": "stream",
     "text": [
      "904.7786842338603\n"
     ]
    }
   ],
   "source": [
    "#Task15\n",
    "from math import pi\n",
    "radius=6\n",
    "volume=(4/3)*pi*radius**3\n",
    "print(volume)"
   ]
  },
  {
   "cell_type": "code",
   "execution_count": 16,
   "id": "f03d4735-a0e9-436e-8b91-caa53aff7d11",
   "metadata": {},
   "outputs": [
    {
     "name": "stdout",
     "output_type": "stream",
     "text": [
      "6\n"
     ]
    }
   ],
   "source": [
    "#Task16\n",
    "number=20\n",
    "if number >17:\n",
    "    print(f'{(number-17)*2}')\n",
    "else:\n",
    "    print(f'{17-number}')\n"
   ]
  },
  {
   "cell_type": "code",
   "execution_count": 17,
   "id": "8fde024e-7ae9-4721-a9ba-955c49d0c8ca",
   "metadata": {},
   "outputs": [
    {
     "name": "stdout",
     "output_type": "stream",
     "text": [
      "True\n",
      "True\n",
      "False\n",
      "True\n"
     ]
    }
   ],
   "source": [
    "#Task17\n",
    "def near (number):\n",
    "    return (abs(2000-number)<=100 ) or (abs(1000-number)<=100 )\n",
    "print(near(2000))\n",
    "print(near(1090))\n",
    "print(near(800))\n",
    "print(near(900))"
   ]
  },
  {
   "cell_type": "code",
   "execution_count": 18,
   "id": "dfbda397-1510-44f8-bd2f-6417a9a42ebb",
   "metadata": {},
   "outputs": [
    {
     "name": "stdout",
     "output_type": "stream",
     "text": [
      "10\n",
      "5\n",
      "27\n"
     ]
    }
   ],
   "source": [
    "#Task18\n",
    "def sum(num1,num2,num3):\n",
    "    result=num1+num2+num3\n",
    "    if(num1==num2==num3):\n",
    "        return result*3\n",
    "    else:\n",
    "        return result\n",
    "print(sum(1,4,5))\n",
    "print(sum(1,1,3))\n",
    "print(sum(3,3,3))"
   ]
  },
  {
   "cell_type": "code",
   "execution_count": 19,
   "id": "fca3120d-1ad6-4a40-9078-990b5d4676cd",
   "metadata": {},
   "outputs": [
    {
     "name": "stdout",
     "output_type": "stream",
     "text": [
      "IsOmar\n",
      "IsOmar\n"
     ]
    }
   ],
   "source": [
    "#Task19\n",
    "def is_func (str):\n",
    "    if(str[0:2:1]=='Is'):\n",
    "        return str\n",
    "    else:\n",
    "        return 'Is'+str\n",
    "\n",
    "print(is_func('IsOmar'))\n",
    "print(is_func('Omar'))"
   ]
  },
  {
   "cell_type": "code",
   "execution_count": 20,
   "id": "91b58103-60e6-4ce7-98cb-edbe11754aa0",
   "metadata": {},
   "outputs": [
    {
     "name": "stdout",
     "output_type": "stream",
     "text": [
      "OmarOmarOmar\n"
     ]
    }
   ],
   "source": [
    "#Task20\n",
    "def copy_str(str,num):\n",
    "    new_str=''\n",
    "    for i in range(num):\n",
    "        new_str+=str\n",
    "    return new_str\n",
    "\n",
    "print(copy_str('Omar',3))"
   ]
  },
  {
   "cell_type": "code",
   "execution_count": 21,
   "id": "90510bbd-ab87-44b4-b055-1dd21232a4e2",
   "metadata": {},
   "outputs": [
    {
     "name": "stdin",
     "output_type": "stream",
     "text": [
      "Enter the number :  55\n"
     ]
    },
    {
     "name": "stdout",
     "output_type": "stream",
     "text": [
      "This is odd number \n"
     ]
    }
   ],
   "source": [
    "#Task21\n",
    "number=int(input('Enter the number : '))\n",
    "if number%2==0:\n",
    "    print(\"This is even number \")\n",
    "else:\n",
    "    print(\"This is odd number \")"
   ]
  },
  {
   "cell_type": "code",
   "execution_count": 22,
   "id": "c2a31846-9a62-4246-a4cb-cff9dde36c8f",
   "metadata": {},
   "outputs": [
    {
     "name": "stdout",
     "output_type": "stream",
     "text": [
      "2\n",
      "5\n"
     ]
    }
   ],
   "source": [
    "#Task22\n",
    "def number_4 (numbers):\n",
    "    counter=0\n",
    "    for i in range(len(numbers)):\n",
    "        if numbers[i]==4:\n",
    "            counter+=1\n",
    "    return counter\n",
    "print(number_4([1, 4, 6, 7, 4]))\n",
    "print(number_4([1, 4, 6, 4, 7, 4,9,4,4])) "
   ]
  },
  {
   "cell_type": "code",
   "execution_count": 23,
   "id": "7459fda6-d723-464c-84e3-0309658121a0",
   "metadata": {},
   "outputs": [
    {
     "name": "stdout",
     "output_type": "stream",
     "text": [
      "OmOmOm\n",
      "OmOmOm\n",
      "OOO\n"
     ]
    }
   ],
   "source": [
    "#Task23\n",
    "def copies (str,number):\n",
    "    f_s_str=''\n",
    "    new_str=''\n",
    "    if(len(str)>=2):\n",
    "        f_s_str+=str[0:2]\n",
    "        for i in range (number):\n",
    "            new_str+=f_s_str\n",
    "    else:\n",
    "        for i in range(number):\n",
    "            new_str+=str\n",
    "        \n",
    "    return new_str\n",
    "\n",
    "print(copies('Omar Mohamed Baly',3))\n",
    "print(copies('Om',3))\n",
    "print(copies('O',3))\n",
    "    "
   ]
  },
  {
   "cell_type": "code",
   "execution_count": 24,
   "id": "a4d78392-6ade-40c2-976e-82c730dc4647",
   "metadata": {},
   "outputs": [
    {
     "name": "stdout",
     "output_type": "stream",
     "text": [
      "False\n",
      "True\n",
      "True\n",
      "False\n"
     ]
    }
   ],
   "source": [
    "#Task24\n",
    "def vowel (c):\n",
    "    vowels = 'aeoiu'\n",
    "    return c in vowels\n",
    "    \n",
    "print(vowel('v'))\n",
    "print(vowel('o'))\n",
    "print(vowel('e'))\n",
    "print(vowel('P'))\n",
    "\n",
    "        \n"
   ]
  },
  {
   "cell_type": "code",
   "execution_count": 25,
   "id": "f71f6c2e-6731-44e1-bf0d-f0c2baa15b09",
   "metadata": {},
   "outputs": [
    {
     "name": "stdout",
     "output_type": "stream",
     "text": [
      "True\n",
      "False\n",
      "True\n",
      "False\n"
     ]
    }
   ],
   "source": [
    "#Task25\n",
    "def is_here (number):\n",
    "    l=[1,7,8,9,5,3]\n",
    "    for i in range(len(l)):\n",
    "        if number==l[i]:\n",
    "            return True\n",
    "    return False\n",
    "print(is_here(7))\n",
    "print(is_here(6))\n",
    "print(is_here(9))\n",
    "print(is_here(-9))\n"
   ]
  },
  {
   "cell_type": "code",
   "execution_count": 26,
   "id": "ec08a004-c6f1-4270-a460-b19d46f200e3",
   "metadata": {},
   "outputs": [
    {
     "name": "stdout",
     "output_type": "stream",
     "text": [
      "******\n",
      "***\n",
      "****\n",
      "**\n"
     ]
    }
   ],
   "source": [
    "#Task26\n",
    "def histo (numbers):    \n",
    "    for i in numbers:\n",
    "        result=''\n",
    "        hash_num=0\n",
    "        hash_num=i\n",
    "        while hash_num>0 :\n",
    "            result+='*'\n",
    "            hash_num-=1\n",
    "        print(result)\n",
    "        \n",
    "histo([6,3,4,2])\n",
    "\n"
   ]
  },
  {
   "cell_type": "code",
   "execution_count": 27,
   "id": "f63f9917-c2eb-41a3-a0c9-fddcc2782ab3",
   "metadata": {},
   "outputs": [
    {
     "data": {
      "text/plain": [
       "'15138'"
      ]
     },
     "execution_count": 27,
     "metadata": {},
     "output_type": "execute_result"
    }
   ],
   "source": [
    "#Task27\n",
    "def conc(numbers):\n",
    "    result=''\n",
    "    for i in numbers:\n",
    "        result+=str(i)\n",
    "    return result\n",
    "conc([1,5,13,8])"
   ]
  },
  {
   "cell_type": "code",
   "execution_count": 28,
   "id": "4876680e-4604-4e12-829a-886992e3033e",
   "metadata": {},
   "outputs": [
    {
     "name": "stdout",
     "output_type": "stream",
     "text": [
      "386\n",
      "462\n",
      "418\n",
      "344\n",
      "236\n",
      "566\n",
      "978\n",
      "328\n",
      "162\n",
      "758\n",
      "918\n",
      "237\n"
     ]
    }
   ],
   "source": [
    "#Task28\n",
    "numbers = [    \n",
    "    386, 462, 47, 418, 907, 344, 236, 375, 823, 566, 597, 978, 328, 615, 953, 345, \n",
    "    399, 162, 758, 219, 918, 237, 412, 566, 826, 248, 866, 950, 626, 949, 687, 217, \n",
    "    815, 67, 104, 58, 512, 24, 892, 894, 767, 553, 81, 379, 843, 831, 445, 742, 717, \n",
    "    958,743, 527\n",
    "    ]\n",
    "for i in range (len(numbers)):             \n",
    "    if numbers[i]==237:\n",
    "        print(numbers[i])\n",
    "        break                \n",
    "    elif numbers[i]%2==0:\n",
    "        print(numbers[i])\n",
    "        "
   ]
  },
  {
   "cell_type": "code",
   "execution_count": 29,
   "id": "350c554a-e30a-42c0-a617-9d4adf048da4",
   "metadata": {},
   "outputs": [
    {
     "name": "stdout",
     "output_type": "stream",
     "text": [
      "White\n",
      "Black\n"
     ]
    }
   ],
   "source": [
    "#Task29\n",
    "color_list_1 = [\"White\", \"Black\", \"Red\"]\n",
    "color_list_2 = [\"Red\", \"Green\"]\n",
    "for i in color_list_1 :\n",
    "    if i not in color_list_2 : \n",
    "        print(i)\n",
    "    \n",
    "    "
   ]
  },
  {
   "cell_type": "code",
   "execution_count": 30,
   "id": "dc06a5bf-688f-465d-9555-26b4d76ccec3",
   "metadata": {},
   "outputs": [
    {
     "name": "stdin",
     "output_type": "stream",
     "text": [
      "Enter the base of the triangle :  5\n",
      "Enter the height of the triangle :  9\n"
     ]
    },
    {
     "name": "stdout",
     "output_type": "stream",
     "text": [
      "22.5\n"
     ]
    }
   ],
   "source": [
    "#Task30\n",
    "base=float(input(\"Enter the base of the triangle : \"))\n",
    "height=float(input(\"Enter the height of the triangle : \"))\n",
    "area=(1/2)*base*height\n",
    "print(area)"
   ]
  },
  {
   "cell_type": "code",
   "execution_count": 31,
   "id": "c3e61115-62f7-4f74-a7b9-6f25e95c3ea2",
   "metadata": {},
   "outputs": [
    {
     "name": "stdout",
     "output_type": "stream",
     "text": [
      "24\n",
      "2\n",
      "1\n",
      "360\n"
     ]
    }
   ],
   "source": [
    "#Task31\n",
    "def common_div(num1,num2):\n",
    "    number=1\n",
    "    div_number=2\n",
    "    while True:\n",
    "        if num1%div_number==0 and num2%div_number==0:\n",
    "            number*=div_number\n",
    "            num1/=div_number\n",
    "            num2/=div_number\n",
    "\n",
    "        else:\n",
    "            if num1/div_number<1 or num2/div_number<1:\n",
    "                break\n",
    "            div_number+=1\n",
    "     \n",
    "    return number\n",
    "\n",
    "print(common_div(336,360))\n",
    "print(common_div(6,4))\n",
    "print(common_div(12,17))\n",
    "print(common_div(360,360))"
   ]
  },
  {
   "cell_type": "code",
   "execution_count": 32,
   "id": "0a3782ab-f2b4-4617-9a37-879030e35781",
   "metadata": {},
   "outputs": [
    {
     "name": "stdout",
     "output_type": "stream",
     "text": [
      "12.0\n",
      "255.0\n",
      "5040.0\n"
     ]
    }
   ],
   "source": [
    "#Task32\n",
    "def multip_div(num1,num2):\n",
    "    org_num1=num1\n",
    "    org_num2=num2\n",
    "    number=1\n",
    "    div_number=2\n",
    "    while True:\n",
    "        if num1%div_number==0 and num2%div_number==0:\n",
    "            number*=div_number\n",
    "            num1/=div_number\n",
    "            num2/=div_number\n",
    "\n",
    "        else:\n",
    "            if num1/div_number<1 or num2/div_number<1:\n",
    "                break\n",
    "            div_number+=1\n",
    "     \n",
    "    return (org_num1*org_num2)/number\n",
    "\n",
    "print(multip_div(4,6))\n",
    "print(multip_div(15,17))\n",
    "print(multip_div(336,360))"
   ]
  },
  {
   "cell_type": "code",
   "execution_count": 33,
   "id": "ce22cca6-b7bc-4341-84ca-05382f274941",
   "metadata": {},
   "outputs": [
    {
     "name": "stdout",
     "output_type": "stream",
     "text": [
      "6\n",
      "0\n",
      "10\n"
     ]
    }
   ],
   "source": [
    "#Task33\n",
    "def sum (num1,num2,num3):\n",
    "    if num1==num2 or num1==num3 or num2==num3 :\n",
    "        result=0\n",
    "    else :\n",
    "        result=num1+num2+num3\n",
    "    return result\n",
    "print(sum(1,2,3))\n",
    "print(sum(1,1,3))\n",
    "print(sum(1,5,4))"
   ]
  },
  {
   "cell_type": "code",
   "execution_count": 34,
   "id": "82143f19-8357-448c-9c46-df094041ce0d",
   "metadata": {},
   "outputs": [
    {
     "name": "stdout",
     "output_type": "stream",
     "text": [
      "20\n",
      "4\n",
      "20\n"
     ]
    }
   ],
   "source": [
    "#Task34\n",
    "def sum (num1,num2):\n",
    "    result=num1+num2\n",
    "    if result>15 and result<20:\n",
    "        result=20\n",
    "    return result\n",
    "print(sum(15,2))\n",
    "print(sum(3,1))\n",
    "print(sum(18,1))"
   ]
  },
  {
   "cell_type": "code",
   "execution_count": 35,
   "id": "c13ebcfd-5abf-4f6a-b9ba-5ea8ecbf38db",
   "metadata": {},
   "outputs": [
    {
     "name": "stdout",
     "output_type": "stream",
     "text": [
      "True\n",
      "True\n",
      "True\n",
      "False\n"
     ]
    }
   ],
   "source": [
    "#Task35\n",
    "def fun (num1,num2):\n",
    "    sum=num1+num2\n",
    "    diff=num1-num2\n",
    "    if num1==num2 or sum==5 or diff==5 or diff==-5:\n",
    "        return True\n",
    "    return False\n",
    "print(fun(2,2))\n",
    "print(fun(4,1))\n",
    "print(fun(10,5))\n",
    "print(fun(11,5))"
   ]
  },
  {
   "cell_type": "code",
   "execution_count": 36,
   "id": "837d0bc1-fe4b-40ca-aedf-62f203c09f28",
   "metadata": {},
   "outputs": [
    {
     "name": "stdout",
     "output_type": "stream",
     "text": [
      "11\n",
      "Invalid\n",
      "Invalid\n"
     ]
    }
   ],
   "source": [
    "#Task36\n",
    "def add (num1,num2):\n",
    "    if type(num1) is int and type(num2) is int :\n",
    "        return num1+num2\n",
    "    else :\n",
    "        return \"Invalid\"\n",
    "print(add(5,6))\n",
    "print(add(5,6.36))\n",
    "print(add(5,'afmf'))   "
   ]
  },
  {
   "cell_type": "code",
   "execution_count": 37,
   "id": "634d27a9-34d4-474d-9538-8e6ebf9014a5",
   "metadata": {},
   "outputs": [
    {
     "name": "stdout",
     "output_type": "stream",
     "text": [
      "Name : Omar Baly\n",
      "Age : 23\n",
      "address : Gharbia\n"
     ]
    }
   ],
   "source": [
    "#Task37\n",
    "name,age,address =\"Omar Baly\",23,\"Gharbia\"\n",
    "print(f'Name : {name}\\nAge : {age}\\naddress : {address}')"
   ]
  },
  {
   "cell_type": "code",
   "execution_count": 38,
   "id": "2861dd31-2f9a-4b84-aa48-f0324a1c5eaf",
   "metadata": {},
   "outputs": [
    {
     "data": {
      "text/plain": [
       "'(4+3)^2) = 49'"
      ]
     },
     "execution_count": 38,
     "metadata": {},
     "output_type": "execute_result"
    }
   ],
   "source": [
    "#Task38\n",
    "def prob (x,y):\n",
    "    sum=(x+y)**2\n",
    "    return f\"({x}+{y})^2) = {sum}\"\n",
    "\n",
    "prob(4,3)"
   ]
  },
  {
   "cell_type": "code",
   "execution_count": 39,
   "id": "3eae8661-7bba-42f4-bcf9-4b7542b43896",
   "metadata": {},
   "outputs": [
    {
     "name": "stdout",
     "output_type": "stream",
     "text": [
      "12722.792627665729\n"
     ]
    }
   ],
   "source": [
    "#Task39\n",
    "amt = 10000\n",
    "int = 3.5\n",
    "years = 7\n",
    "fv=amt*((1+(3.5/100))**years)\n",
    "print(fv)"
   ]
  },
  {
   "cell_type": "code",
   "execution_count": 40,
   "id": "93636be5-7fbc-4833-8cf7-150f3303d768",
   "metadata": {},
   "outputs": [
    {
     "name": "stdout",
     "output_type": "stream",
     "text": [
      "5.385164807134504\n"
     ]
    }
   ],
   "source": [
    "#Task40\n",
    "point1=[10,5]\n",
    "point2=[5,3]\n",
    "distance=(((point1[0]-point2[0])**2)+((point1[1]-point2[1])**2))**(1/2)\n",
    "print(distance)"
   ]
  },
  {
   "cell_type": "code",
   "execution_count": 41,
   "id": "6174f00d-ba79-4a3b-8095-4591eab6f351",
   "metadata": {},
   "outputs": [
    {
     "name": "stdout",
     "output_type": "stream",
     "text": [
      "False\n",
      "True\n"
     ]
    }
   ],
   "source": [
    "#Task41\n",
    "import os.path\n",
    "print(os.path.exists(r'C:\\Users\\omarbaly\\Desktop\\medicalapp\\omar'))\n",
    "print(os.path.exists(r'C:\\Users\\omarbaly\\Desktop\\medicalapp'))"
   ]
  },
  {
   "cell_type": "code",
   "execution_count": 42,
   "id": "eab7c2a4-2431-42d7-ab09-6a2e7d3054d7",
   "metadata": {},
   "outputs": [
    {
     "name": "stdout",
     "output_type": "stream",
     "text": [
      "8\n"
     ]
    }
   ],
   "source": [
    "#Task42\n",
    "import struct\n",
    "print(struct.calcsize(\"p\") * 8)"
   ]
  },
  {
   "cell_type": "code",
   "execution_count": 43,
   "id": "840af1bc-c289-46f9-9622-48f08f6ba14e",
   "metadata": {},
   "outputs": [
    {
     "name": "stdout",
     "output_type": "stream",
     "text": [
      "Name of the operating system: nt\n",
      "Name of the OS system: Windows\n",
      "Version of the operating system: 10\n"
     ]
    }
   ],
   "source": [
    "#Task43\n",
    "import platform\n",
    "import os\n",
    "print(\"Name of the operating system:\", os.name)\n",
    "print(\"Name of the OS system:\", platform.system())\n",
    "print(\"Version of the operating system:\", platform.release())"
   ]
  },
  {
   "cell_type": "code",
   "execution_count": 44,
   "id": "c6c67fdf-4d8f-4080-84b8-48960a18e4a6",
   "metadata": {},
   "outputs": [
    {
     "name": "stdout",
     "output_type": "stream",
     "text": [
      "['C:\\\\Users\\\\omarbaly\\\\AppData\\\\Local\\\\anaconda3', 'C:\\\\Users\\\\omarbaly\\\\AppData\\\\Local\\\\anaconda3\\\\Lib\\\\site-packages']\n"
     ]
    }
   ],
   "source": [
    "#Task44\n",
    "import site\n",
    "print(site.getsitepackages())"
   ]
  },
  {
   "cell_type": "code",
   "execution_count": 45,
   "id": "8c5f0c89-2873-48f7-b7db-17094c6cd395",
   "metadata": {},
   "outputs": [],
   "source": [
    "#Task45\n"
   ]
  },
  {
   "cell_type": "code",
   "execution_count": 46,
   "id": "76bc03bc-fb46-426b-9b2b-a76a242bf50f",
   "metadata": {},
   "outputs": [],
   "source": [
    "#Task46\n",
    "\n"
   ]
  },
  {
   "cell_type": "code",
   "execution_count": 47,
   "id": "2c8d23aa-ef47-4af0-b243-0c4166d7074d",
   "metadata": {},
   "outputs": [
    {
     "name": "stdout",
     "output_type": "stream",
     "text": [
      "8\n"
     ]
    }
   ],
   "source": [
    "#Task47\n",
    "import multiprocessing\n",
    "cpu = multiprocessing.cpu_count()\n",
    "\n",
    "print(cpu)"
   ]
  },
  {
   "cell_type": "code",
   "execution_count": 120,
   "id": "734d2cff-62c3-4c29-b3a9-ce0caee993e6",
   "metadata": {},
   "outputs": [
    {
     "data": {
      "text/plain": [
       "\"#Task48\\nx='68.2001'\\ndec=float(x)\\nprint(dec)\\nprint(int(dec))\""
      ]
     },
     "execution_count": 120,
     "metadata": {},
     "output_type": "execute_result"
    }
   ],
   "source": [
    "'''#Task48\n",
    "x='68.2001'\n",
    "dec=float(x)\n",
    "print(dec)\n",
    "print(int(dec))'''"
   ]
  },
  {
   "cell_type": "code",
   "execution_count": null,
   "id": "2000caca-7ea3-4437-8560-35b61a605997",
   "metadata": {},
   "outputs": [],
   "source": [
    "#Task49\n"
   ]
  },
  {
   "cell_type": "code",
   "execution_count": 102,
   "id": "a84044e0-6603-473e-8097-186d069f32be",
   "metadata": {},
   "outputs": [
    {
     "name": "stdout",
     "output_type": "stream",
     "text": [
      "+++++"
     ]
    }
   ],
   "source": [
    "#Task50\n",
    "for i in range (5):\n",
    "    print('+',end='')\n"
   ]
  },
  {
   "cell_type": "code",
   "execution_count": null,
   "id": "2e289cdd-bf8d-4db2-97d7-cb8526b1431e",
   "metadata": {},
   "outputs": [],
   "source": [
    "#Task51"
   ]
  },
  {
   "cell_type": "code",
   "execution_count": null,
   "id": "6cfcfda6-5741-4789-b8c5-4955634a9290",
   "metadata": {},
   "outputs": [],
   "source": [
    "#Task52"
   ]
  },
  {
   "cell_type": "code",
   "execution_count": 104,
   "id": "f1f654fc-6313-4380-b9e8-ef91dacdd928",
   "metadata": {},
   "outputs": [
    {
     "name": "stdout",
     "output_type": "stream",
     "text": [
      "environ({'ALLUSERSPROFILE': 'C:\\\\ProgramData', 'APPDATA': 'C:\\\\Users\\\\omarbaly\\\\AppData\\\\Roaming', 'COMMONPROGRAMFILES': 'C:\\\\Program Files\\\\Common Files', 'COMMONPROGRAMFILES(X86)': 'C:\\\\Program Files (x86)\\\\Common Files', 'COMMONPROGRAMW6432': 'C:\\\\Program Files\\\\Common Files', 'COMPUTERNAME': 'OMARBALY', 'COMSPEC': 'C:\\\\Windows\\\\system32\\\\cmd.exe', 'CONDA_DEFAULT_ENV': 'base', 'CONDA_EXE': 'C:\\\\Users\\\\omarbaly\\\\AppData\\\\Local\\\\anaconda3\\\\Scripts\\\\conda.exe', 'CONDA_PROMPT_MODIFIER': '(base) ', 'CONDA_PYTHON_EXE': 'C:\\\\Users\\\\omarbaly\\\\AppData\\\\Local\\\\anaconda3\\\\python.exe', 'CONDA_SHLVL': '1', 'DRIVERDATA': 'C:\\\\Windows\\\\System32\\\\Drivers\\\\DriverData', 'EFC_17208': '1', 'FPS_BROWSER_APP_PROFILE_STRING': 'Internet Explorer', 'FPS_BROWSER_USER_PROFILE_STRING': 'Default', 'HOMEDRIVE': 'C:', 'HOMEPATH': '\\\\Users\\\\omarbaly', 'JAVA_HOME': 'C:\\\\Program Files\\\\Java\\\\jdk-18.0.2', 'LOCALAPPDATA': 'C:\\\\Users\\\\omarbaly\\\\AppData\\\\Local', 'LOGONSERVER': '\\\\\\\\OMARBALY', 'NIDAQMXSWITCHDIR': 'C:\\\\Program Files (x86)\\\\National Instruments\\\\NI-DAQ\\\\Switch\\\\', 'NIEXTCCOMPILERSUPP': 'C:\\\\Program Files (x86)\\\\National Instruments\\\\Shared\\\\ExternalCompilerSupport\\\\C\\\\', 'NUMBER_OF_PROCESSORS': '8', 'ONEDRIVE': 'C:\\\\Users\\\\omarbaly\\\\OneDrive', 'OS': 'Windows_NT', 'PATH': 'C:\\\\Users\\\\omarbaly\\\\AppData\\\\Local\\\\anaconda3;C:\\\\Users\\\\omarbaly\\\\AppData\\\\Local\\\\anaconda3\\\\Library\\\\mingw-w64\\\\bin;C:\\\\Users\\\\omarbaly\\\\AppData\\\\Local\\\\anaconda3\\\\Library\\\\usr\\\\bin;C:\\\\Users\\\\omarbaly\\\\AppData\\\\Local\\\\anaconda3\\\\Library\\\\bin;C:\\\\Users\\\\omarbaly\\\\AppData\\\\Local\\\\anaconda3\\\\Scripts;C:\\\\Users\\\\omarbaly\\\\AppData\\\\Local\\\\anaconda3\\\\bin;C:\\\\Users\\\\omarbaly\\\\AppData\\\\Local\\\\anaconda3\\\\condabin;C:\\\\Users\\\\omarbaly\\\\AppData\\\\Local\\\\anaconda3;C:\\\\Users\\\\omarbaly\\\\AppData\\\\Local\\\\anaconda3\\\\Library\\\\mingw-w64\\\\bin;C:\\\\Users\\\\omarbaly\\\\AppData\\\\Local\\\\anaconda3\\\\Library\\\\usr\\\\bin;C:\\\\Users\\\\omarbaly\\\\AppData\\\\Local\\\\anaconda3\\\\Library\\\\bin;C:\\\\Users\\\\omarbaly\\\\AppData\\\\Local\\\\anaconda3\\\\Scripts;C:\\\\Program Files\\\\Common Files\\\\Oracle\\\\Java\\\\javapath;C:\\\\Program Files (x86)\\\\Common Files\\\\Oracle\\\\Java\\\\javapath;C:\\\\Windows\\\\system32;C:\\\\Windows;C:\\\\Windows\\\\System32\\\\Wbem;C:\\\\Windows\\\\System32\\\\WindowsPowerShell\\\\v1.0;C:\\\\Windows\\\\System32\\\\OpenSSH;C:\\\\Program Files\\\\MATLAB\\\\R2023b\\\\runtime\\\\win64;C:\\\\Program Files\\\\MATLAB\\\\R2023b\\\\bin;C:\\\\Users\\\\omarbaly\\\\AppData\\\\Local\\\\Microsoft\\\\WindowsApps;C:\\\\flutter\\\\bin;.;C:\\\\Users\\\\omarbaly\\\\AppData\\\\Local\\\\Programs\\\\Microsoft VS Code\\\\bin', 'PATHEXT': '.COM;.EXE;.BAT;.CMD;.VBS;.VBE;.JS;.JSE;.WSF;.WSH;.MSC', 'PROCESSOR_ARCHITECTURE': 'AMD64', 'PROCESSOR_IDENTIFIER': 'Intel64 Family 6 Model 158 Stepping 10, GenuineIntel', 'PROCESSOR_LEVEL': '6', 'PROCESSOR_REVISION': '9e0a', 'PROGRAMDATA': 'C:\\\\ProgramData', 'PROGRAMFILES': 'C:\\\\Program Files', 'PROGRAMFILES(X86)': 'C:\\\\Program Files (x86)', 'PROGRAMW6432': 'C:\\\\Program Files', 'PROMPT': '(base) $P$G', 'PSMODULEPATH': 'C:\\\\Program Files\\\\WindowsPowerShell\\\\Modules;C:\\\\Windows\\\\system32\\\\WindowsPowerShell\\\\v1.0\\\\Modules', 'PUBLIC': 'C:\\\\Users\\\\Public', 'SESSIONNAME': 'Console', 'SSL_CERT_FILE': 'C:\\\\Users\\\\omarbaly\\\\AppData\\\\Local\\\\anaconda3\\\\Library\\\\ssl\\\\cacert.pem', 'SYSTEMDRIVE': 'C:', 'SYSTEMROOT': 'C:\\\\Windows', 'TEMP': 'C:\\\\Users\\\\omarbaly\\\\AppData\\\\Local\\\\Temp', 'TMP': 'C:\\\\Users\\\\omarbaly\\\\AppData\\\\Local\\\\Temp', 'USERDNSDOMAIN': 'std.mans.edu.eg', 'USERDOMAIN': 'STD', 'USERDOMAIN_ROAMINGPROFILE': 'STD', 'USERNAME': 'omarbaly', 'USERPROFILE': 'C:\\\\Users\\\\omarbaly', 'WINDIR': 'C:\\\\Windows', 'CONDA_PREFIX': 'C:\\\\Users\\\\omarbaly\\\\AppData\\\\Local\\\\anaconda3', 'CONDA_ROOT': 'C:\\\\Users\\\\omarbaly\\\\AppData\\\\Local\\\\anaconda3', '__CONDA_OPENSLL_CERT_FILE_SET': '\"1\"', 'PYDEVD_USE_FRAME_EVAL': 'NO', 'JPY_SESSION_NAME': 'C:\\\\Users\\\\omarbaly\\\\Downloads\\\\Tasks.ipynb', 'JPY_INTERRUPT_EVENT': '3676', 'IPY_INTERRUPT_EVENT': '3676', 'JPY_PARENT_PID': '3824', 'TERM': 'xterm-color', 'CLICOLOR': '1', 'FORCE_COLOR': '1', 'CLICOLOR_FORCE': '1', 'PAGER': 'cat', 'GIT_PAGER': 'cat', 'MPLBACKEND': 'module://matplotlib_inline.backend_inline'})\n"
     ]
    }
   ],
   "source": [
    "#Task53\n",
    "import os\n",
    "print(os.environ)"
   ]
  },
  {
   "cell_type": "code",
   "execution_count": 106,
   "id": "3a1aef97-1fad-4254-9821-4ef0493f79da",
   "metadata": {},
   "outputs": [
    {
     "name": "stdout",
     "output_type": "stream",
     "text": [
      "omarbaly\n"
     ]
    }
   ],
   "source": [
    "#Task54\n",
    "import getpass\n",
    "print(getpass.getuser())"
   ]
  },
  {
   "cell_type": "code",
   "execution_count": null,
   "id": "a1b59450-fb35-4ef7-b573-65199740c617",
   "metadata": {},
   "outputs": [],
   "source": [
    "#Task55\n"
   ]
  },
  {
   "cell_type": "code",
   "execution_count": null,
   "id": "beb41e8f-266f-4e51-8a30-0ca065970eca",
   "metadata": {},
   "outputs": [],
   "source": [
    "#Task56"
   ]
  },
  {
   "cell_type": "code",
   "execution_count": 108,
   "id": "313b9d28-0f54-4364-bbe1-cfe9e839573d",
   "metadata": {},
   "outputs": [
    {
     "name": "stdout",
     "output_type": "stream",
     "text": [
      "(15, 0.0)\n"
     ]
    }
   ],
   "source": [
    "#Task57\n",
    "import time\n",
    "\n",
    "def sum(number):    \n",
    "    x=0\n",
    "    start=time.time()\n",
    "    for i in range (1,number):\n",
    "        x+=i\n",
    "\n",
    "    end=time.time()\n",
    "\n",
    "    return x,end - start\n",
    "print(sum(6))\n"
   ]
  },
  {
   "cell_type": "code",
   "execution_count": 1,
   "id": "6c7d90fb-6660-4d60-8262-f1265c99beec",
   "metadata": {},
   "outputs": [
    {
     "name": "stdin",
     "output_type": "stream",
     "text": [
      "Enter the number :  5\n"
     ]
    },
    {
     "name": "stdout",
     "output_type": "stream",
     "text": [
      "15\n"
     ]
    }
   ],
   "source": [
    "#Task58\n",
    "number=int(input('Enter the number : '))\n",
    "sum=0\n",
    "while number>0:\n",
    "    sum+=number\n",
    "    number-=1\n",
    "print(sum)    "
   ]
  },
  {
   "cell_type": "code",
   "execution_count": 112,
   "id": "9681236f-fbb7-4f4d-a195-009075d4f58f",
   "metadata": {},
   "outputs": [
    {
     "name": "stdin",
     "output_type": "stream",
     "text": [
      "Enter the height in feets  : 6\n",
      "Enter the height in inches  : 6\n"
     ]
    },
    {
     "name": "stdout",
     "output_type": "stream",
     "text": [
      "Your height is : 198.12 cm\n"
     ]
    }
   ],
   "source": [
    "#Task59\n",
    "feet=float(input('Enter the height in feets  :'))\n",
    "inch=float(input('Enter the height in inches  :'))\n",
    "inch_to_cm=2.54*inch\n",
    "feet_to_cm=30.48*feet\n",
    "height=feet_to_cm+inch_to_cm\n",
    "\n",
    "print(f\"Your height is : {height} cm\")"
   ]
  },
  {
   "cell_type": "code",
   "execution_count": 114,
   "id": "5b8c3f59-8b5a-4548-b71f-7e3fffd9b220",
   "metadata": {},
   "outputs": [
    {
     "name": "stdin",
     "output_type": "stream",
     "text": [
      "Enter the height :  66\n",
      "Enter the base :  6\n"
     ]
    },
    {
     "name": "stdout",
     "output_type": "stream",
     "text": [
      "66.27216610312357\n"
     ]
    }
   ],
   "source": [
    "#Task60\n",
    "h=float(input('Enter the height : '))\n",
    "b=float(input('Enter the base : '))\n",
    "hypo=((h**2)+(b**2))**(1/2)\n",
    "\n",
    "\n",
    "print(hypo)"
   ]
  },
  {
   "cell_type": "code",
   "execution_count": 116,
   "id": "9bab80aa-05c0-4488-a3e3-c20f37693316",
   "metadata": {},
   "outputs": [
    {
     "name": "stdin",
     "output_type": "stream",
     "text": [
      "Enter the distance in feets  : 55\n"
     ]
    },
    {
     "name": "stdout",
     "output_type": "stream",
     "text": [
      "The distance in inches is : 660.0\n",
      "The distance in inches is : 18.333333333333332\n",
      "The distance in inches is : 0.010416666666666666\n"
     ]
    }
   ],
   "source": [
    "#Task61\n",
    "feet=float(input('Enter the distance in feets  :'))\n",
    "inches=feet*12\n",
    "yards=feet/3\n",
    "miles=feet/5280\n",
    "print(f'The distance in inches is : {inches}')\n",
    "print(f'The distance in inches is : {yards}')\n",
    "print(f'The distance in inches is : {miles}')"
   ]
  },
  {
   "cell_type": "code",
   "execution_count": 3,
   "id": "11988a9c-b11d-47ce-baf3-a03be1ae3185",
   "metadata": {},
   "outputs": [
    {
     "name": "stdin",
     "output_type": "stream",
     "text": [
      "Enter the days :  5\n",
      "Enter the hours :  6\n",
      "Enter the minutes :  77\n",
      "Enter the seconds :  88\n"
     ]
    },
    {
     "name": "stdout",
     "output_type": "stream",
     "text": [
      "458308\n"
     ]
    }
   ],
   "source": [
    "#Task62\n",
    "days=int(input('Enter the days : '))\n",
    "hours=int(input('Enter the hours : '))\n",
    "minutes=int(input('Enter the minutes : '))\n",
    "seconds=int(input('Enter the seconds : '))\n",
    "result= (days*24*60*60)+(hours*60*60)+(minutes*60)+seconds\n",
    "print(result)"
   ]
  },
  {
   "cell_type": "code",
   "execution_count": 5,
   "id": "49f35abb-9d07-48e3-8c05-a43d625dc561",
   "metadata": {},
   "outputs": [
    {
     "name": "stdout",
     "output_type": "stream",
     "text": [
      "C:\\Users\\omarbaly\\Downloads\\text.txt\n"
     ]
    }
   ],
   "source": [
    "#Task63\n",
    "import os \n",
    "path=os.path.abspath('text.txt')\n",
    "print(path)"
   ]
  },
  {
   "cell_type": "code",
   "execution_count": 7,
   "id": "eebb362c-b654-4e23-b06c-118811b23fd7",
   "metadata": {},
   "outputs": [
    {
     "name": "stdin",
     "output_type": "stream",
     "text": [
      "Enter the seconds :  86399\n"
     ]
    },
    {
     "name": "stdout",
     "output_type": "stream",
     "text": [
      "days:hours:minutes:seconds 0:23:59:59\n"
     ]
    }
   ],
   "source": [
    "#Task65\n",
    "time=int(input('Enter the seconds : '))\n",
    "days=int(time/60/60/24)\n",
    "time=time%(60*60*24)\n",
    "hours=time/60/60\n",
    "time=time%(60*60)\n",
    "minutes=time/60\n",
    "seconds=time%60\n",
    "print('days:hours:minutes:seconds %i:%i:%i:%i'%(days,hours,minutes,seconds))\n",
    "hours=0"
   ]
  },
  {
   "cell_type": "code",
   "execution_count": 9,
   "id": "6f715516-67ef-4533-85be-7f4f362775e5",
   "metadata": {},
   "outputs": [
    {
     "name": "stdin",
     "output_type": "stream",
     "text": [
      "Input your height :  66\n",
      "Input your weight :  55\n"
     ]
    },
    {
     "name": "stdout",
     "output_type": "stream",
     "text": [
      "your bmi is : 0.012626262626262626\n"
     ]
    }
   ],
   "source": [
    "#Task66\n",
    "height=float(input(\"Input your height : \"))\n",
    "weight=float(input(\"Input your weight : \"))\n",
    "bmi=weight/(height**2)\n",
    "print(f'your bmi is : {bmi}')"
   ]
  },
  {
   "cell_type": "code",
   "execution_count": 11,
   "id": "0fb4ec95-3cf6-4605-ba39-f23cbcbbf150",
   "metadata": {},
   "outputs": [
    {
     "name": "stdin",
     "output_type": "stream",
     "text": [
      "Input pressure in kilopascals:  9966\n"
     ]
    },
    {
     "name": "stdout",
     "output_type": "stream",
     "text": [
      "The pressure in pound per square inch is : 1445.4460948834937 \n",
      "The pressure in mm of mercury is : 74751.14729829755\n",
      "atmp is : 98.35677276091783\n"
     ]
    }
   ],
   "source": [
    "#Task67\n",
    "kpa = float(input(\"Input pressure in kilopascals: \"))\n",
    "psi = kpa / 6.89475729\n",
    "mmhg = kpa * 760 / 101.325\n",
    "atm = kpa / 101.325\n",
    "print(f'The pressure in pound per square inch is : {psi} ')\n",
    "print(f'The pressure in mm of mercury is : {mmhg}')\n",
    "print(f'atmp is : {atm}')"
   ]
  },
  {
   "cell_type": "code",
   "execution_count": 13,
   "id": "dbc5ef3c-148d-4de9-a24c-7785ccfeeb01",
   "metadata": {},
   "outputs": [
    {
     "name": "stdin",
     "output_type": "stream",
     "text": [
      "Enter the number :  55\n"
     ]
    },
    {
     "name": "stdout",
     "output_type": "stream",
     "text": [
      "The result is : 10\n"
     ]
    }
   ],
   "source": [
    "#Task68\n",
    "number=int(input('Enter the number : '))\n",
    "\n",
    "num1=int(number/1000)\n",
    "r1=number%1000\n",
    "\n",
    "num2=int(r1/100)\n",
    "r2=r1%100\n",
    "\n",
    "num3=int(r2/10)\n",
    "num4=r2%10\n",
    "\n",
    "result=num1+num2+num3+num4\n",
    "print(f\"The result is : {result}\")"
   ]
  },
  {
   "cell_type": "code",
   "execution_count": 15,
   "id": "ab8b596f-c439-4a22-ab62-e06f817a9fb4",
   "metadata": {},
   "outputs": [
    {
     "name": "stdin",
     "output_type": "stream",
     "text": [
      "Input first number:  9\n",
      "Input second number:  6\n",
      "Input third number:  5\n"
     ]
    },
    {
     "name": "stdout",
     "output_type": "stream",
     "text": [
      "numbers 5,6,9\n"
     ]
    }
   ],
   "source": [
    "#Task69\n",
    "x = int(input(\"Input first number: \"))\n",
    "y = int(input(\"Input second number: \"))\n",
    "z = int(input(\"Input third number: \"))\n",
    "\n",
    "maxx=max(x,y,z)\n",
    "minn=min(x,y,z)\n",
    "mid=x+y+z-maxx-minn\n",
    "\n",
    "print(f'numbers {minn},{mid},{maxx}')"
   ]
  },
  {
   "cell_type": "code",
   "execution_count": null,
   "id": "f9601201-c909-4885-b860-52acb0433390",
   "metadata": {},
   "outputs": [],
   "source": [
    "#Task70\n"
   ]
  },
  {
   "cell_type": "code",
   "execution_count": null,
   "id": "7c7e3a05-ca1a-4000-9064-c54a4237b09d",
   "metadata": {},
   "outputs": [],
   "source": [
    "#Task71"
   ]
  },
  {
   "cell_type": "code",
   "execution_count": 17,
   "id": "b8e93802-a0ee-475a-877f-f22a36d1cdb0",
   "metadata": {},
   "outputs": [
    {
     "name": "stdout",
     "output_type": "stream",
     "text": [
      "Help on built-in module math:\n",
      "\n",
      "NAME\n",
      "    math\n",
      "\n",
      "DESCRIPTION\n",
      "    This module provides access to the mathematical functions\n",
      "    defined by the C standard.\n",
      "\n",
      "FUNCTIONS\n",
      "    acos(x, /)\n",
      "        Return the arc cosine (measured in radians) of x.\n",
      "        \n",
      "        The result is between 0 and pi.\n",
      "    \n",
      "    acosh(x, /)\n",
      "        Return the inverse hyperbolic cosine of x.\n",
      "    \n",
      "    asin(x, /)\n",
      "        Return the arc sine (measured in radians) of x.\n",
      "        \n",
      "        The result is between -pi/2 and pi/2.\n",
      "    \n",
      "    asinh(x, /)\n",
      "        Return the inverse hyperbolic sine of x.\n",
      "    \n",
      "    atan(x, /)\n",
      "        Return the arc tangent (measured in radians) of x.\n",
      "        \n",
      "        The result is between -pi/2 and pi/2.\n",
      "    \n",
      "    atan2(y, x, /)\n",
      "        Return the arc tangent (measured in radians) of y/x.\n",
      "        \n",
      "        Unlike atan(y/x), the signs of both x and y are considered.\n",
      "    \n",
      "    atanh(x, /)\n",
      "        Return the inverse hyperbolic tangent of x.\n",
      "    \n",
      "    cbrt(x, /)\n",
      "        Return the cube root of x.\n",
      "    \n",
      "    ceil(x, /)\n",
      "        Return the ceiling of x as an Integral.\n",
      "        \n",
      "        This is the smallest integer >= x.\n",
      "    \n",
      "    comb(n, k, /)\n",
      "        Number of ways to choose k items from n items without repetition and without order.\n",
      "        \n",
      "        Evaluates to n! / (k! * (n - k)!) when k <= n and evaluates\n",
      "        to zero when k > n.\n",
      "        \n",
      "        Also called the binomial coefficient because it is equivalent\n",
      "        to the coefficient of k-th term in polynomial expansion of the\n",
      "        expression (1 + x)**n.\n",
      "        \n",
      "        Raises TypeError if either of the arguments are not integers.\n",
      "        Raises ValueError if either of the arguments are negative.\n",
      "    \n",
      "    copysign(x, y, /)\n",
      "        Return a float with the magnitude (absolute value) of x but the sign of y.\n",
      "        \n",
      "        On platforms that support signed zeros, copysign(1.0, -0.0)\n",
      "        returns -1.0.\n",
      "    \n",
      "    cos(x, /)\n",
      "        Return the cosine of x (measured in radians).\n",
      "    \n",
      "    cosh(x, /)\n",
      "        Return the hyperbolic cosine of x.\n",
      "    \n",
      "    degrees(x, /)\n",
      "        Convert angle x from radians to degrees.\n",
      "    \n",
      "    dist(p, q, /)\n",
      "        Return the Euclidean distance between two points p and q.\n",
      "        \n",
      "        The points should be specified as sequences (or iterables) of\n",
      "        coordinates.  Both inputs must have the same dimension.\n",
      "        \n",
      "        Roughly equivalent to:\n",
      "            sqrt(sum((px - qx) ** 2.0 for px, qx in zip(p, q)))\n",
      "    \n",
      "    erf(x, /)\n",
      "        Error function at x.\n",
      "    \n",
      "    erfc(x, /)\n",
      "        Complementary error function at x.\n",
      "    \n",
      "    exp(x, /)\n",
      "        Return e raised to the power of x.\n",
      "    \n",
      "    exp2(x, /)\n",
      "        Return 2 raised to the power of x.\n",
      "    \n",
      "    expm1(x, /)\n",
      "        Return exp(x)-1.\n",
      "        \n",
      "        This function avoids the loss of precision involved in the direct evaluation of exp(x)-1 for small x.\n",
      "    \n",
      "    fabs(x, /)\n",
      "        Return the absolute value of the float x.\n",
      "    \n",
      "    factorial(n, /)\n",
      "        Find n!.\n",
      "        \n",
      "        Raise a ValueError if x is negative or non-integral.\n",
      "    \n",
      "    floor(x, /)\n",
      "        Return the floor of x as an Integral.\n",
      "        \n",
      "        This is the largest integer <= x.\n",
      "    \n",
      "    fmod(x, y, /)\n",
      "        Return fmod(x, y), according to platform C.\n",
      "        \n",
      "        x % y may differ.\n",
      "    \n",
      "    frexp(x, /)\n",
      "        Return the mantissa and exponent of x, as pair (m, e).\n",
      "        \n",
      "        m is a float and e is an int, such that x = m * 2.**e.\n",
      "        If x is 0, m and e are both 0.  Else 0.5 <= abs(m) < 1.0.\n",
      "    \n",
      "    fsum(seq, /)\n",
      "        Return an accurate floating point sum of values in the iterable seq.\n",
      "        \n",
      "        Assumes IEEE-754 floating point arithmetic.\n",
      "    \n",
      "    gamma(x, /)\n",
      "        Gamma function at x.\n",
      "    \n",
      "    gcd(*integers)\n",
      "        Greatest Common Divisor.\n",
      "    \n",
      "    hypot(...)\n",
      "        hypot(*coordinates) -> value\n",
      "        \n",
      "        Multidimensional Euclidean distance from the origin to a point.\n",
      "        \n",
      "        Roughly equivalent to:\n",
      "            sqrt(sum(x**2 for x in coordinates))\n",
      "        \n",
      "        For a two dimensional point (x, y), gives the hypotenuse\n",
      "        using the Pythagorean theorem:  sqrt(x*x + y*y).\n",
      "        \n",
      "        For example, the hypotenuse of a 3/4/5 right triangle is:\n",
      "        \n",
      "            >>> hypot(3.0, 4.0)\n",
      "            5.0\n",
      "    \n",
      "    isclose(a, b, *, rel_tol=1e-09, abs_tol=0.0)\n",
      "        Determine whether two floating point numbers are close in value.\n",
      "        \n",
      "          rel_tol\n",
      "            maximum difference for being considered \"close\", relative to the\n",
      "            magnitude of the input values\n",
      "          abs_tol\n",
      "            maximum difference for being considered \"close\", regardless of the\n",
      "            magnitude of the input values\n",
      "        \n",
      "        Return True if a is close in value to b, and False otherwise.\n",
      "        \n",
      "        For the values to be considered close, the difference between them\n",
      "        must be smaller than at least one of the tolerances.\n",
      "        \n",
      "        -inf, inf and NaN behave similarly to the IEEE 754 Standard.  That\n",
      "        is, NaN is not close to anything, even itself.  inf and -inf are\n",
      "        only close to themselves.\n",
      "    \n",
      "    isfinite(x, /)\n",
      "        Return True if x is neither an infinity nor a NaN, and False otherwise.\n",
      "    \n",
      "    isinf(x, /)\n",
      "        Return True if x is a positive or negative infinity, and False otherwise.\n",
      "    \n",
      "    isnan(x, /)\n",
      "        Return True if x is a NaN (not a number), and False otherwise.\n",
      "    \n",
      "    isqrt(n, /)\n",
      "        Return the integer part of the square root of the input.\n",
      "    \n",
      "    lcm(*integers)\n",
      "        Least Common Multiple.\n",
      "    \n",
      "    ldexp(x, i, /)\n",
      "        Return x * (2**i).\n",
      "        \n",
      "        This is essentially the inverse of frexp().\n",
      "    \n",
      "    lgamma(x, /)\n",
      "        Natural logarithm of absolute value of Gamma function at x.\n",
      "    \n",
      "    log(...)\n",
      "        log(x, [base=math.e])\n",
      "        Return the logarithm of x to the given base.\n",
      "        \n",
      "        If the base not specified, returns the natural logarithm (base e) of x.\n",
      "    \n",
      "    log10(x, /)\n",
      "        Return the base 10 logarithm of x.\n",
      "    \n",
      "    log1p(x, /)\n",
      "        Return the natural logarithm of 1+x (base e).\n",
      "        \n",
      "        The result is computed in a way which is accurate for x near zero.\n",
      "    \n",
      "    log2(x, /)\n",
      "        Return the base 2 logarithm of x.\n",
      "    \n",
      "    modf(x, /)\n",
      "        Return the fractional and integer parts of x.\n",
      "        \n",
      "        Both results carry the sign of x and are floats.\n",
      "    \n",
      "    nextafter(x, y, /)\n",
      "        Return the next floating-point value after x towards y.\n",
      "    \n",
      "    perm(n, k=None, /)\n",
      "        Number of ways to choose k items from n items without repetition and with order.\n",
      "        \n",
      "        Evaluates to n! / (n - k)! when k <= n and evaluates\n",
      "        to zero when k > n.\n",
      "        \n",
      "        If k is not specified or is None, then k defaults to n\n",
      "        and the function returns n!.\n",
      "        \n",
      "        Raises TypeError if either of the arguments are not integers.\n",
      "        Raises ValueError if either of the arguments are negative.\n",
      "    \n",
      "    pow(x, y, /)\n",
      "        Return x**y (x to the power of y).\n",
      "    \n",
      "    prod(iterable, /, *, start=1)\n",
      "        Calculate the product of all the elements in the input iterable.\n",
      "        \n",
      "        The default start value for the product is 1.\n",
      "        \n",
      "        When the iterable is empty, return the start value.  This function is\n",
      "        intended specifically for use with numeric values and may reject\n",
      "        non-numeric types.\n",
      "    \n",
      "    radians(x, /)\n",
      "        Convert angle x from degrees to radians.\n",
      "    \n",
      "    remainder(x, y, /)\n",
      "        Difference between x and the closest integer multiple of y.\n",
      "        \n",
      "        Return x - n*y where n*y is the closest integer multiple of y.\n",
      "        In the case where x is exactly halfway between two multiples of\n",
      "        y, the nearest even value of n is used. The result is always exact.\n",
      "    \n",
      "    sin(x, /)\n",
      "        Return the sine of x (measured in radians).\n",
      "    \n",
      "    sinh(x, /)\n",
      "        Return the hyperbolic sine of x.\n",
      "    \n",
      "    sqrt(x, /)\n",
      "        Return the square root of x.\n",
      "    \n",
      "    tan(x, /)\n",
      "        Return the tangent of x (measured in radians).\n",
      "    \n",
      "    tanh(x, /)\n",
      "        Return the hyperbolic tangent of x.\n",
      "    \n",
      "    trunc(x, /)\n",
      "        Truncates the Real x to the nearest Integral toward 0.\n",
      "        \n",
      "        Uses the __trunc__ magic method.\n",
      "    \n",
      "    ulp(x, /)\n",
      "        Return the value of the least significant bit of the float x.\n",
      "\n",
      "DATA\n",
      "    e = 2.718281828459045\n",
      "    inf = inf\n",
      "    nan = nan\n",
      "    pi = 3.141592653589793\n",
      "    tau = 6.283185307179586\n",
      "\n",
      "FILE\n",
      "    (built-in)\n",
      "\n",
      "\n"
     ]
    }
   ],
   "source": [
    "#Task72\n",
    "import math\n",
    "help(math)"
   ]
  },
  {
   "cell_type": "code",
   "execution_count": 19,
   "id": "b0da8a93-7880-488b-96f3-5e41df847147",
   "metadata": {},
   "outputs": [
    {
     "name": "stdin",
     "output_type": "stream",
     "text": [
      "Enter the x1 coordinate :  6\n",
      "Enter the y1 coordinate :  5\n",
      "Enter the x2 coordinate :  8\n",
      "Enter the y2 coordinate :  6\n"
     ]
    },
    {
     "name": "stdout",
     "output_type": "stream",
     "text": [
      "The midpoint is (7.0,5.5)\n"
     ]
    }
   ],
   "source": [
    "#Task73\n",
    "x11=float(input(\"Enter the x1 coordinate : \"))\n",
    "y12=float(input(\"Enter the y1 coordinate : \"))\n",
    "x21=float(input(\"Enter the x2 coordinate : \"))\n",
    "y22=float(input(\"Enter the y2 coordinate : \"))\n",
    "\n",
    "mid_x=(x11+x21)/2\n",
    "mid_y=(y12+y22)/2\n",
    "print(f'The midpoint is ({mid_x},{mid_y})')"
   ]
  },
  {
   "cell_type": "code",
   "execution_count": null,
   "id": "56e8986c-d2fc-4ac2-ac8d-47723585cf49",
   "metadata": {},
   "outputs": [],
   "source": [
    "#Task74"
   ]
  },
  {
   "cell_type": "code",
   "execution_count": 21,
   "id": "7619108c-5ab2-42f2-8d6c-b6ebb7e8660b",
   "metadata": {},
   "outputs": [
    {
     "name": "stdout",
     "output_type": "stream",
     "text": [
      "Copyright Information \n",
      "Copyright (c) 2001-2023 Python Software Foundation.\n",
      "All Rights Reserved.\n",
      "\n",
      "Copyright (c) 2000 BeOpen.com.\n",
      "All Rights Reserved.\n",
      "\n",
      "Copyright (c) 1995-2001 Corporation for National Research Initiatives.\n",
      "All Rights Reserved.\n",
      "\n",
      "Copyright (c) 1991-1995 Stichting Mathematisch Centrum, Amsterdam.\n",
      "All Rights Reserved.\n"
     ]
    }
   ],
   "source": [
    "#Task75\n",
    "import sys\n",
    "print(f'Copyright Information \\n{sys.copyright}')"
   ]
  },
  {
   "cell_type": "code",
   "execution_count": 23,
   "id": "2c58c512-203e-414b-9090-2e47ec132f37",
   "metadata": {},
   "outputs": [
    {
     "name": "stdout",
     "output_type": "stream",
     "text": [
      "Number of arguments: 3\n",
      "Argument List: \n",
      " ['C:\\\\Users\\\\omarbaly\\\\AppData\\\\Local\\\\anaconda3\\\\Lib\\\\site-packages\\\\ipykernel_launcher.py', '-f', 'C:\\\\Users\\\\omarbaly\\\\AppData\\\\Roaming\\\\jupyter\\\\runtime\\\\kernel-f18d396e-6c7d-4aa8-a90f-a5da0413309b.json']\n"
     ]
    }
   ],
   "source": [
    "#Task76\n",
    "import sys\n",
    "print(\"Number of arguments:\", len(sys.argv))\n",
    "print(\"Argument List: \\n\", str(sys.argv))"
   ]
  },
  {
   "cell_type": "code",
   "execution_count": null,
   "id": "e99e4c26-c4a9-45a9-a23d-83066346c751",
   "metadata": {},
   "outputs": [],
   "source": [
    "#Task77"
   ]
  },
  {
   "cell_type": "code",
   "execution_count": 1,
   "id": "a46c5d54-9f7f-40f5-be67-34a1fa5b0ec6",
   "metadata": {},
   "outputs": [
    {
     "name": "stdout",
     "output_type": "stream",
     "text": [
      "\n",
      "Please wait a moment while I gather a list of all available modules...\n",
      "\n"
     ]
    },
    {
     "name": "stderr",
     "output_type": "stream",
     "text": [
      "C:\\Users\\omarbaly\\AppData\\Local\\anaconda3\\Lib\\site-packages\\paramiko\\transport.py:219: CryptographyDeprecationWarning: Blowfish has been deprecated and will be removed in a future release\n",
      "  \"class\": algorithms.Blowfish,\n",
      "C:\\Users\\omarbaly\\AppData\\Local\\anaconda3\\Lib\\pkgutil.py:92: UserWarning: The numpy.array_api submodule is still experimental. See NEP 47.\n",
      "  __import__(info.name)\n",
      "C:\\Users\\omarbaly\\AppData\\Local\\anaconda3\\Lib\\site-packages\\_distutils_hack\\__init__.py:33: UserWarning: Setuptools is replacing distutils.\n",
      "  warnings.warn(\"Setuptools is replacing distutils.\")\n",
      "No QCoreApplication instance found. Application patches not applied. You have to call load_stylesheet function after instantiation of QApplication to take effect. \n",
      "C:\\Users\\omarbaly\\AppData\\Local\\anaconda3\\Lib\\site-packages\\tqdm\\auto.py:21: TqdmWarning: IProgress not found. Please update jupyter and ipywidgets. See https://ipywidgets.readthedocs.io/en/stable/user_install.html\n",
      "  from .autonotebook import tqdm as notebook_tqdm\n"
     ]
    },
    {
     "name": "stdout",
     "output_type": "stream",
     "text": [
      "IPython             cffi                mailcap             socks\n",
      "PIL                 cgi                 markdown_it         sockshandler\n",
      "PyQt5               cgitb               markupsafe          sortedcontainers\n",
      "__future__          chardet             marshal             soupsieve\n",
      "__hello__           charset_normalizer  math                sphinx\n",
      "__phello__          chunk               matplotlib_inline   spyder\n",
      "_abc                clang               mccabe              spyder_kernels\n",
      "_aix_support        click               mdurl               sqlite3\n",
      "_argon2_cffi_bindings cloudpickle         menuinst            sre_compile\n",
      "_ast                clyent              mimetypes           sre_constants\n",
      "_asyncio            cmath               mistune             sre_parse\n",
      "_bisect             cmd                 mkl                 ssl\n",
      "_black_version      code                mkl_fft             sspi\n",
      "_blake2             codecs              ml_dtypes           sspicon\n",
      "_bootsubprocess     codeop              mmap                stack_data\n",
      "_brotli             collections         mmapfile            stat\n",
      "_bz2                colorama            mmsystem            statistics\n",
      "_cffi_backend       colorsys            modulefinder        string\n",
      "_codecs             comm                more_itertools      stringprep\n",
      "_codecs_cn          commctrl            msgpack             struct\n",
      "_codecs_hk          compileall          msilib              subprocess\n",
      "_codecs_iso2022     concurrent          msvcrt              sunau\n",
      "_codecs_jp          conda               multidict           symtable\n",
      "_codecs_kr          conda_build         multiprocessing     sys\n",
      "_codecs_tw          conda_content_trust mypy_extensions     sysconfig\n",
      "_collections        conda_env           nacl                tabnanny\n",
      "_collections_abc    conda_index         namex               tabulate\n",
      "_compat_pickle      conda_libmamba_solver navigator_updater   tarfile\n",
      "_compression        conda_pack          nbclient            tblib\n",
      "_contextvars        conda_package_handling nbconvert           telnetlib\n",
      "_csv                conda_package_streaming nbformat            tempfile\n",
      "_ctypes             conda_token         nest_asyncio        tensorboard\n",
      "_ctypes_test        conda_verify        netbios             tensorboard_data_server\n",
      "_datetime           configparser        netrc               tensorflow\n",
      "_decimal            contextlib          nntplib             tensorflow_io_gcs_filesystem\n",
      "_distutils_hack     contextvars         notebook            termcolor\n",
      "_elementtree        contourpy           notebook_shim       terminado\n",
      "_functools          cookiecutter        nt                  test\n",
      "_hashlib            copy                ntpath              test_pycosat\n",
      "_heapq              copyreg             ntsecuritycon       text_unidecode\n",
      "_imp                crypt               nturl2path          textdistance\n",
      "_io                 cryptography        numbers             textwrap\n",
      "_json               csv                 numexpr             this\n",
      "_locale             ctypes              numpy               threading\n",
      "_lsprof             curses              numpydoc            three_merge\n",
      "_lzma               cwp                 odbc                time\n",
      "_markupbase         cytoolz             opcode              timeit\n",
      "_md5                dask                operator            timer\n",
      "_msi                dataclasses         opt_einsum          tinycss2\n",
      "_multibytecodec     datetime            optparse            tkinter\n",
      "_multiprocessing    dateutil            optree              tlz\n",
      "_nsis               dbi                 os                  token\n",
      "_opcode             dbm                 overrides           tokenize\n",
      "_operator           dde                 packaging           tomli\n",
      "_osx_support        debugpy             pandas              tomlkit\n",
      "_overlapped         decimal             pandocfilters       tomllib\n",
      "_pickle             decorator           paramiko            toolz\n",
      "_py_abc             defusedxml          parso               tornado\n",
      "_pydecimal          diff_match_patch    partd               tqdm\n",
      "_pyio               difflib             past                trace\n",
      "_queue              dill                pasta               traceback\n",
      "_random             dis                 pathlib             tracemalloc\n",
      "_sha1               distributed         pathspec            traitlets\n",
      "_sha256             distro              pdb                 truststore\n",
      "_sha3               distutils           perfmon             tty\n",
      "_sha512             docstring_to_markdown pexpect             turtle\n",
      "_signal             doctest             pickle              turtledemo\n",
      "_sitebuiltins       docutils            pickleshare         types\n",
      "_socket             dotenv              pickletools         typing\n",
      "_sqlite3            email               pip                 typing_extensions\n",
      "_sre                encodings           pipes               tzdata\n",
      "_ssl                ensurepip           pkce                ujson\n",
      "_stat               entrypoints         pkg_resources       unicodedata\n",
      "_statistics         enum                pkginfo             unidecode\n",
      "_string             errno               pkgutil             unittest\n",
      "_strptime           executing           platform            urllib\n",
      "_struct             fastjsonschema      platformdirs        urllib3\n",
      "_symtable           faulthandler        plistlib            uu\n",
      "_system_path        filecmp             pluggy              uuid\n",
      "_testbuffer         fileinput           ply                 venv\n",
      "_testcapi           filelock            poplib              warnings\n",
      "_testconsole        flake8              posixpath           watchdog\n",
      "_testimportmultiple flatbuffers         pprint              wave\n",
      "_testinternalcapi   fnmatch             profile             wcwidth\n",
      "_testmultiphase     fractions           prometheus_client   weakref\n",
      "_thread             frozendict          prompt_toolkit      webbrowser\n",
      "_threading_local    frozenlist          pstats              webencodings\n",
      "_tkinter            fsspec              psutil              websocket\n",
      "_tokenize           ftplib              pty                 whatthepatch\n",
      "_tracemalloc        functools           ptyprocess          wheel\n",
      "_typing             future              pure_eval           win2kras\n",
      "_uuid               gast                py_compile          win32api\n",
      "_warnings           gc                  pyarrow             win32clipboard\n",
      "_weakref            genericpath         pyclbr              win32com\n",
      "_weakrefset         getopt              pycodestyle         win32con\n",
      "_win32sysloader     getpass             pycosat             win32console\n",
      "_winapi             gettext             pycparser           win32cred\n",
      "_winxptheme         glob                pydantic            win32crypt\n",
      "_xxsubinterpreters  graphlib            pydoc               win32cryptcon\n",
      "_yaml               grpc                pydoc_data          win32ctypes\n",
      "_zoneinfo           gzip                pydocstyle          win32event\n",
      "abc                 h11                 pyexpat             win32evtlog\n",
      "absl                h5py                pyflakes            win32evtlogutil\n",
      "adodbapi            hashlib             pygments            win32file\n",
      "aext_assistant      heapdict            pylint              win32gui\n",
      "aext_assistant_server heapq               pylint_venv         win32gui_struct\n",
      "aext_core           hmac                pyls_spyder         win32help\n",
      "aext_core_server    html                pylsp               win32inet\n",
      "aext_panels         http                pylsp_black         win32inetcon\n",
      "aext_panels_server  httpcore            pylsp_jsonrpc       win32job\n",
      "aext_share_notebook httpx               pythoncom           win32lz\n",
      "aext_share_notebook_server idlelib             pythonjsonlogger    win32net\n",
      "aext_shared         idna                pytoolconfig        win32netcon\n",
      "afxres              imagesize           pytz                win32pdh\n",
      "aifc                imaplib             pywin               win32pdhquery\n",
      "aiohttp             imghdr              pywin32_bootstrap   win32pdhutil\n",
      "aiosignal           imp                 pywin32_testutil    win32pipe\n",
      "alabaster           importlib           pywintypes          win32print\n",
      "anaconda_anon_usage importlib_metadata  qdarkstyle          win32process\n",
      "anaconda_catalogs   inflection          qstylizer           win32profile\n",
      "anaconda_cloud_auth inspect             qtawesome           win32ras\n",
      "anaconda_navigator  intake              qtconsole           win32rcparser\n",
      "anaconda_project    intervaltree        qtpy                win32security\n",
      "antigravity         io                  queue               win32service\n",
      "anyio               ipaddress           quopri              win32serviceutil\n",
      "appdirs             ipykernel           random              win32timezone\n",
      "archspec            ipykernel_launcher  rasutil             win32trace\n",
      "argon2              isapi               re                  win32traceutil\n",
      "argparse            isort               referencing         win32transaction\n",
      "array               itertools           regcheck            win32ts\n",
      "arrow               jedi                regutil             win32ui\n",
      "ast                 jellyfish           repo_cli            win32uiole\n",
      "astroid             jinja2              reprlib             win32verstamp\n",
      "asttokens           json                requests            win32wnet\n",
      "astunparse          json5               requests_toolbelt   win_inet_pton\n",
      "async_lru           jsonpatch           rfc3339_validator   winerror\n",
      "asynchat            jsonpointer         rfc3986_validator   winioctlcon\n",
      "asyncio             jsonschema          rich                winnt\n",
      "asyncore            jsonschema_specifications rlcompleter         winperf\n",
      "atexit              jupyter             rope                winpty\n",
      "atomicwrites        jupyter_client      rpds                winreg\n",
      "attr                jupyter_core        rtree               winsound\n",
      "attrs               jupyter_events      ruamel_yaml         winxpgui\n",
      "audioop             jupyter_lsp         runpy               winxptheme\n",
      "autopep8            jupyter_server      sched               wrapt\n",
      "babel               jupyter_server_terminals secrets             wsgiref\n",
      "backports           jupyterlab          select              xdrlib\n",
      "base64              jupyterlab_pygments selectors           xml\n",
      "bcrypt              jupyterlab_server   semver              xmlrpc\n",
      "bdb                 jwt                 send2trash          xxlimited\n",
      "binaryornot         keras               servicemanager      xxlimited_35\n",
      "binascii            keyring             setuptools          xxsubtype\n",
      "binstar_client      keyword             shelve              xyzservices\n",
      "bisect              lazy_object_proxy   shlex               yaml\n",
      "black               lib2to3             shutil              yapf\n",
      "blackd              libarchive          signal              yapf_third_party\n",
      "bleach              libfuturize         sipbuild            yapftests\n",
      "blib2to3            libmambapy          site                yarl\n",
      "bokeh               libpasteurize       six                 zict\n",
      "boltons             lief                slugify             zipapp\n",
      "bottleneck          linecache           smtpd               zipfile\n",
      "brotli              lmdb                smtplib             zipimport\n",
      "bs4                 locale              snappy              zipp\n",
      "builtins            locket              sndhdr              zlib\n",
      "bz2                 logging             sniffio             zmq\n",
      "cProfile            lz4                 snowballstemmer     zoneinfo\n",
      "calendar            lzma                socket              zstandard\n",
      "certifi             mailbox             socketserver        \n",
      "\n",
      "Enter any module name to get more help.  Or, type \"modules spam\" to search\n",
      "for modules whose name or summary contain the string \"spam\".\n",
      "\n"
     ]
    }
   ],
   "source": [
    "#Task78\n",
    "help('modules')"
   ]
  },
  {
   "cell_type": "code",
   "execution_count": 3,
   "id": "7179f909-9384-41a2-bd61-f819dac53793",
   "metadata": {},
   "outputs": [
    {
     "name": "stdout",
     "output_type": "stream",
     "text": [
      "the size of omar is : 53\n",
      "the size of mohamed is : 56\n",
      "the size of baly is : 53\n",
      "the size of 682001 is : 28\n"
     ]
    }
   ],
   "source": [
    "#Task79\n",
    "import sys\n",
    "x='omar'\n",
    "y='mohamed'\n",
    "z='baly'\n",
    "g=682001\n",
    "\n",
    "print(f'the size of {x} is : {sys.getsizeof(x)}')\n",
    "print(f'the size of {y} is : {sys.getsizeof(y)}')\n",
    "print(f'the size of {z} is : {sys.getsizeof(z)}')\n",
    "print(f'the size of {g} is : {sys.getsizeof(g)}')"
   ]
  },
  {
   "cell_type": "code",
   "execution_count": 5,
   "id": "e0741410-b0a4-456c-880c-011923f5ed95",
   "metadata": {},
   "outputs": [
    {
     "name": "stdout",
     "output_type": "stream",
     "text": [
      "3000\n"
     ]
    }
   ],
   "source": [
    "#Task80\n",
    "import sys\n",
    "\n",
    "print(sys.getrecursionlimit())"
   ]
  },
  {
   "cell_type": "code",
   "execution_count": 7,
   "id": "865bf787-8459-411f-80f8-ef6ba5350531",
   "metadata": {},
   "outputs": [
    {
     "name": "stdout",
     "output_type": "stream",
     "text": [
      "Red-White-Black-\n"
     ]
    }
   ],
   "source": [
    "#Task81\n",
    "all_colors=''\n",
    "colors = ['Red', 'White', 'Black']\n",
    "for i in colors:\n",
    "    all_colors+=(i+'-')\n",
    "\n",
    "print(all_colors)"
   ]
  },
  {
   "cell_type": "code",
   "execution_count": 9,
   "id": "15fea085-8ecd-49fa-9960-9cd38dccd184",
   "metadata": {},
   "outputs": [
    {
     "name": "stdout",
     "output_type": "stream",
     "text": [
      "10\n"
     ]
    }
   ],
   "source": [
    "#Task82\n",
    "l= [5,4,1]\n",
    "sum=0\n",
    "for i in range(len(l)):\n",
    "    sum+=l[i]\n",
    "\n",
    "print(sum)"
   ]
  },
  {
   "cell_type": "code",
   "execution_count": 11,
   "id": "168711a4-fb9f-45e2-b818-ceb372040714",
   "metadata": {},
   "outputs": [
    {
     "name": "stdin",
     "output_type": "stream",
     "text": [
      "Enter the number 66\n"
     ]
    },
    {
     "name": "stdout",
     "output_type": "stream",
     "text": [
      "False\n"
     ]
    }
   ],
   "source": [
    "#Task83\n",
    "user_num = int(input(\"Enter the number\"))\n",
    "num = [2, 3, 4, 5]\n",
    "count=0\n",
    "for numbers in num :\n",
    "    if numbers>user_num :\n",
    "        count+=1\n",
    "print(count==len(num))"
   ]
  },
  {
   "cell_type": "code",
   "execution_count": 13,
   "id": "cc1c4fdd-5748-4e27-9536-ad61f58e4795",
   "metadata": {},
   "outputs": [
    {
     "name": "stdout",
     "output_type": "stream",
     "text": [
      "3\n"
     ]
    }
   ],
   "source": [
    "#Task84\n",
    "str='this is a string'\n",
    "print(str.count('i'))"
   ]
  },
  {
   "cell_type": "code",
   "execution_count": 15,
   "id": "29207c79-babc-422a-9287-f9dd38552428",
   "metadata": {},
   "outputs": [
    {
     "name": "stdout",
     "output_type": "stream",
     "text": [
      "it is a file\n"
     ]
    }
   ],
   "source": [
    "#Task85\n",
    "import os \n",
    "path=r\"C:\\Users\\omarbaly\\Desktop\\text.txt\"\n",
    "if os.path.isdir(path) :\n",
    "    print(\"it's a directory\")\n",
    "elif os.path.isfile(path):\n",
    "    print('it is a file')\n",
    "    \n",
    "else:\n",
    "    print('it is a special file')\n",
    "\n"
   ]
  },
  {
   "cell_type": "code",
   "execution_count": 17,
   "id": "f5dd2f8b-ea3e-434f-bf46-77c0055657e1",
   "metadata": {},
   "outputs": [
    {
     "name": "stdout",
     "output_type": "stream",
     "text": [
      "97\n",
      "65\n",
      "37\n"
     ]
    }
   ],
   "source": [
    "#Task86\n",
    "print(ord('a'))\n",
    "print(ord('A'))\n",
    "print(ord('%'))"
   ]
  },
  {
   "cell_type": "code",
   "execution_count": 19,
   "id": "cf427207-5edd-416e-9531-1246aa7e097f",
   "metadata": {},
   "outputs": [
    {
     "name": "stdout",
     "output_type": "stream",
     "text": [
      "The size is : 139 byte\n"
     ]
    }
   ],
   "source": [
    "#Task87\n",
    "import os\n",
    "size=os.path.getsize(r\"C:\\Users\\omarbaly\\Desktop\\text.txt\")\n",
    "print(f'The size is : {size} byte')"
   ]
  },
  {
   "cell_type": "code",
   "execution_count": 21,
   "id": "537a2ab0-8add-4891-81d5-d3022c631428",
   "metadata": {},
   "outputs": [
    {
     "name": "stdout",
     "output_type": "stream",
     "text": [
      "30+20=50\n"
     ]
    }
   ],
   "source": [
    "#Task88\n",
    "x = 30\n",
    "y = 20\n",
    "print(f'{x}+{y}={x+y}')"
   ]
  },
  {
   "cell_type": "code",
   "execution_count": 23,
   "id": "2e214d93-1e8d-4fb2-9825-688b5e03b2bc",
   "metadata": {},
   "outputs": [
    {
     "name": "stdout",
     "output_type": "stream",
     "text": [
      "First day of a Month!\n"
     ]
    }
   ],
   "source": [
    "#Task89\n",
    "n = 10\n",
    "if n == 10:\n",
    "    print(\"First day of a Month!\")"
   ]
  },
  {
   "cell_type": "code",
   "execution_count": null,
   "id": "eac535a9-1b40-46ed-8454-799746b6942a",
   "metadata": {},
   "outputs": [],
   "source": [
    "#Task90\n",
    "#???????????????????????????"
   ]
  },
  {
   "cell_type": "code",
   "execution_count": 25,
   "id": "5264870f-433d-4b97-bbea-a36dad65ca1d",
   "metadata": {},
   "outputs": [
    {
     "name": "stdout",
     "output_type": "stream",
     "text": [
      "before : x=5,y=10\n",
      "after : x=10,y=5\n"
     ]
    }
   ],
   "source": [
    "#Task91\n",
    "x=5\n",
    "y=10\n",
    "print(f'before : x={x},y={y}')\n",
    "swab_var=0\n",
    "swab_var=x\n",
    "x=y\n",
    "y=swab_var\n",
    "print(f'after : x={x},y={y}')"
   ]
  },
  {
   "cell_type": "code",
   "execution_count": 29,
   "id": "d46970b9-058d-45be-8e14-8ddfd46d7ee2",
   "metadata": {},
   "outputs": [
    {
     "name": "stdout",
     "output_type": "stream",
     "text": [
      "\\\\\n",
      "'\n",
      "'\n"
     ]
    }
   ],
   "source": [
    "#Task92\n",
    "print(r'\\\\')\n",
    "print('\\'')\n",
    "print(\"'\")"
   ]
  },
  {
   "cell_type": "code",
   "execution_count": 27,
   "id": "8d94ffef-1aa9-498c-891a-dc01f93a5dff",
   "metadata": {},
   "outputs": [
    {
     "name": "stdout",
     "output_type": "stream",
     "text": [
      "Identity : 55\n",
      "Type : <class 'int'>\n",
      "Value : 140717067258344\n"
     ]
    }
   ],
   "source": [
    "#Task93\n",
    "x=55\n",
    "print(f'Identity : {x}')\n",
    "print(f'Type : {type(x)}')\n",
    "print(f'Value : {id(x)}')"
   ]
  },
  {
   "cell_type": "code",
   "execution_count": 31,
   "id": "f4bad15e-cfa2-4632-82dd-b7e086a4b3ba",
   "metadata": {},
   "outputs": [
    {
     "name": "stdout",
     "output_type": "stream",
     "text": [
      "[97, 98, 99]\n"
     ]
    }
   ],
   "source": [
    "#Task94\n",
    "x=b'abc'\n",
    "print(list(x))"
   ]
  },
  {
   "cell_type": "code",
   "execution_count": 33,
   "id": "5f781ea3-ca35-4351-aea1-6e7141af2a73",
   "metadata": {},
   "outputs": [
    {
     "name": "stdin",
     "output_type": "stream",
     "text": [
      "Input a word or numbers:  66\n"
     ]
    },
    {
     "name": "stdout",
     "output_type": "stream",
     "text": [
      "The input value is numbers.\n"
     ]
    }
   ],
   "source": [
    "#Task95\n",
    "txt = input(\"Input a word or numbers: \")\n",
    "if txt.isdigit():\n",
    "    print(\"The input value is numbers.\")\n",
    "else:\n",
    "    print(\"The input value is string.\")"
   ]
  },
  {
   "cell_type": "code",
   "execution_count": null,
   "id": "f176f0b8-c11d-4741-a824-2a250123a21c",
   "metadata": {},
   "outputs": [],
   "source": [
    "#Task96\n"
   ]
  },
  {
   "cell_type": "code",
   "execution_count": null,
   "id": "2e31eefb-f4b9-4001-9a08-b64ec3d635a9",
   "metadata": {},
   "outputs": [],
   "source": [
    "#Task97"
   ]
  },
  {
   "cell_type": "code",
   "execution_count": 35,
   "id": "f9a2ab16-8e21-4327-a061-07abd5c93ce7",
   "metadata": {},
   "outputs": [
    {
     "name": "stdout",
     "output_type": "stream",
     "text": [
      "2024-07-25 22:13:24.762420\n"
     ]
    }
   ],
   "source": [
    "#Task98\n",
    "from datetime import datetime\n",
    "print(datetime.now())\n"
   ]
  },
  {
   "cell_type": "code",
   "execution_count": 37,
   "id": "96613ee9-7a74-41a0-9172-beb9059b5d13",
   "metadata": {},
   "outputs": [
    {
     "data": {
      "text/plain": [
       "1"
      ]
     },
     "execution_count": 37,
     "metadata": {},
     "output_type": "execute_result"
    }
   ],
   "source": [
    "#Task99\n",
    "import os \n",
    "os.system('clear')"
   ]
  },
  {
   "cell_type": "code",
   "execution_count": 39,
   "id": "25fb4f1b-7a6b-4400-bb43-b6cff0ce0c51",
   "metadata": {},
   "outputs": [
    {
     "name": "stdout",
     "output_type": "stream",
     "text": [
      "OmarBaly\n"
     ]
    }
   ],
   "source": [
    "#Task100\n",
    "import socket\n",
    "name=socket.gethostname()\n",
    "print(name)"
   ]
  },
  {
   "cell_type": "code",
   "execution_count": null,
   "id": "faff0769-994d-493b-afc4-1a9918ef3add",
   "metadata": {},
   "outputs": [],
   "source": [
    "#Task101\n",
    "#?????????????????????"
   ]
  },
  {
   "cell_type": "code",
   "execution_count": null,
   "id": "a8a1dee1-baf9-4052-bd90-42bca740b8db",
   "metadata": {},
   "outputs": [],
   "source": [
    "#Task102\n",
    "#?????????????????????"
   ]
  },
  {
   "cell_type": "code",
   "execution_count": 47,
   "id": "9df2d7e8-aa02-42d3-91a6-9abf28134b7a",
   "metadata": {},
   "outputs": [
    {
     "name": "stdout",
     "output_type": "stream",
     "text": [
      "Screenshot 2024-05-04 091104.png\n"
     ]
    }
   ],
   "source": [
    "#Task103\n",
    "import os\n",
    "path =r\"C:\\Users\\omarbaly\\Desktop\\Screenshot 2024-05-04 091104.png\"\n",
    "\n",
    "print(path.split('\\\\')[-1])"
   ]
  },
  {
   "cell_type": "code",
   "execution_count": 49,
   "id": "6023ff21-e9c3-4e60-a0c1-68b40cd931f4",
   "metadata": {},
   "outputs": [],
   "source": [
    "#Task104\n"
   ]
  },
  {
   "cell_type": "code",
   "execution_count": 43,
   "id": "5cafb622-9120-4f31-b6dd-1fb2321da964",
   "metadata": {},
   "outputs": [
    {
     "name": "stdout",
     "output_type": "stream",
     "text": [
      "environ({'ALLUSERSPROFILE': 'C:\\\\ProgramData', 'APPDATA': 'C:\\\\Users\\\\omarbaly\\\\AppData\\\\Roaming', 'COMMONPROGRAMFILES': 'C:\\\\Program Files\\\\Common Files', 'COMMONPROGRAMFILES(X86)': 'C:\\\\Program Files (x86)\\\\Common Files', 'COMMONPROGRAMW6432': 'C:\\\\Program Files\\\\Common Files', 'COMPUTERNAME': 'OMARBALY', 'COMSPEC': 'C:\\\\Windows\\\\system32\\\\cmd.exe', 'CONDA_DEFAULT_ENV': 'base', 'CONDA_EXE': 'C:\\\\Users\\\\omarbaly\\\\AppData\\\\Local\\\\anaconda3\\\\Scripts\\\\conda.exe', 'CONDA_PROMPT_MODIFIER': '(base) ', 'CONDA_PYTHON_EXE': 'C:\\\\Users\\\\omarbaly\\\\AppData\\\\Local\\\\anaconda3\\\\python.exe', 'CONDA_SHLVL': '1', 'DRIVERDATA': 'C:\\\\Windows\\\\System32\\\\Drivers\\\\DriverData', 'EFC_17208': '1', 'FPS_BROWSER_APP_PROFILE_STRING': 'Internet Explorer', 'FPS_BROWSER_USER_PROFILE_STRING': 'Default', 'HOMEDRIVE': 'C:', 'HOMEPATH': '\\\\Users\\\\omarbaly', 'JAVA_HOME': 'C:\\\\Program Files\\\\Java\\\\jdk-18.0.2', 'LOCALAPPDATA': 'C:\\\\Users\\\\omarbaly\\\\AppData\\\\Local', 'LOGONSERVER': '\\\\\\\\OMARBALY', 'NIDAQMXSWITCHDIR': 'C:\\\\Program Files (x86)\\\\National Instruments\\\\NI-DAQ\\\\Switch\\\\', 'NIEXTCCOMPILERSUPP': 'C:\\\\Program Files (x86)\\\\National Instruments\\\\Shared\\\\ExternalCompilerSupport\\\\C\\\\', 'NUMBER_OF_PROCESSORS': '8', 'ONEDRIVE': 'C:\\\\Users\\\\omarbaly\\\\OneDrive', 'OS': 'Windows_NT', 'PATH': 'C:\\\\Users\\\\omarbaly\\\\AppData\\\\Local\\\\anaconda3;C:\\\\Users\\\\omarbaly\\\\AppData\\\\Local\\\\anaconda3\\\\Library\\\\mingw-w64\\\\bin;C:\\\\Users\\\\omarbaly\\\\AppData\\\\Local\\\\anaconda3\\\\Library\\\\usr\\\\bin;C:\\\\Users\\\\omarbaly\\\\AppData\\\\Local\\\\anaconda3\\\\Library\\\\bin;C:\\\\Users\\\\omarbaly\\\\AppData\\\\Local\\\\anaconda3\\\\Scripts;C:\\\\Users\\\\omarbaly\\\\AppData\\\\Local\\\\anaconda3\\\\bin;C:\\\\Users\\\\omarbaly\\\\AppData\\\\Local\\\\anaconda3\\\\condabin;C:\\\\Users\\\\omarbaly\\\\AppData\\\\Local\\\\anaconda3;C:\\\\Users\\\\omarbaly\\\\AppData\\\\Local\\\\anaconda3\\\\Library\\\\mingw-w64\\\\bin;C:\\\\Users\\\\omarbaly\\\\AppData\\\\Local\\\\anaconda3\\\\Library\\\\usr\\\\bin;C:\\\\Users\\\\omarbaly\\\\AppData\\\\Local\\\\anaconda3\\\\Library\\\\bin;C:\\\\Users\\\\omarbaly\\\\AppData\\\\Local\\\\anaconda3\\\\Scripts;C:\\\\Program Files\\\\Common Files\\\\Oracle\\\\Java\\\\javapath;C:\\\\Program Files (x86)\\\\Common Files\\\\Oracle\\\\Java\\\\javapath;C:\\\\Windows\\\\system32;C:\\\\Windows;C:\\\\Windows\\\\System32\\\\Wbem;C:\\\\Windows\\\\System32\\\\WindowsPowerShell\\\\v1.0;C:\\\\Windows\\\\System32\\\\OpenSSH;C:\\\\Program Files\\\\MATLAB\\\\R2023b\\\\runtime\\\\win64;C:\\\\Program Files\\\\MATLAB\\\\R2023b\\\\bin;C:\\\\Users\\\\omarbaly\\\\AppData\\\\Local\\\\Microsoft\\\\WindowsApps;C:\\\\flutter\\\\bin;.;C:\\\\Users\\\\omarbaly\\\\AppData\\\\Local\\\\Programs\\\\Microsoft VS Code\\\\bin', 'PATHEXT': '.COM;.EXE;.BAT;.CMD;.VBS;.VBE;.JS;.JSE;.WSF;.WSH;.MSC', 'PROCESSOR_ARCHITECTURE': 'AMD64', 'PROCESSOR_IDENTIFIER': 'Intel64 Family 6 Model 158 Stepping 10, GenuineIntel', 'PROCESSOR_LEVEL': '6', 'PROCESSOR_REVISION': '9e0a', 'PROGRAMDATA': 'C:\\\\ProgramData', 'PROGRAMFILES': 'C:\\\\Program Files', 'PROGRAMFILES(X86)': 'C:\\\\Program Files (x86)', 'PROGRAMW6432': 'C:\\\\Program Files', 'PROMPT': '(base) $P$G', 'PSMODULEPATH': 'C:\\\\Program Files\\\\WindowsPowerShell\\\\Modules;C:\\\\Windows\\\\system32\\\\WindowsPowerShell\\\\v1.0\\\\Modules', 'PUBLIC': 'C:\\\\Users\\\\Public', 'SESSIONNAME': 'Console', 'SSL_CERT_FILE': 'C:\\\\Users\\\\omarbaly\\\\AppData\\\\Local\\\\anaconda3\\\\Library\\\\ssl\\\\cacert.pem', 'SYSTEMDRIVE': 'C:', 'SYSTEMROOT': 'C:\\\\Windows', 'TEMP': 'C:\\\\Users\\\\omarbaly\\\\AppData\\\\Local\\\\Temp', 'TMP': 'C:\\\\Users\\\\omarbaly\\\\AppData\\\\Local\\\\Temp', 'USERDNSDOMAIN': 'std.mans.edu.eg', 'USERDOMAIN': 'STD', 'USERDOMAIN_ROAMINGPROFILE': 'STD', 'USERNAME': 'omarbaly', 'USERPROFILE': 'C:\\\\Users\\\\omarbaly', 'WINDIR': 'C:\\\\Windows', 'CONDA_PREFIX': 'C:\\\\Users\\\\omarbaly\\\\AppData\\\\Local\\\\anaconda3', 'CONDA_ROOT': 'C:\\\\Users\\\\omarbaly\\\\AppData\\\\Local\\\\anaconda3', '__CONDA_OPENSLL_CERT_FILE_SET': '\"1\"', 'PYDEVD_USE_FRAME_EVAL': 'NO', 'JPY_SESSION_NAME': 'C:\\\\Users\\\\omarbaly\\\\Downloads\\\\Tasks.ipynb', 'JPY_INTERRUPT_EVENT': '2148', 'IPY_INTERRUPT_EVENT': '2148', 'JPY_PARENT_PID': '1452', 'TERM': 'xterm-color', 'CLICOLOR': '1', 'FORCE_COLOR': '1', 'CLICOLOR_FORCE': '1', 'PAGER': 'cat', 'GIT_PAGER': 'cat', 'MPLBACKEND': 'module://matplotlib_inline.backend_inline', 'QT_API': 'pyqt5', 'TF2_BEHAVIOR': '1', 'LANG': 'en'})\n"
     ]
    }
   ],
   "source": [
    "#Task105\n",
    "import os \n",
    "print(os.environ)"
   ]
  },
  {
   "cell_type": "code",
   "execution_count": 51,
   "id": "5f4bd757-898a-449b-bcb8-c3f954639fd9",
   "metadata": {},
   "outputs": [
    {
     "name": "stdout",
     "output_type": "stream",
     "text": [
      "['test', 'txt']\n"
     ]
    }
   ],
   "source": [
    "#Task106\n",
    "x='test.txt'\n",
    "print(x.split('.'))\n",
    "        "
   ]
  },
  {
   "cell_type": "code",
   "execution_count": 55,
   "id": "0f09ec10-937c-4648-b128-a118d220c57a",
   "metadata": {},
   "outputs": [
    {
     "name": "stdout",
     "output_type": "stream",
     "text": [
      "Access time  : Mon Jul 22 08:49:08 2024\n"
     ]
    }
   ],
   "source": [
    "#Task107\n",
    "import os.path\n",
    "import time\n",
    "print('Access time  :', time.ctime(os.path.getatime(r\"C:\\Users\\omarbaly\\Desktop\\Screenshot 2024-05-04 091104.png\")))"
   ]
  },
  {
   "cell_type": "code",
   "execution_count": 59,
   "id": "cd5d67d7-c92a-4fff-9a99-24d3ff808a49",
   "metadata": {},
   "outputs": [
    {
     "name": "stdout",
     "output_type": "stream",
     "text": [
      "Absolute    : True\n",
      "Is File?    : True\n",
      "Is Dir?     : False\n",
      "Is Link?    : False\n",
      "Exists?     : True\n",
      "Link Exists?: True\n"
     ]
    }
   ],
   "source": [
    "#Task108\n",
    "import os.path\n",
    "print('Absolute    :', os.path.isabs(r\"C:\\Users\\omarbaly\\Desktop\\Screenshot 2024-05-04 091104.png\"))\n",
    "print('Is File?    :', os.path.isfile(r\"C:\\Users\\omarbaly\\Desktop\\Screenshot 2024-05-04 091104.png\"))\n",
    "\n",
    "print('Is Dir?     :', os.path.isdir(r\"C:\\Users\\omarbaly\\Desktop\\Screenshot 2024-05-04 091104.png\"))\n",
    "\n",
    "    \n",
    "print('Is Link?    :', os.path.islink(r\"C:\\Users\\omarbaly\\Desktop\\Screenshot 2024-05-04 091104.png\"))\n",
    "\n",
    "print('Exists?     :', os.path.exists(r\"C:\\Users\\omarbaly\\Desktop\\Screenshot 2024-05-04 091104.png\"))\n",
    "\n",
    "   \n",
    "print('Link Exists?:', os.path.lexists(r\"C:\\Users\\omarbaly\\Desktop\\Screenshot 2024-05-04 091104.png\"))"
   ]
  },
  {
   "cell_type": "code",
   "execution_count": 61,
   "id": "aead81fb-315d-4444-bef3-53be5c7946c8",
   "metadata": {},
   "outputs": [
    {
     "name": "stdout",
     "output_type": "stream",
     "text": [
      "Absolute    : True\n",
      "Is File?    : True\n",
      "Is Dir?     : False\n",
      "Is Link?    : False\n",
      "Exists?     : True\n",
      "Link Exists?: True\n"
     ]
    }
   ],
   "source": [
    "#Task109\n",
    "import os.path\n",
    "print('Absolute    :', os.path.isabs(r\"C:\\Users\\omarbaly\\Desktop\\Screenshot 2024-05-04 091104.png\"))\n",
    "print('Is File?    :', os.path.isfile(r\"C:\\Users\\omarbaly\\Desktop\\Screenshot 2024-05-04 091104.png\"))\n",
    "\n",
    "print('Is Dir?     :', os.path.isdir(r\"C:\\Users\\omarbaly\\Desktop\\Screenshot 2024-05-04 091104.png\"))\n",
    "\n",
    "    \n",
    "print('Is Link?    :', os.path.islink(r\"C:\\Users\\omarbaly\\Desktop\\Screenshot 2024-05-04 091104.png\"))\n",
    "\n",
    "print('Exists?     :', os.path.exists(r\"C:\\Users\\omarbaly\\Desktop\\Screenshot 2024-05-04 091104.png\"))\n",
    "\n",
    "   \n",
    "print('Link Exists?:', os.path.lexists(r\"C:\\Users\\omarbaly\\Desktop\\Screenshot 2024-05-04 091104.png\"))"
   ]
  },
  {
   "cell_type": "code",
   "execution_count": null,
   "id": "764acc9a-035b-4546-bf17-6b6968f555aa",
   "metadata": {},
   "outputs": [],
   "source": [
    "#Task110\n",
    "numbers = [45, 55, 60, 37, 100, 105, 220]\n",
    "for i in numbers:\n",
    "    if i%15==0:\n",
    "        print(i,end=',')"
   ]
  },
  {
   "cell_type": "code",
   "execution_count": null,
   "id": "90c6fbf6-c626-426b-b04e-fd7c9ef3de80",
   "metadata": {},
   "outputs": [],
   "source": [
    "#Task111"
   ]
  },
  {
   "cell_type": "code",
   "execution_count": null,
   "id": "a3be4c21-6202-4e03-9ad4-2b8ccb6788ae",
   "metadata": {},
   "outputs": [],
   "source": [
    "#Task112\n",
    "color = [\"Red\", \"Black\", \"Green\", \"White\", \"Orange\"]\n",
    "del(color[0])\n",
    "print(color)"
   ]
  },
  {
   "cell_type": "code",
   "execution_count": null,
   "id": "9f859e41-eef7-4d45-9161-f345450440e1",
   "metadata": {},
   "outputs": [],
   "source": [
    "#Task113\n",
    "while True:\n",
    "    try:\n",
    "        a = int(input(\"Input a number: \"))\n",
    "        break\n",
    "    except ValueError:\n",
    "        print(\"This is not a number Try again\")"
   ]
  },
  {
   "cell_type": "code",
   "execution_count": null,
   "id": "ba724c44-7c7e-46c5-bbe8-8fb160174900",
   "metadata": {},
   "outputs": [],
   "source": [
    "#Task114\n",
    "nums = [34, 1,-23, 0, 12, -88]\n",
    "for i in nums :\n",
    "    if i>0 :\n",
    "        print(i,end=' ')\n",
    "    else:\n",
    "        nums.remove(i)      "
   ]
  },
  {
   "cell_type": "code",
   "execution_count": null,
   "id": "10cdb0ee-ed04-4df1-85a8-a72a5e38c8c9",
   "metadata": {},
   "outputs": [],
   "source": [
    "#Task115\n",
    "str1 = \"omar\"\n",
    "str2 = \"omar\"\n",
    " \n",
    "\n",
    "print(\"Memory location of str1 =\", hex(id(str1)))\n",
    "print(\"Memory location of str2 =\", hex(id(str2)))"
   ]
  },
  {
   "cell_type": "code",
   "execution_count": null,
   "id": "a851a190-c8b6-4b54-a5fe-fb6792389a3a",
   "metadata": {},
   "outputs": [],
   "source": [
    "#Task116\n",
    "str = '\\u0050\\u0079\\u0074\\u0068\\u006f\\u006e \\u0045\\u0078\\u0065\\u0072\\u0063\\u0069\\u0073\\u0065\\u0073 \\u002d \\u0077\\u0033\\u0072\\u0065\\u0073\\u006f\\u0075\\u0072\\u0063\\u0065'\n",
    "print(str)"
   ]
  },
  {
   "cell_type": "code",
   "execution_count": null,
   "id": "6bae85c1-8232-46c6-8ad1-aebf47c95911",
   "metadata": {},
   "outputs": [],
   "source": [
    "#Task117\n",
    "x='Omar'\n",
    "y='Omar'\n",
    "print(hex(id(x)))\n",
    "print(hex(id(y)))\n"
   ]
  },
  {
   "cell_type": "code",
   "execution_count": 65,
   "id": "8121bf1f-d0f3-4ba2-b92d-9f0cdcebbd13",
   "metadata": {},
   "outputs": [
    {
     "name": "stdout",
     "output_type": "stream",
     "text": [
      "bytearray(b'\\n\\x148#\\x11c')\n",
      "10\n",
      "20\n",
      "56\n",
      "35\n",
      "17\n",
      "99\n"
     ]
    }
   ],
   "source": [
    "#Task118\n",
    "nums = [10, 20, 56, 35, 17, 99]\n",
    "by = bytearray(nums)\n",
    "for i in by :\n",
    "    print(i)"
   ]
  },
  {
   "cell_type": "code",
   "execution_count": null,
   "id": "8fa5a6b3-6cae-4ba2-832e-7671e0b7d529",
   "metadata": {},
   "outputs": [],
   "source": [
    "#Task119\n",
    "number=25.3687456448899\n",
    "print(round(number,2))\n",
    "print(round(number,7))\n",
    "print(round(number,5))"
   ]
  },
  {
   "cell_type": "code",
   "execution_count": null,
   "id": "bac5526d-3478-4f3b-97c5-26b2c70c81e6",
   "metadata": {},
   "outputs": [],
   "source": [
    "#Task120\n",
    "def stt (x):\n",
    "    \n",
    "    str=''\n",
    "    org_str='123456789'\n",
    "    for i in range(x):\n",
    "        str+=org_str[i]\n",
    "    return str\n",
    "\n",
    "print(stt(5))\n",
    "print(stt(9))\n"
   ]
  },
  {
   "cell_type": "code",
   "execution_count": null,
   "id": "092027a5-4bca-4c30-acc5-0c363cc5ad86",
   "metadata": {},
   "outputs": [],
   "source": [
    "#Task121\n",
    "try :\n",
    "    x\n",
    "except NameError:\n",
    "    print('It is not defined')\n",
    "\n",
    "else :\n",
    "    print(\"It is defined\")"
   ]
  },
  {
   "cell_type": "code",
   "execution_count": null,
   "id": "9f5c6d78-200d-4fee-9dc5-bb6251c1cc2c",
   "metadata": {},
   "outputs": [],
   "source": [
    "#Task122\n",
    "d = {\"age\": 23}\n",
    "l=[0,8,9]\n",
    "t=(0,8,'h')\n",
    "print(type(d)())\n"
   ]
  },
  {
   "cell_type": "code",
   "execution_count": null,
   "id": "56c4d86f-f9c7-4c27-9143-002476e8cc9b",
   "metadata": {},
   "outputs": [],
   "source": [
    "#Task123\n",
    "#?????????????????????"
   ]
  },
  {
   "cell_type": "code",
   "execution_count": null,
   "id": "f09396cd-f2a6-4be7-ba08-f2ec4bda639e",
   "metadata": {},
   "outputs": [],
   "source": [
    "#Task124\n",
    "x=3\n",
    "y=3\n",
    "h=3\n",
    "if x==y==h:\n",
    "    print('They have the same value')"
   ]
  },
  {
   "cell_type": "code",
   "execution_count": null,
   "id": "7c5fb707-f690-4533-9c1c-69204a384a14",
   "metadata": {},
   "outputs": [],
   "source": [
    "#Task125\n",
    "numbers = [2, 2, 4, 6, 6, 8, 6, 10, 4]\n",
    "print(len(numbers))"
   ]
  },
  {
   "cell_type": "code",
   "execution_count": null,
   "id": "9f90ea91-1fb3-4158-9445-1ebf0221d72a",
   "metadata": {},
   "outputs": [],
   "source": [
    "#Task126\n",
    "from inspect import getmodule\n",
    "from math import sqrt\n",
    "print(getmodule(sqrt))"
   ]
  },
  {
   "cell_type": "code",
   "execution_count": null,
   "id": "9911a35b-5e19-4c12-92b0-a41d0211ea9d",
   "metadata": {},
   "outputs": [],
   "source": [
    "#Task127\n",
    "#????????????????????"
   ]
  },
  {
   "cell_type": "code",
   "execution_count": null,
   "id": "0f4ee3ea-90fc-4d6a-b8fe-9052fb62a5bc",
   "metadata": {},
   "outputs": [],
   "source": [
    "#Task128\n",
    "str = 'A8238i823acdeOUEI'\n",
    "print(any(i.lower() for i in str))\n",
    "    \n",
    "        "
   ]
  },
  {
   "cell_type": "code",
   "execution_count": null,
   "id": "9845f018-d114-4fd1-ac3e-25d6e823da3e",
   "metadata": {},
   "outputs": [],
   "source": [
    "#Task129\n",
    "def leading (number):\n",
    "    str='122.22'    \n",
    "    for i in range(-len(str)+number):\n",
    "        str+='0'        \n",
    "    return str\n",
    "print(leading(10))"
   ]
  },
  {
   "cell_type": "code",
   "execution_count": null,
   "id": "e744e13f-3a22-49ec-b4cb-62dc3d0cbbff",
   "metadata": {},
   "outputs": [],
   "source": [
    "#Task130\n",
    "#\n",
    "import json\n",
    "data = {'Alex': 1, 'Suresh': 2, 'Agnessa': 3}\n",
    "json_string = json.dumps(data)\n",
    "print(json_string)"
   ]
  },
  {
   "cell_type": "code",
   "execution_count": null,
   "id": "6d21bc5e-f1cb-4d36-9771-2dfdf2fca7d3",
   "metadata": {},
   "outputs": [],
   "source": [
    "#Task131\n",
    "list = ['a', 'b', 'c', 'd', 'e']\n",
    "\n",
    "v, w, x, y, z = list\n",
    "\n",
    "print(v, w, x, y, z)"
   ]
  },
  {
   "cell_type": "code",
   "execution_count": null,
   "id": "4c345c74-41b8-40e9-bc67-7140a3849a0e",
   "metadata": {},
   "outputs": [],
   "source": [
    "#Task132\n",
    "import os.path\n",
    "\n",
    "print(os.path.expanduser('~'))"
   ]
  },
  {
   "cell_type": "code",
   "execution_count": null,
   "id": "21ee8f5c-f5bf-4250-b39b-102c5df7889b",
   "metadata": {},
   "outputs": [],
   "source": [
    "#Task133\n",
    "#?????????????"
   ]
  },
  {
   "cell_type": "code",
   "execution_count": null,
   "id": "09a7ee15-ae62-4d97-9b3b-5a5c4b511506",
   "metadata": {},
   "outputs": [],
   "source": [
    "#Task134\n",
    "#\n",
    "a, b = [int(a) for a in input(\"Input the value of a & b: \").split(',')]\n",
    "print(\"The value of a & b are:\", a, b)"
   ]
  },
  {
   "cell_type": "code",
   "execution_count": null,
   "id": "877b34e4-8d32-4e7b-8f0d-bf090994260e",
   "metadata": {},
   "outputs": [],
   "source": [
    "#Task135\n",
    "x=88\n",
    "print(f'The value of x is \"{x}\"')"
   ]
  },
  {
   "cell_type": "code",
   "execution_count": null,
   "id": "c7c2ddbd-e09b-49f5-98d7-16ff74c035d5",
   "metadata": {},
   "outputs": [],
   "source": [
    "#Task136\n",
    "#????????????????"
   ]
  },
  {
   "cell_type": "code",
   "execution_count": null,
   "id": "0de51884-8042-4817-869d-5ac8f3f0c49c",
   "metadata": {},
   "outputs": [],
   "source": [
    "#Task137\n",
    "d={'red':'green'}\n",
    "(d1,d2),=d.items()\n",
    "print (d1,d2)"
   ]
  },
  {
   "cell_type": "code",
   "execution_count": null,
   "id": "c2b33100-3719-4337-b977-9bd596c8f0b3",
   "metadata": {},
   "outputs": [],
   "source": [
    "#Task138\n",
    "print(int(True))\n",
    "print(int(False))"
   ]
  },
  {
   "cell_type": "code",
   "execution_count": null,
   "id": "c0c268ae-9d54-46c2-b84c-ab7e8679e9a1",
   "metadata": {},
   "outputs": [],
   "source": [
    "#Task139\n",
    "#\n",
    "import socket\n",
    "add='192.168.1.1'\n",
    "try :\n",
    "    socket.inet_aton(add)\n",
    "    print(\"Valid\")\n",
    "\n",
    "except socket.error:\n",
    "    print('Invalid')\n"
   ]
  },
  {
   "cell_type": "code",
   "execution_count": null,
   "id": "95c3e7bc-f8df-49a9-b589-a9e0d45d2d55",
   "metadata": {},
   "outputs": [],
   "source": [
    "#Task140\n",
    "x=12\n",
    "y=bin(x)\n",
    "print(y)"
   ]
  },
  {
   "cell_type": "code",
   "execution_count": null,
   "id": "869c6619-c259-4350-9fcb-6a1a34c886e7",
   "metadata": {},
   "outputs": [],
   "source": [
    "#Task141\n",
    "x=15556\n",
    "y=hex(x)\n",
    "print(y)"
   ]
  },
  {
   "cell_type": "code",
   "execution_count": null,
   "id": "79135938-8c16-44b0-9660-5a40c9bd03b5",
   "metadata": {},
   "outputs": [],
   "source": [
    "#Task142\n",
    "def la (str):\n",
    "    while '01' in str :\n",
    "        str.replace('01','')\n",
    "\n",
    "    return len(str)==0\n",
    "\n",
    "print(la('0001110011'))\n",
    "    \n"
   ]
  },
  {
   "cell_type": "code",
   "execution_count": null,
   "id": "f1511c41-b45c-44f8-9be2-d54835e299c0",
   "metadata": {},
   "outputs": [],
   "source": [
    "#Task143\n",
    "import struct\n",
    "print(struct.calcsize(\"P\") * 8)"
   ]
  },
  {
   "cell_type": "code",
   "execution_count": null,
   "id": "c607fddd-45e9-41ae-8c30-d3527c55e547",
   "metadata": {},
   "outputs": [],
   "source": [
    "#Task144\n",
    "print(type(25) is int)\n",
    "print(type('25') is int)\n"
   ]
  },
  {
   "cell_type": "code",
   "execution_count": null,
   "id": "5a78d849-9669-459c-a7cd-fc9d5c059fe0",
   "metadata": {},
   "outputs": [],
   "source": [
    "#Task145\n",
    "x=('omar',55)\n",
    "if type(x) is tuple:\n",
    "    print('x is tuple' )\n",
    "elif type(x) is list:\n",
    "    print('x is list' )\n",
    "elif type(x) is set:\n",
    "    print('x is set' )\n",
    "else:\n",
    "    print('it is not set,list or tuple')"
   ]
  },
  {
   "cell_type": "code",
   "execution_count": null,
   "id": "85711780-a6f6-4936-b2dc-2f8778893be0",
   "metadata": {},
   "outputs": [],
   "source": [
    "#Task146\n",
    "import sys\n",
    "print(sys.path)"
   ]
  },
  {
   "cell_type": "code",
   "execution_count": null,
   "id": "621f5295-0c71-4b2b-959a-bb6198dfcf99",
   "metadata": {},
   "outputs": [],
   "source": [
    "#Task147\n",
    "x=20\n",
    "y=5\n",
    "if x%y==0 :\n",
    "    print(\"True\")\n",
    "else:\n",
    "    print('False')\n"
   ]
  },
  {
   "cell_type": "code",
   "execution_count": null,
   "id": "21b00fcb-f7d3-4aea-afb6-ab3502ec432b",
   "metadata": {},
   "outputs": [],
   "source": [
    "#Task148\n",
    "def max_min (numbers):\n",
    "    maxi=numbers[0]\n",
    "    mini=numbers[0]\n",
    "    for i in numbers:\n",
    "        if i>maxi:\n",
    "            maxi=i\n",
    "        elif mini>i:\n",
    "            mini=i\n",
    "    \n",
    "        \n",
    "    return maxi,mini           \n",
    "print(max_min([0, 10, 15, 40, -5, 42, 17, 28, 75]))"
   ]
  },
  {
   "cell_type": "code",
   "execution_count": null,
   "id": "3ed4f33b-35a4-4211-a947-0c99ffaad578",
   "metadata": {},
   "outputs": [],
   "source": [
    "#Task149\n",
    "def sum_cube(number):\n",
    "    sum=0\n",
    "    while number>0 :\n",
    "        number-=1\n",
    "        sum+=(number**3)\n",
    "\n",
    "    return sum\n",
    "num=int(input('Enter the number : '))\n",
    "print(sum_cube(num))"
   ]
  },
  {
   "cell_type": "code",
   "execution_count": null,
   "id": "eee2b825-2de6-4a40-b20e-f7af4f50968a",
   "metadata": {},
   "outputs": [],
   "source": [
    "#Task150\n",
    "def odd(numbers):\n",
    "    for i in range(len(numbers)):\n",
    "        for y in range(1,len(numbers)):\n",
    "            if (numbers[i]*numbers[y])%2 !=0:\n",
    "                return True\n",
    "\n",
    "    \n",
    "    return False\n",
    "\n",
    "print(odd([2, 4, 6, 8]))\n",
    "print(odd([1,6,4,7,8]))"
   ]
  },
  {
   "cell_type": "code",
   "execution_count": null,
   "id": "b94ea2ea-8fa7-404d-9a5e-a37c6bac7cf9",
   "metadata": {},
   "outputs": [],
   "source": []
  }
 ],
 "metadata": {
  "kernelspec": {
   "display_name": "Python 3 (ipykernel)",
   "language": "python",
   "name": "python3"
  },
  "language_info": {
   "codemirror_mode": {
    "name": "ipython",
    "version": 3
   },
   "file_extension": ".py",
   "mimetype": "text/x-python",
   "name": "python",
   "nbconvert_exporter": "python",
   "pygments_lexer": "ipython3",
   "version": "3.11.7"
  }
 },
 "nbformat": 4,
 "nbformat_minor": 5
}
