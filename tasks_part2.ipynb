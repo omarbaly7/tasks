{
 "cells": [
  {
   "cell_type": "code",
   "execution_count": 34,
   "id": "c92860d5-02bf-4401-9d62-ee70a1104aca",
   "metadata": {},
   "outputs": [
    {
     "data": {
      "text/plain": [
       "True"
      ]
     },
     "execution_count": 34,
     "metadata": {},
     "output_type": "execute_result"
    }
   ],
   "source": [
    "#Task1\n",
    "def seq(data):\n",
    "    if(len(data)==len(set(data))):\n",
    "        return True\n",
    "\n",
    "    return False\n",
    "seq([1,5,9,5,7])\n",
    "seq([1,5,9,7])\n",
    "            "
   ]
  },
  {
   "cell_type": "code",
   "execution_count": 11,
   "id": "6aa23aca-6c3a-4504-880a-e5e2a5b86296",
   "metadata": {},
   "outputs": [
    {
     "name": "stdout",
     "output_type": "stream",
     "text": [
      "aeiou\n",
      "aeiuo\n",
      "aeoiu\n",
      "aeoui\n",
      "aeuio\n",
      "aeuoi\n",
      "aieou\n",
      "aieuo\n",
      "aioeu\n",
      "aioue\n",
      "aiueo\n",
      "aiuoe\n",
      "aoeiu\n",
      "aoeui\n",
      "aoieu\n",
      "aoiue\n",
      "aouei\n",
      "aouie\n",
      "aueio\n",
      "aueoi\n",
      "auieo\n",
      "auioe\n",
      "auoei\n",
      "auoie\n",
      "eaiou\n",
      "eaiuo\n",
      "eaoiu\n",
      "eaoui\n",
      "eauio\n",
      "eauoi\n",
      "eiaou\n",
      "eiauo\n",
      "eioau\n",
      "eioua\n",
      "eiuao\n",
      "eiuoa\n",
      "eoaiu\n",
      "eoaui\n",
      "eoiau\n",
      "eoiua\n",
      "eouai\n",
      "eouia\n",
      "euaio\n",
      "euaoi\n",
      "euiao\n",
      "euioa\n",
      "euoai\n",
      "euoia\n",
      "iaeou\n",
      "iaeuo\n",
      "iaoeu\n",
      "iaoue\n",
      "iaueo\n",
      "iauoe\n",
      "ieaou\n",
      "ieauo\n",
      "ieoau\n",
      "ieoua\n",
      "ieuao\n",
      "ieuoa\n",
      "ioaeu\n",
      "ioaue\n",
      "ioeau\n",
      "ioeua\n",
      "iouae\n",
      "iouea\n",
      "iuaeo\n",
      "iuaoe\n",
      "iueao\n",
      "iueoa\n",
      "iuoae\n",
      "iuoea\n",
      "oaeiu\n",
      "oaeui\n",
      "oaieu\n",
      "oaiue\n",
      "oauei\n",
      "oauie\n",
      "oeaiu\n",
      "oeaui\n",
      "oeiau\n",
      "oeiua\n",
      "oeuai\n",
      "oeuia\n",
      "oiaeu\n",
      "oiaue\n",
      "oieau\n",
      "oieua\n",
      "oiuae\n",
      "oiuea\n",
      "ouaei\n",
      "ouaie\n",
      "oueai\n",
      "oueia\n",
      "ouiae\n",
      "ouiea\n",
      "uaeio\n",
      "uaeoi\n",
      "uaieo\n",
      "uaioe\n",
      "uaoei\n",
      "uaoie\n",
      "ueaio\n",
      "ueaoi\n",
      "ueiao\n",
      "ueioa\n",
      "ueoai\n",
      "ueoia\n",
      "uiaeo\n",
      "uiaoe\n",
      "uieao\n",
      "uieoa\n",
      "uioae\n",
      "uioea\n",
      "uoaei\n",
      "uoaie\n",
      "uoeai\n",
      "uoeia\n",
      "uoiae\n",
      "uoiea\n"
     ]
    }
   ],
   "source": [
    "#Task2\n",
    "import itertools\n",
    "char_list = ['a', 'e', 'i', 'o', 'u']\n",
    "permutations = itertools.permutations(char_list)\n",
    "for perm in permutations:\n",
    "    print(''.join(perm))\n"
   ]
  },
  {
   "cell_type": "code",
   "execution_count": 2,
   "id": "12d07b52-3d21-4d4b-a57d-8a1e8b3b29f6",
   "metadata": {},
   "outputs": [],
   "source": [
    "#Task3???????????\n",
    "def remove_third(numbers):\n",
    "    index=2\n",
    "    while len(numbers)>0:\n",
    "        print(numbers.pop(index))\n",
    "        index+=3\n"
   ]
  },
  {
   "cell_type": "code",
   "execution_count": 40,
   "id": "ba8903c4-05a2-445e-9f9d-311dbfb1dff5",
   "metadata": {},
   "outputs": [
    {
     "name": "stdout",
     "output_type": "stream",
     "text": [
      "[[-6, 2, 4], [-1, 0, 1], [-2, 0, 2]]\n"
     ]
    }
   ],
   "source": [
    "#Task4\n",
    "def sum_triplets_zero(numbers):\n",
    "    result = set()\n",
    "    numbers.sort()  \n",
    "    for i in range(len(numbers)):\n",
    "        for j in range(i + 1, len(numbers)):\n",
    "            num1 = numbers[i]\n",
    "            num2 = numbers[j]\n",
    "            num3 = -num1 - num2\n",
    "            if num3 in numbers[j + 1:]:\n",
    "                triplet = tuple(sorted((num1, num2, num3)))\n",
    "                result.add(triplet)    \n",
    "    return [list(triplet) for triplet in result]\n",
    "\n",
    "print(sum_triplets_zero([1, -6, 4, 2, -1, 2, 0, -2, 0]))\n",
    "      "
   ]
  },
  {
   "cell_type": "code",
   "execution_count": 6,
   "id": "c57166ea-febc-46b1-8fe0-fc5a7fa9fbc2",
   "metadata": {},
   "outputs": [
    {
     "name": "stdout",
     "output_type": "stream",
     "text": [
      "982\n"
     ]
    }
   ],
   "source": [
    "#Task5\n",
    "x=9\n",
    "y=8\n",
    "z=2\n",
    "\n",
    "str=str(x)+str(y)+str(z)\n",
    "print(str)"
   ]
  },
  {
   "cell_type": "code",
   "execution_count": 48,
   "id": "682992d1-29d3-49d3-918d-07eacfa8b007",
   "metadata": {
    "scrolled": true
   },
   "outputs": [
    {
     "name": "stdout",
     "output_type": "stream",
     "text": [
      "String:\n",
      " United States Declaration of Independence\n",
      "From Wikipedia, the free encyclopedia\n",
      "... (omitting the rest for brevity) ... \n",
      "... much scholarly inquiry.\n",
      "The Declaration justified the independence of the United States by listing colonial grievances against\n",
      "King George III, and by asserting certain natural and legal rights, including a right of revolution.\n",
      "Having served its original purpose in announcing independence, references to the text of the\n",
      "Declaration were few in the following years. Abraham Lincoln made it the centerpiece of his rhetoric\n",
      "(as in the Gettysburg Address of 1863) and his policies. Since then, it has become a well-known statement\n",
      "on human rights, particularly its second sentence:\n",
      "\n",
      "We hold these truths to be self-evident, that all men are created equal, that they are endowed by their\n",
      "Creator with certain unalienable Rights, that among these are Life, Liberty and the pursuit of Happiness.\n",
      "\n",
      "This has been called \"one of the best-known sentences in the English language\", containing \"the most potent\n",
      "and consequential words in American history\". The passage came to represent a moral standard to which\n",
      "the United States should strive. This view was notably promoted by Abraham Lincoln, who considered the\n",
      "Declaration to be the foundation of his political philosophy and argued that it is a statement of principles\n",
      "through which the United States Constitution should be interpreted.\n",
      "\n",
      "The U.S. Declaration of Independence inspired many other similar documents in other countries, the first\n",
      "being the 1789 Declaration of Flanders issued during the Brabant Revolution in the Austrian Netherlands\n",
      "(modern-day Belgium). It also served as the primary model for numerous declarations of independence across\n",
      "Europe and Latin America, as well as Africa (Liberia) and Oceania (New Zealand) during the first half of the\n",
      "19th century. \n",
      "\n",
      "List:\n",
      " ['United', 'States', 'Declaration', 'of', 'Independence', 'From', 'Wikipedia,', 'the', 'free', 'encyclopedia', '...', '(omitting', 'the', 'rest', 'for', 'brevity)', '...', '...', 'much', 'scholarly', 'inquiry.', 'The', 'Declaration', 'justified', 'the', 'independence', 'of', 'the', 'United', 'States', 'by', 'listing', 'colonial', 'grievances', 'against', 'King', 'George', 'III,', 'and', 'by', 'asserting', 'certain', 'natural', 'and', 'legal', 'rights,', 'including', 'a', 'right', 'of', 'revolution.', 'Having', 'served', 'its', 'original', 'purpose', 'in', 'announcing', 'independence,', 'references', 'to', 'the', 'text', 'of', 'the', 'Declaration', 'were', 'few', 'in', 'the', 'following', 'years.', 'Abraham', 'Lincoln', 'made', 'it', 'the', 'centerpiece', 'of', 'his', 'rhetoric', '(as', 'in', 'the', 'Gettysburg', 'Address', 'of', '1863)', 'and', 'his', 'policies.', 'Since', 'then,', 'it', 'has', 'become', 'a', 'well-known', 'statement', 'on', 'human', 'rights,', 'particularly', 'its', 'second', 'sentence:', 'We', 'hold', 'these', 'truths', 'to', 'be', 'self-evident,', 'that', 'all', 'men', 'are', 'created', 'equal,', 'that', 'they', 'are', 'endowed', 'by', 'their', 'Creator', 'with', 'certain', 'unalienable', 'Rights,', 'that', 'among', 'these', 'are', 'Life,', 'Liberty', 'and', 'the', 'pursuit', 'of', 'Happiness.', 'This', 'has', 'been', 'called', '\"one', 'of', 'the', 'best-known', 'sentences', 'in', 'the', 'English', 'language\",', 'containing', '\"the', 'most', 'potent', 'and', 'consequential', 'words', 'in', 'American', 'history\".', 'The', 'passage', 'came', 'to', 'represent', 'a', 'moral', 'standard', 'to', 'which', 'the', 'United', 'States', 'should', 'strive.', 'This', 'view', 'was', 'notably', 'promoted', 'by', 'Abraham', 'Lincoln,', 'who', 'considered', 'the', 'Declaration', 'to', 'be', 'the', 'foundation', 'of', 'his', 'political', 'philosophy', 'and', 'argued', 'that', 'it', 'is', 'a', 'statement', 'of', 'principles', 'through', 'which', 'the', 'United', 'States', 'Constitution', 'should', 'be', 'interpreted.', 'The', 'U.S.', 'Declaration', 'of', 'Independence', 'inspired', 'many', 'other', 'similar', 'documents', 'in', 'other', 'countries,', 'the', 'first', 'being', 'the', '1789', 'Declaration', 'of', 'Flanders', 'issued', 'during', 'the', 'Brabant', 'Revolution', 'in', 'the', 'Austrian', 'Netherlands', '(modern-day', 'Belgium).', 'It', 'also', 'served', 'as', 'the', 'primary', 'model', 'for', 'numerous', 'declarations', 'of', 'independence', 'across', 'Europe', 'and', 'Latin', 'America,', 'as', 'well', 'as', 'Africa', '(Liberia)', 'and', 'Oceania', '(New', 'Zealand)', 'during', 'the', 'first', 'half', 'of', 'the', '19th', 'century.'] \n",
      "\n",
      "Pairs (Words and Frequencies:\n",
      " [('United', 4), ('States', 4), ('Declaration', 6), ('of', 14), ('Independence', 2), ('From', 1), ('Wikipedia,', 1), ('the', 23), ('free', 1), ('encyclopedia', 1), ('...', 3), ('(omitting', 1), ('the', 23), ('rest', 1), ('for', 2), ('brevity)', 1), ('...', 3), ('...', 3), ('much', 1), ('scholarly', 1), ('inquiry.', 1), ('The', 3), ('Declaration', 6), ('justified', 1), ('the', 23), ('independence', 2), ('of', 14), ('the', 23), ('United', 4), ('States', 4), ('by', 4), ('listing', 1), ('colonial', 1), ('grievances', 1), ('against', 1), ('King', 1), ('George', 1), ('III,', 1), ('and', 8), ('by', 4), ('asserting', 1), ('certain', 2), ('natural', 1), ('and', 8), ('legal', 1), ('rights,', 2), ('including', 1), ('a', 4), ('right', 1), ('of', 14), ('revolution.', 1), ('Having', 1), ('served', 2), ('its', 2), ('original', 1), ('purpose', 1), ('in', 7), ('announcing', 1), ('independence,', 1), ('references', 1), ('to', 5), ('the', 23), ('text', 1), ('of', 14), ('the', 23), ('Declaration', 6), ('were', 1), ('few', 1), ('in', 7), ('the', 23), ('following', 1), ('years.', 1), ('Abraham', 2), ('Lincoln', 1), ('made', 1), ('it', 3), ('the', 23), ('centerpiece', 1), ('of', 14), ('his', 3), ('rhetoric', 1), ('(as', 1), ('in', 7), ('the', 23), ('Gettysburg', 1), ('Address', 1), ('of', 14), ('1863)', 1), ('and', 8), ('his', 3), ('policies.', 1), ('Since', 1), ('then,', 1), ('it', 3), ('has', 2), ('become', 1), ('a', 4), ('well-known', 1), ('statement', 2), ('on', 1), ('human', 1), ('rights,', 2), ('particularly', 1), ('its', 2), ('second', 1), ('sentence:', 1), ('We', 1), ('hold', 1), ('these', 2), ('truths', 1), ('to', 5), ('be', 3), ('self-evident,', 1), ('that', 4), ('all', 1), ('men', 1), ('are', 3), ('created', 1), ('equal,', 1), ('that', 4), ('they', 1), ('are', 3), ('endowed', 1), ('by', 4), ('their', 1), ('Creator', 1), ('with', 1), ('certain', 2), ('unalienable', 1), ('Rights,', 1), ('that', 4), ('among', 1), ('these', 2), ('are', 3), ('Life,', 1), ('Liberty', 1), ('and', 8), ('the', 23), ('pursuit', 1), ('of', 14), ('Happiness.', 1), ('This', 2), ('has', 2), ('been', 1), ('called', 1), ('\"one', 1), ('of', 14), ('the', 23), ('best-known', 1), ('sentences', 1), ('in', 7), ('the', 23), ('English', 1), ('language\",', 1), ('containing', 1), ('\"the', 1), ('most', 1), ('potent', 1), ('and', 8), ('consequential', 1), ('words', 1), ('in', 7), ('American', 1), ('history\".', 1), ('The', 3), ('passage', 1), ('came', 1), ('to', 5), ('represent', 1), ('a', 4), ('moral', 1), ('standard', 1), ('to', 5), ('which', 2), ('the', 23), ('United', 4), ('States', 4), ('should', 2), ('strive.', 1), ('This', 2), ('view', 1), ('was', 1), ('notably', 1), ('promoted', 1), ('by', 4), ('Abraham', 2), ('Lincoln,', 1), ('who', 1), ('considered', 1), ('the', 23), ('Declaration', 6), ('to', 5), ('be', 3), ('the', 23), ('foundation', 1), ('of', 14), ('his', 3), ('political', 1), ('philosophy', 1), ('and', 8), ('argued', 1), ('that', 4), ('it', 3), ('is', 1), ('a', 4), ('statement', 2), ('of', 14), ('principles', 1), ('through', 1), ('which', 2), ('the', 23), ('United', 4), ('States', 4), ('Constitution', 1), ('should', 2), ('be', 3), ('interpreted.', 1), ('The', 3), ('U.S.', 1), ('Declaration', 6), ('of', 14), ('Independence', 2), ('inspired', 1), ('many', 1), ('other', 2), ('similar', 1), ('documents', 1), ('in', 7), ('other', 2), ('countries,', 1), ('the', 23), ('first', 2), ('being', 1), ('the', 23), ('1789', 1), ('Declaration', 6), ('of', 14), ('Flanders', 1), ('issued', 1), ('during', 2), ('the', 23), ('Brabant', 1), ('Revolution', 1), ('in', 7), ('the', 23), ('Austrian', 1), ('Netherlands', 1), ('(modern-day', 1), ('Belgium).', 1), ('It', 1), ('also', 1), ('served', 2), ('as', 3), ('the', 23), ('primary', 1), ('model', 1), ('for', 2), ('numerous', 1), ('declarations', 1), ('of', 14), ('independence', 2), ('across', 1), ('Europe', 1), ('and', 8), ('Latin', 1), ('America,', 1), ('as', 3), ('well', 1), ('as', 3), ('Africa', 1), ('(Liberia)', 1), ('and', 8), ('Oceania', 1), ('(New', 1), ('Zealand)', 1), ('during', 2), ('the', 23), ('first', 2), ('half', 1), ('of', 14), ('the', 23), ('19th', 1), ('century.', 1)]\n"
     ]
    }
   ],
   "source": [
    "#Task6\n",
    "string_words = '''United States Declaration of Independence\n",
    "From Wikipedia, the free encyclopedia\n",
    "... (omitting the rest for brevity) ... \n",
    "... much scholarly inquiry.\n",
    "The Declaration justified the independence of the United States by listing colonial grievances against\n",
    "King George III, and by asserting certain natural and legal rights, including a right of revolution.\n",
    "Having served its original purpose in announcing independence, references to the text of the\n",
    "Declaration were few in the following years. Abraham Lincoln made it the centerpiece of his rhetoric\n",
    "(as in the Gettysburg Address of 1863) and his policies. Since then, it has become a well-known statement\n",
    "on human rights, particularly its second sentence:\n",
    "\n",
    "We hold these truths to be self-evident, that all men are created equal, that they are endowed by their\n",
    "Creator with certain unalienable Rights, that among these are Life, Liberty and the pursuit of Happiness.\n",
    "\n",
    "This has been called \"one of the best-known sentences in the English language\", containing \"the most potent\n",
    "and consequential words in American history\". The passage came to represent a moral standard to which\n",
    "the United States should strive. This view was notably promoted by Abraham Lincoln, who considered the\n",
    "Declaration to be the foundation of his political philosophy and argued that it is a statement of principles\n",
    "through which the United States Constitution should be interpreted.\n",
    "\n",
    "The U.S. Declaration of Independence inspired many other similar documents in other countries, the first\n",
    "being the 1789 Declaration of Flanders issued during the Brabant Revolution in the Austrian Netherlands\n",
    "(modern-day Belgium). It also served as the primary model for numerous declarations of independence across\n",
    "Europe and Latin America, as well as Africa (Liberia) and Oceania (New Zealand) during the first half of the\n",
    "19th century.'''\n",
    "\n",
    "word_list = string_words.split()\n",
    "word_freq = [word_list.count(n) for n in word_list]\n",
    "print(\"String:\\n {} \\n\".format(string_words))\n",
    "print(\"List:\\n {} \\n\".format(word_list))\n",
    "print(\"Pairs (Words and Frequencies:\\n {}\".format(list(zip(word_list, word_freq))))"
   ]
  },
  {
   "cell_type": "code",
   "execution_count": 62,
   "id": "bac2dc98-0772-4e62-bb5b-8c26614eb184",
   "metadata": {},
   "outputs": [
    {
     "data": {
      "text/plain": [
       "{'o': 2,\n",
       " 'm': 3,\n",
       " 'a': 3,\n",
       " 'r': 1,\n",
       " ' ': 2,\n",
       " 'h': 1,\n",
       " 'e': 1,\n",
       " 'd': 1,\n",
       " 'b': 1,\n",
       " 'l': 1,\n",
       " 'y': 1,\n",
       " '1': 2,\n",
       " '2': 2,\n",
       " '3': 2,\n",
       " '4': 2,\n",
       " '5': 2,\n",
       " '6': 2,\n",
       " '7': 2,\n",
       " '8': 2,\n",
       " '9': 3}"
      ]
     },
     "execution_count": 62,
     "metadata": {},
     "output_type": "execute_result"
    }
   ],
   "source": [
    "#Task7\n",
    "def count_char(str):\n",
    "    dict={}\n",
    "    for char in str.lower():\n",
    "        for i in range(len(str)):\n",
    "            dict[char]=str.count(char)    \n",
    "    return dict\n",
    "\n",
    "count_char('omar mohamed baly1122334455667788999')"
   ]
  },
  {
   "cell_type": "code",
   "execution_count": 66,
   "id": "2118dd27-ae47-470b-bcdc-07083eecd800",
   "metadata": {},
   "outputs": [],
   "source": [
    "#Task8\n",
    "\n"
   ]
  },
  {
   "cell_type": "code",
   "execution_count": 68,
   "id": "1568bd47-795f-4870-8121-d6baccfa1a78",
   "metadata": {},
   "outputs": [
    {
     "name": "stdout",
     "output_type": "stream",
     "text": [
      "absl-py==2.1.0\n",
      "aext-assistant-server==4.0.15\n",
      "aext-assistant==4.0.15\n",
      "aext-core-server==4.0.15\n",
      "aext-core==4.0.15\n",
      "aext-panels-server==4.0.15\n",
      "aext-panels==4.0.15\n",
      "aext-share-notebook-server==4.0.15\n",
      "aext-share-notebook==4.0.15\n",
      "aext-shared==4.0.15\n",
      "aiohttp==3.9.3\n",
      "aiosignal==1.2.0\n",
      "alabaster==0.7.16\n",
      "anaconda-anon-usage==0.4.3\n",
      "anaconda-catalogs==0.2.0\n",
      "anaconda-client==1.12.3\n",
      "anaconda-cloud-auth==0.5.0\n",
      "anaconda-navigator==2.6.1\n",
      "anaconda-project==0.11.1\n",
      "anyio==4.2.0\n",
      "appdirs==1.4.4\n",
      "archspec==0.2.3\n",
      "argon2-cffi-bindings==21.2.0\n",
      "argon2-cffi==21.3.0\n",
      "arrow==1.2.3\n",
      "astroid==2.14.2\n",
      "asttokens==2.0.5\n",
      "astunparse==1.6.3\n",
      "async-lru==2.0.4\n",
      "atomicwrites==1.4.0\n",
      "attrs==23.1.0\n",
      "autopep8==2.0.4\n",
      "babel==2.11.0\n",
      "backports.functools-lru-cache==1.6.4\n",
      "backports.tempfile==1.0\n",
      "backports.weakref==1.0.post1\n",
      "bcrypt==3.2.0\n",
      "beautifulsoup4==4.12.2\n",
      "binaryornot==0.4.4\n",
      "black==24.4.2\n",
      "bleach==4.1.0\n",
      "bokeh==3.3.4\n",
      "boltons==23.0.0\n",
      "bottleneck==1.3.7\n",
      "brotli==1.0.9\n",
      "certifi==2024.7.4\n",
      "cffi==1.16.0\n",
      "chardet==4.0.0\n",
      "charset-normalizer==2.0.4\n",
      "click==8.1.7\n",
      "cloudpickle==2.2.1\n",
      "clyent==1.2.2\n",
      "colorama==0.4.6\n",
      "comm==0.2.1\n",
      "conda-build==24.1.2\n",
      "conda-content-trust==0.2.0\n",
      "conda-index==0.4.0\n",
      "conda-libmamba-solver==24.1.0\n",
      "conda-pack==0.6.0\n",
      "conda-package-handling==2.2.0\n",
      "conda-package-streaming==0.9.0\n",
      "conda-repo-cli==1.0.75\n",
      "conda-token==0.4.0\n",
      "conda-verify==3.4.2\n",
      "conda==24.5.0\n",
      "contourpy==1.2.0\n",
      "cookiecutter==2.6.0\n",
      "cryptography==42.0.2\n",
      "cytoolz==0.12.2\n",
      "dask==2023.11.0\n",
      "debugpy==1.6.7\n",
      "decorator==5.1.1\n",
      "defusedxml==0.7.1\n",
      "diff-match-patch==20200713\n",
      "dill==0.3.8\n",
      "distributed==2023.11.0\n",
      "distro==1.8.0\n",
      "docstring-to-markdown==0.11\n",
      "docutils==0.18.1\n",
      "entrypoints==0.4\n",
      "executing==0.8.3\n",
      "fastjsonschema==2.16.2\n",
      "filelock==3.13.1\n",
      "flake8==7.0.0\n",
      "flatbuffers==24.3.25\n",
      "frozendict==2.4.2\n",
      "frozenlist==1.4.0\n",
      "fsspec==2023.10.0\n",
      "future==0.18.3\n",
      "gast==0.5.4\n",
      "google-pasta==0.2.0\n",
      "grpcio==1.62.2\n",
      "h11==0.14.0\n",
      "h5py==3.11.0\n",
      "heapdict==1.0.1\n",
      "httpcore==1.0.2\n",
      "httpx==0.26.0\n",
      "idna==3.4\n",
      "imagesize==1.4.1\n",
      "importlib-metadata==7.0.1\n",
      "inflection==0.5.1\n",
      "intake==0.6.8\n",
      "intervaltree==3.1.0\n",
      "ipykernel==6.28.0\n",
      "ipython==8.20.0\n",
      "isort==5.13.2\n",
      "jaraco.classes==3.2.1\n",
      "jedi==0.19.1\n",
      "jellyfish==1.0.1\n",
      "jinja2==3.1.3\n",
      "json5==0.9.6\n",
      "jsonpatch==1.32\n",
      "jsonpointer==2.1\n",
      "jsonschema-specifications==2023.7.1\n",
      "jsonschema==4.19.2\n",
      "jupyter-client==8.6.0\n",
      "jupyter-core==5.5.0\n",
      "jupyter-events==0.10.0\n",
      "jupyter-lsp==2.2.0\n",
      "jupyter-server-terminals==0.4.4\n",
      "jupyter-server==2.14.1\n",
      "jupyterlab-pygments==0.1.2\n",
      "jupyterlab-server==2.25.1\n",
      "jupyterlab==4.0.11\n",
      "keras==3.3.3\n",
      "keyring==23.13.1\n",
      "lazy-object-proxy==1.10.0\n",
      "libarchive-c==2.9\n",
      "libclang==18.1.1\n",
      "libmambapy==1.5.6\n",
      "lmdb==1.4.1\n",
      "locket==1.0.0\n",
      "lz4==4.3.2\n",
      "markdown-it-py==2.2.0\n",
      "markupsafe==2.1.3\n",
      "matplotlib-inline==0.1.6\n",
      "mccabe==0.7.0\n",
      "mdurl==0.1.0\n",
      "menuinst==2.0.2\n",
      "mistune==2.0.4\n",
      "mkl-fft==1.3.8\n",
      "mkl-random==1.2.4\n",
      "mkl-service==2.4.0\n",
      "ml-dtypes==0.3.2\n",
      "more-itertools==10.1.0\n",
      "msgpack==1.0.3\n",
      "multidict==6.0.4\n",
      "mypy-extensions==1.0.0\n",
      "namex==0.0.8\n",
      "navigator-updater==0.4.0\n",
      "nbclient==0.8.0\n",
      "nbconvert==7.10.0\n",
      "nbformat==5.9.2\n",
      "nest-asyncio==1.6.0\n",
      "notebook-shim==0.2.3\n",
      "notebook==7.0.8\n",
      "numexpr==2.8.7\n",
      "numpy==1.26.4\n",
      "numpydoc==1.7.0\n",
      "opt-einsum==3.3.0\n",
      "optree==0.11.0\n",
      "overrides==7.4.0\n",
      "packaging==23.1\n",
      "pandas==2.1.4\n",
      "pandocfilters==1.5.0\n",
      "paramiko==2.8.1\n",
      "parso==0.8.3\n",
      "partd==1.4.1\n",
      "pathlib==1.0.1\n",
      "pathspec==0.10.3\n",
      "pexpect==4.8.0\n",
      "pickleshare==0.7.5\n",
      "pillow==10.2.0\n",
      "pip==23.3.1\n",
      "pkce==1.0.3\n",
      "pkginfo==1.9.6\n",
      "platformdirs==3.10.0\n",
      "pluggy==1.0.0\n",
      "ply==3.11\n",
      "prometheus-client==0.14.1\n",
      "prompt-toolkit==3.0.43\n",
      "psutil==5.9.0\n",
      "ptyprocess==0.7.0\n",
      "pure-eval==0.2.2\n",
      "pyarrow==14.0.2\n",
      "pycodestyle==2.11.1\n",
      "pycosat==0.6.6\n",
      "pycparser==2.21\n",
      "pydantic==1.10.12\n",
      "pydocstyle==6.3.0\n",
      "pyflakes==3.2.0\n",
      "pygments==2.15.1\n",
      "pyjwt==2.4.0\n",
      "pylint-venv==3.0.3\n",
      "pylint==2.16.2\n",
      "pyls-spyder==0.4.0\n",
      "pynacl==1.5.0\n",
      "pyqt5-sip==12.13.0\n",
      "pyqt5==5.15.10\n",
      "pyqtwebengine==5.15.6\n",
      "pysocks==1.7.1\n",
      "python-dateutil==2.8.2\n",
      "python-dotenv==0.21.0\n",
      "python-json-logger==2.0.7\n",
      "python-lsp-black==2.0.0\n",
      "python-lsp-jsonrpc==1.1.2\n",
      "python-lsp-server==1.10.0\n",
      "python-slugify==5.0.2\n",
      "python-snappy==0.6.1\n",
      "pytoolconfig==1.2.6\n",
      "pytz==2023.3.post1\n",
      "pywin32-ctypes==0.2.0\n",
      "pywin32==305.1\n",
      "pywinpty==2.0.10\n",
      "pyyaml==6.0.1\n",
      "pyzmq==25.1.2\n",
      "qdarkstyle==3.2.3\n",
      "qstylizer==0.2.2\n",
      "qtawesome==1.2.2\n",
      "qtconsole==5.5.1\n",
      "qtpy==2.4.1\n",
      "referencing==0.30.2\n",
      "requests-toolbelt==1.0.0\n",
      "requests==2.31.0\n",
      "rfc3339-validator==0.1.4\n",
      "rfc3986-validator==0.1.1\n",
      "rich==13.7.1\n",
      "rope==1.12.0\n",
      "rpds-py==0.10.6\n",
      "rtree==1.0.1\n",
      "ruamel-yaml-conda==0.17.21\n",
      "ruamel.yaml==0.17.21\n",
      "semver==2.13.0\n",
      "send2trash==1.8.2\n",
      "setuptools==68.2.2\n",
      "sip==6.7.12\n",
      "six==1.16.0\n",
      "sniffio==1.3.0\n",
      "snowballstemmer==2.2.0\n",
      "sortedcontainers==2.4.0\n",
      "soupsieve==2.5\n",
      "sphinx==7.3.7\n",
      "sphinxcontrib-applehelp==1.0.2\n",
      "sphinxcontrib-devhelp==1.0.2\n",
      "sphinxcontrib-htmlhelp==2.0.0\n",
      "sphinxcontrib-jsmath==1.0.1\n",
      "sphinxcontrib-qthelp==1.0.3\n",
      "sphinxcontrib-serializinghtml==1.1.10\n",
      "spyder-kernels==2.5.0\n",
      "spyder==5.5.1\n",
      "stack-data==0.2.0\n",
      "tabulate==0.9.0\n",
      "tblib==1.7.0\n",
      "tensorboard-data-server==0.7.2\n",
      "tensorboard==2.16.2\n",
      "tensorflow-intel==2.16.1\n",
      "tensorflow-io-gcs-filesystem==0.31.0\n",
      "tensorflow==2.16.1\n",
      "termcolor==2.4.0\n",
      "terminado==0.17.1\n",
      "text-unidecode==1.3\n",
      "textdistance==4.2.1\n",
      "three-merge==0.1.1\n",
      "tinycss2==1.2.1\n",
      "tomli==2.0.1\n",
      "tomlkit==0.11.1\n",
      "toolz==0.12.0\n",
      "tornado==6.3.3\n",
      "tqdm==4.65.0\n",
      "traitlets==5.7.1\n",
      "truststore==0.8.0\n",
      "typing-extensions==4.9.0\n",
      "tzdata==2023.3\n",
      "ujson==5.4.0\n",
      "unidecode==1.2.0\n",
      "urllib3==2.0.7\n",
      "watchdog==4.0.1\n",
      "wcwidth==0.2.5\n",
      "webencodings==0.5.1\n",
      "websocket-client==1.8.0\n",
      "whatthepatch==1.0.2\n",
      "wheel==0.41.2\n",
      "win-inet-pton==1.1.0\n",
      "wrapt==1.14.1\n",
      "xyzservices==2022.9.0\n",
      "yapf==0.40.2\n",
      "yarl==1.9.3\n",
      "zict==3.0.0\n",
      "zipp==3.17.0\n",
      "zstandard==0.19.0\n"
     ]
    }
   ],
   "source": [
    "#Task9\n",
    "import pkg_resources\n",
    "\n",
    "# Get the list of installed packages using 'pkg_resources.working_set'.\n",
    "installed_packages = pkg_resources.working_set\n",
    "\n",
    "# Create a sorted list of strings representing installed packages and their versions.\n",
    "installed_packages_list = sorted([\"%s==%s\" % (i.key, i.version) for i in installed_packages])\n",
    "\n",
    "# Print each package and its version in the sorted list.\n",
    "for m in installed_packages_list:\n",
    "    print(m)"
   ]
  },
  {
   "cell_type": "code",
   "execution_count": 76,
   "id": "0860913e-d5ce-45a1-a8e0-bd5ed69cc1fb",
   "metadata": {},
   "outputs": [
    {
     "name": "stdout",
     "output_type": "stream",
     "text": [
      "architecture :  ('64bit', 'WindowsPE')\n",
      "mac_ver :  ('', ('', '', ''), '')\n",
      "machine :  AMD64\n",
      "node :  OmarBaly\n",
      "platform :  Windows-10-10.0.22631-SP0\n",
      "processor :  Intel64 Family 6 Model 158 Stepping 10, GenuineIntel\n",
      "python_build :  ('main', 'Dec 15 2023 18:05:47')\n",
      "python_compiler :  MSC v.1916 64 bit (AMD64)\n",
      "python_version :  3.11.7\n",
      "release :  10\n",
      "system :  Windows\n",
      "uname :  uname_result(system='Windows', node='OmarBaly', release='10', version='10.0.22631', machine='AMD64')\n",
      "version :  10.0.22631\n"
     ]
    }
   ],
   "source": [
    "#Task10\n",
    "import platform as pl\n",
    "os_profile = [\n",
    "    'architecture',\n",
    "    'linux_distribution',\n",
    "    'mac_ver',\n",
    "    'machine',\n",
    "    'node',\n",
    "    'platform',\n",
    "    'processor',\n",
    "    'python_build',\n",
    "    'python_compiler',\n",
    "    'python_version',\n",
    "    'release',\n",
    "    'system',\n",
    "    'uname',\n",
    "    'version',\n",
    "]\n",
    "for key in os_profile:\n",
    "    if hasattr(pl, key):\n",
    "        print(key , \": \" , getattr(pl, key)())"
   ]
  },
  {
   "cell_type": "code",
   "execution_count": 82,
   "id": "20747d52-2236-4176-a43a-0eb3f876217b",
   "metadata": {},
   "outputs": [
    {
     "name": "stdout",
     "output_type": "stream",
     "text": [
      "(1, 2, 3)\n",
      "(1, 3, 2)\n",
      "(2, 1, 3)\n",
      "(2, 3, 1)\n",
      "(3, 1, 2)\n",
      "(3, 2, 1)\n",
      "None\n"
     ]
    }
   ],
   "source": [
    "#Task12\n",
    "import itertools\n",
    "def perm (lista):\n",
    "    permutations = itertools.permutations(lista)\n",
    "    for perm in permutations:\n",
    "        print(perm)\n",
    "\n",
    "print(perm([1,2,3]))"
   ]
  },
  {
   "cell_type": "code",
   "execution_count": 92,
   "id": "93395bf5-419e-4ecc-8daa-fa7efcfc888e",
   "metadata": {},
   "outputs": [
    {
     "data": {
      "text/plain": [
       "26"
      ]
     },
     "execution_count": 92,
     "metadata": {},
     "output_type": "execute_result"
    }
   ],
   "source": [
    "#Task14?????????????????\n",
    "def add_without_plus(x,y):\n",
    "    return x ^ y\n",
    "\n",
    "add_without_plus(-10, -20)\n"
   ]
  },
  {
   "cell_type": "code",
   "execution_count": 94,
   "id": "52e64633-fae3-492f-980c-61f2dbc92123",
   "metadata": {},
   "outputs": [
    {
     "name": "stdout",
     "output_type": "stream",
     "text": [
      "True\n",
      "True\n",
      "False\n",
      "False\n",
      "True\n"
     ]
    }
   ],
   "source": [
    "#Task15\n",
    "priority= {\n",
    "    '+': 0,\n",
    "    '-': 0,\n",
    "    '*': 1,\n",
    "    '/': 1,\n",
    "}\n",
    "\n",
    "def test_higher_priority(op1, op2):\n",
    "    return priority[op1] >= priority[op2]\n",
    "print(test_higher_priority('*','-'))\n",
    "print(test_higher_priority('+','-'))\n",
    "print(test_higher_priority('+','*'))\n",
    "print(test_higher_priority('+','/'))\n",
    "print(test_higher_priority('*','/'))"
   ]
  },
  {
   "cell_type": "code",
   "execution_count": 26,
   "id": "a760e18a-3500-420d-975d-00dcf7013e47",
   "metadata": {},
   "outputs": [
    {
     "name": "stdout",
     "output_type": "stream",
     "text": [
      "('The opposite side is: ', '3.0')\n",
      "('The adjacent side is: ', '4.0')\n",
      "('The hypotenuse is: ', '5.0')\n"
     ]
    }
   ],
   "source": [
    "#Task16\n",
    "def side(opp,adj,hypo):\n",
    "    if hypo =='x':\n",
    "        hypo=((opp**2)+(adj**2))**(1/2)\n",
    "        return\"The hypotenuse is: \",str(hypo)\n",
    "    elif adj=='x':\n",
    "        adj=((hypo**2)-(opp**2))**(1/2)\n",
    "        return(\"The adjacent side is: \",str(adj))\n",
    "    elif opp=='x':\n",
    "        opp=((hypo**2)-(adj**2))**(1/2)\n",
    "        return(\"The opposite side is: \",str(opp))\n",
    "    \n",
    "\n",
    "print(side('x',4,5))\n",
    "print(side(3,'x',5))\n",
    "print(side(3,4,'x'))"
   ]
  },
  {
   "cell_type": "code",
   "execution_count": 6,
   "id": "9b77a07e-c986-46a2-96d0-7521616db036",
   "metadata": {},
   "outputs": [
    {
     "name": "stdin",
     "output_type": "stream",
     "text": [
      "Input the first number:  25\n",
      "Input the second number:  15\n",
      "Input the third number:  35\n"
     ]
    },
    {
     "name": "stdout",
     "output_type": "stream",
     "text": [
      "the median is : 25.0\n"
     ]
    }
   ],
   "source": [
    "#Task18\n",
    "x = int(input(\"Input the first number: \"))\n",
    "y = int(input(\"Input the second number: \"))\n",
    "z = int(input(\"Input the third number: \"))\n",
    "median = (x+y+z)/3\n",
    "print(f'the median is : {median}')"
   ]
  },
  {
   "cell_type": "code",
   "execution_count": 34,
   "id": "d60453fa-5218-42f7-86d0-e5cbbfe2cf8f",
   "metadata": {},
   "outputs": [
    {
     "data": {
      "text/plain": [
       "1.4142135623730951"
      ]
     },
     "execution_count": 34,
     "metadata": {},
     "output_type": "execute_result"
    }
   ],
   "source": [
    "#Task19\n",
    "def get_power(data):\n",
    "    power=0\n",
    "    hint=0\n",
    "    for number in data :\n",
    "        if int(number)%2==0:\n",
    "            hint=int(number)\n",
    "            while hint !=1:\n",
    "                hint/=2\n",
    "                power+=1\n",
    "\n",
    "        else :\n",
    "            \n"
   ]
  },
  {
   "cell_type": "code",
   "execution_count": 98,
   "id": "ea752976-6401-4634-ac1d-40b95123ac4b",
   "metadata": {},
   "outputs": [
    {
     "name": "stdin",
     "output_type": "stream",
     "text": [
      " 100\n"
     ]
    },
    {
     "name": "stdout",
     "output_type": "stream",
     "text": [
      "24\n"
     ]
    }
   ],
   "source": [
    "#Task20\n",
    "def count_trailing_zeros(n):\n",
    "    count = 0\n",
    "    power_of_5 = 5\n",
    "    while n >= power_of_5:\n",
    "        count += n // power_of_5\n",
    "        power_of_5 *= 5\n",
    "    return count\n",
    "number = int(input(\"\"))\n",
    "print(count_trailing_zeros(number))\n"
   ]
  },
  {
   "cell_type": "code",
   "execution_count": 100,
   "id": "9e4e9cd2-a913-415a-b2a5-f6521850e66a",
   "metadata": {},
   "outputs": [
    {
     "name": "stdout",
     "output_type": "stream",
     "text": [
      "6\n",
      "2\n"
     ]
    }
   ],
   "source": [
    "#Task21\n",
    "def number_of_notes(number):\n",
    "    notes=[500,200,100,50,20,10]\n",
    "    count=0\n",
    "    while number>0:\n",
    "        if number>=500:\n",
    "            number-=500\n",
    "            count+=1\n",
    "        elif number>=200:\n",
    "            number-=200\n",
    "            count+=1\n",
    "        elif number>=100:\n",
    "            number-=100\n",
    "            count+=1\n",
    "        elif number>=50:\n",
    "            number-=50\n",
    "            count+=1\n",
    "        elif number>=20:\n",
    "            number-=20\n",
    "            count+=1\n",
    "        elif number>=10:\n",
    "            number-=10\n",
    "            count+=1\n",
    "    return count\n",
    "\n",
    "print(number_of_notes(880))\n",
    "print(number_of_notes(1000))"
   ]
  },
  {
   "cell_type": "code",
   "execution_count": 102,
   "id": "8f15f9c3-6a90-4a61-972b-b4cd00bb8c1c",
   "metadata": {},
   "outputs": [
    {
     "name": "stdout",
     "output_type": "stream",
     "text": [
      "4\n",
      "7\n",
      "13\n"
     ]
    }
   ],
   "source": [
    "#Task22\n",
    "def new_seq(n):\n",
    "    if n == 1 or n == 2 or n == 3 or n == 4:\n",
    "        return 1\n",
    "    return new_seq(n - 1) + new_seq(n - 2) + new_seq(n - 3) + new_seq(n - 4)\n",
    "\n",
    "print(new_seq(5))\n",
    "print(new_seq(6))\n",
    "print(new_seq(7))"
   ]
  },
  {
   "cell_type": "code",
   "execution_count": 126,
   "id": "6238a1f2-db18-4a0a-8c3f-f6e81bb56354",
   "metadata": {},
   "outputs": [],
   "source": [
    "#Task 23\n",
    "def repeat(n):\n",
    "    n_str = str(n) \n",
    "    while n > 0:\n",
    "        number -= sum(int(i) for i in n_str)\n",
    "        n_str = str(n)\n",
    "    return number\n",
    "print(repeat(9))     \n",
    "print(repeat(20))    \n",
    "print(repeat(110)) \n",
    "print(repeat(5674)) "
   ]
  },
  {
   "cell_type": "code",
   "execution_count": 130,
   "id": "71efadd4-60b0-460a-a1dd-45bbd1c0ee6b",
   "metadata": {},
   "outputs": [
    {
     "name": "stdout",
     "output_type": "stream",
     "text": [
      "4\n",
      "6\n",
      "3\n",
      "4\n",
      "2\n"
     ]
    }
   ],
   "source": [
    "#Task24\n",
    "def divisor_even_odd(number):\n",
    "    count=1\n",
    "    for i in range (1,number):\n",
    "        if number%i==0:\n",
    "            count+=1\n",
    "    return count\n",
    "\n",
    "print(divisor_even_odd(15))\n",
    "print(divisor_even_odd(12))\n",
    "print(divisor_even_odd(9))\n",
    "print(divisor_even_odd(6))\n",
    "print(divisor_even_odd(3))"
   ]
  },
  {
   "cell_type": "code",
   "execution_count": 132,
   "id": "d938e133-8447-4868-8113-2043ba11f791",
   "metadata": {},
   "outputs": [
    {
     "name": "stdout",
     "output_type": "stream",
     "text": [
      "[1, 4, 5]\n"
     ]
    }
   ],
   "source": [
    "#Task25\n",
    "def mobile_number(number):\n",
    "    number_missing=[]\n",
    "    for i in range(10):\n",
    "        if i not in number:\n",
    "            number_missing.append(i)\n",
    "\n",
    "    return number_missing\n",
    "\n",
    "print(mobile_number([9, 8, 3, 2, 2, 0, 9, 7, 6, 3]))"
   ]
  },
  {
   "cell_type": "code",
   "execution_count": 16,
   "id": "fe2c3f94-69d4-4b07-b31c-46a9e015eb65",
   "metadata": {},
   "outputs": [
    {
     "data": {
      "text/plain": [
       "{(1, 2, 3), (1, 3, 2), (2, 1, 3), (2, 3, 1), (3, 1, 2), (3, 2, 1)}"
      ]
     },
     "execution_count": 16,
     "metadata": {},
     "output_type": "execute_result"
    }
   ],
   "source": [
    "#Task26?????????????????????\n",
    "import itertools\n",
    "\n",
    "def sum_diff(list_numbers):\n",
    "    s=set()\n",
    "    permutations=set(itertools.permutations(list_numbers))\n",
    "    for i in permutations:\n",
    "        s.add(i)\n",
    "    return s\n",
    "sum_diff([1,2,3])"
   ]
  },
  {
   "cell_type": "code",
   "execution_count": 18,
   "id": "f59749a3-4e3a-47bf-a3fe-66a444675151",
   "metadata": {},
   "outputs": [
    {
     "name": "stdout",
     "output_type": "stream",
     "text": [
      "4\n",
      "54.0\n",
      "Not seq\n"
     ]
    }
   ],
   "source": [
    "#Task27\n",
    "def arth_geo(list_numbers):\n",
    "    if list_numbers[0]==list_numbers[1]==list_numbers[2]==0:\n",
    "        return 'Not seq'\n",
    "\n",
    "    else:\n",
    "        if list_numbers[1] - list_numbers[0] == list_numbers[2] - list_numbers[1]:\n",
    "            return list_numbers[2]+1\n",
    "        else:\n",
    "            return list_numbers[2] ** 2 / list_numbers[1]\n",
    "\n",
    "print(arth_geo([1, 2, 3]))\n",
    "print(arth_geo([2, 6, 18]))\n",
    "print(arth_geo([0, 0, 0]))"
   ]
  },
  {
   "cell_type": "code",
   "execution_count": 26,
   "id": "168967ee-d6a4-44e8-a284-2f85dcc63019",
   "metadata": {},
   "outputs": [
    {
     "name": "stdin",
     "output_type": "stream",
     "text": [
      "Input third term of the series 9\n",
      "Input third term of the series from last 33\n"
     ]
    },
    {
     "name": "stdout",
     "output_type": "stream",
     "text": [
      "7 8 9 10 11 12 13 14 15 16 17 18 19 20 21 22 23 24 25 26 27 28 29 30 31 32 33 34 35 \n",
      "length of the series is : 29\n"
     ]
    }
   ],
   "source": [
    "#Task28\n",
    "third_first=int(input('Input third term of the series'))\n",
    "third_last=int(input('Input third term of the series from last'))\n",
    "count=0\n",
    "for i in range(third_first-2,third_last+3):\n",
    "    count+=1\n",
    "    print(i,end=\" \")\n",
    "print(f'\\nlength of the series is : {count}')\n"
   ]
  },
  {
   "cell_type": "code",
   "execution_count": 28,
   "id": "7f26d111-22b5-40c3-a023-80fa3f60ee94",
   "metadata": {},
   "outputs": [
    {
     "name": "stdout",
     "output_type": "stream",
     "text": [
      "2\n",
      "2\n",
      "12\n",
      "360\n"
     ]
    }
   ],
   "source": [
    "#Task29\n",
    "def common_div(num1,num2):\n",
    "    number=1\n",
    "    div_number=2\n",
    "    while True:\n",
    "        if num1%div_number==0 and num2%div_number==0:\n",
    "            number*=div_number\n",
    "            num1/=div_number\n",
    "            num2/=div_number\n",
    "\n",
    "        else:\n",
    "            if num1/div_number<1 or num2/div_number<1:\n",
    "                break\n",
    "            div_number+=1\n",
    "     \n",
    "    return number\n",
    "\n",
    "print(common_div(2,4))\n",
    "print(common_div(2,8))\n",
    "print(common_div(12,24))\n",
    "print(common_div(360,360))"
   ]
  },
  {
   "cell_type": "code",
   "execution_count": 5,
   "id": "88269bb1-2cad-45ef-90a5-4ab3329f9d64",
   "metadata": {},
   "outputs": [
    {
     "name": "stdout",
     "output_type": "stream",
     "text": [
      "5555\n",
      "9339\n",
      "7997\n"
     ]
    }
   ],
   "source": [
    "#Task30\n",
    "def sum_palindrome(number):\n",
    "    def summ (number):\n",
    "        new_number=str(number)[::-1]\n",
    "        result=int(new_number)+number\n",
    "        return result\n",
    "    check=summ(number)\n",
    "    while True:\n",
    "        if str(check)==str(check)[::-1]:\n",
    "            break\n",
    "        else:\n",
    "            number=check\n",
    "            check=summ(number)\n",
    "    return check\n",
    "print(sum_palindrome(1234))\n",
    "print(sum_palindrome(1473))\n",
    "print(sum_palindrome(5542))"
   ]
  },
  {
   "cell_type": "code",
   "execution_count": 9,
   "id": "816c7b8e-f009-4902-9ce4-1938dd946648",
   "metadata": {},
   "outputs": [
    {
     "name": "stdout",
     "output_type": "stream",
     "text": [
      "1\n",
      "1\n"
     ]
    }
   ],
   "source": [
    "#Task31\n",
    "def carry_number(x,y):\n",
    "    sum=x+y\n",
    "    return str(sum)[0]\n",
    "\n",
    "print(carry_number(5,6))\n",
    "print(carry_number(786,457))"
   ]
  },
  {
   "cell_type": "code",
   "execution_count": 20,
   "id": "fc219429-560c-4165-9b99-a6c7843eb52a",
   "metadata": {},
   "outputs": [
    {
     "name": "stdin",
     "output_type": "stream",
     "text": [
      "Enter the heights of eight buildings:  99\n",
      "Enter the heights of eight buildings:  88\n",
      "Enter the heights of eight buildings:  77\n",
      "Enter the heights of eight buildings:  55\n",
      "Enter the heights of eight buildings:  44\n",
      "Enter the heights of eight buildings:  66\n",
      "Enter the heights of eight buildings:  11\n",
      "Enter the heights of eight buildings:  22\n"
     ]
    },
    {
     "data": {
      "text/plain": [
       "[99, 88, 77]"
      ]
     },
     "execution_count": 20,
     "metadata": {},
     "output_type": "execute_result"
    }
   ],
   "source": [
    "#Task32\n",
    "lista=[int(input(\"Enter the heights of eight buildings: \"))for i in range(8)]\n",
    "lista=sorted(lista)\n",
    "lista[-1:-4:-1]"
   ]
  },
  {
   "cell_type": "code",
   "execution_count": 7,
   "id": "cd600907-9ec4-4549-8502-a6c77e6eb756",
   "metadata": {},
   "outputs": [
    {
     "name": "stdin",
     "output_type": "stream",
     "text": [
      "Enter the two numbers :  5\n",
      "Enter the two numbers :  7\n"
     ]
    },
    {
     "name": "stdout",
     "output_type": "stream",
     "text": [
      "2\n"
     ]
    }
   ],
   "source": [
    "#Task33\n",
    "l=[int(input('Enter the two numbers : ')) for i in range(2)]\n",
    "sum=l[0]+l[1]\n",
    "print(len(str(sum)))"
   ]
  },
  {
   "cell_type": "code",
   "execution_count": 3,
   "id": "b28aaa24-4f3f-4ef8-b25d-147624ad5e09",
   "metadata": {},
   "outputs": [
    {
     "name": "stdin",
     "output_type": "stream",
     "text": [
      " 3,4,5\n"
     ]
    },
    {
     "name": "stdout",
     "output_type": "stream",
     "text": [
      "this a triangle \n"
     ]
    }
   ],
   "source": [
    "#Task34\n",
    "adj,opp,hypo=map(int,input().split(','))\n",
    "if adj**2 + opp**2 == hypo**2:\n",
    "    print('this a triangle ')\n",
    "\n",
    "else:\n",
    "    print('this is not a triangle')"
   ]
  },
  {
   "cell_type": "code",
   "execution_count": 11,
   "id": "57b4643a-7b78-49f6-994a-cc955529ee26",
   "metadata": {},
   "outputs": [
    {
     "name": "stdin",
     "output_type": "stream",
     "text": [
      "ENter the parameters 5,8,6,7,9,4\n"
     ]
    },
    {
     "name": "stdout",
     "output_type": "stream",
     "text": [
      "0 0.1527777777777778\n"
     ]
    }
   ],
   "source": [
    "#Task35\n",
    "x=0\n",
    "a,b,c,d,e,f=map(float,input(\"ENter the parameters\").split(','))\n",
    "b=b*e\n",
    "e=b*e\n",
    "if b == -e:\n",
    "    x=(c+f)/(a+d)\n",
    "    y=(c-(a*x))/b\n",
    "elif b ==e:\n",
    "    a*=-1\n",
    "    b*=-1\n",
    "    c*=-1\n",
    "    x=(c+f)/(a+d)\n",
    "    y=(c-(a*x))/b\n",
    "print(x,y)"
   ]
  },
  {
   "cell_type": "code",
   "execution_count": 13,
   "id": "7e5f5c42-dbd3-4540-b587-bb8df2a69b5e",
   "metadata": {},
   "outputs": [
    {
     "name": "stdout",
     "output_type": "stream",
     "text": [
      "Input number of months:\n"
     ]
    },
    {
     "name": "stdin",
     "output_type": "stream",
     "text": [
      " 7\n"
     ]
    },
    {
     "name": "stdout",
     "output_type": "stream",
     "text": [
      "Amount of debt:  $144000\n"
     ]
    }
   ],
   "source": [
    "#Task36\n",
    "def round_n(n):\n",
    "    if n % 1000:\n",
    "        return (1 + n // 1000) * 1000\n",
    "    else:\n",
    "        return n\n",
    "def compute_debt(n):\n",
    "    if n == 0:\n",
    "        return 100000\n",
    "    return int(round_n(compute_debt(n - 1) * 1.05))\n",
    "print(\"Input number of months:\")\n",
    "result = compute_debt(int(input()))\n",
    "print(\"Amount of debt: \", \"$\" + str(result).strip())"
   ]
  },
  {
   "cell_type": "code",
   "execution_count": 15,
   "id": "7bee3501-9f49-4f23-9ec7-cde807c23ba6",
   "metadata": {},
   "outputs": [
    {
     "name": "stdout",
     "output_type": "stream",
     "text": [
      "Input the number(n):\n"
     ]
    },
    {
     "name": "stdin",
     "output_type": "stream",
     "text": [
      " 6\n"
     ]
    },
    {
     "name": "stdout",
     "output_type": "stream",
     "text": [
      "Number of combinations: 84\n"
     ]
    }
   ],
   "source": [
    "#Task37\n",
    "import itertools\n",
    "print(\"Input the number(n):\")\n",
    "n = int(input())\n",
    "result = 0\n",
    "for (i, j, k) in itertools.product(range(10), range(10), range(10)):\n",
    "    result += (0 <= n - (i + j + k) <= 9)\n",
    "print(\"Number of combinations:\", result)\n"
   ]
  },
  {
   "cell_type": "code",
   "execution_count": 7,
   "id": "d9fdbd3d-bd43-449e-a230-83ff66893655",
   "metadata": {},
   "outputs": [
    {
     "name": "stdout",
     "output_type": "stream",
     "text": [
      "11\n"
     ]
    }
   ],
   "source": [
    "#Task38\n",
    "def count_prime(number):\n",
    "    count=0\n",
    "    \n",
    "    for i in range(2,number):\n",
    "        is_prime=0\n",
    "        for y in range(1,i+1):\n",
    "            if i%y==0:\n",
    "                is_prime+=1\n",
    "        if is_prime==2:\n",
    "            count+=1\n",
    "    return count\n",
    "print(count_prime(35))"
   ]
  },
  {
   "cell_type": "code",
   "execution_count": 10,
   "id": "eefaa1d4-0521-4f24-8c42-771e57259f34",
   "metadata": {},
   "outputs": [
    {
     "name": "stdin",
     "output_type": "stream",
     "text": [
      " 9 3 6 8 3 6\n"
     ]
    },
    {
     "name": "stdout",
     "output_type": "stream",
     "text": [
      "Radius of the said circle:\n",
      "3.358\n",
      "Central coordinate (x, y) of the circle:\n",
      "6.071 4.643\n"
     ]
    }
   ],
   "source": [
    "#Task39\n",
    "x1, y1, x2, y2, x3, y3 = map(float, input().split())\n",
    "c = (x1 - x2)**2 + (y1 - y2)**2\n",
    "a = (x2 - x3)**2 + (y2 - y3)**2\n",
    "b = (x3 - x1)**2 + (y3 - y1)**2\n",
    "s = 2 * (a * b + b * c + c * a) - (a**2 + b**2 + c**2)\n",
    "px = (a * (b + c - a) * x1 + b * (c + a - b) * x2 + c * (a + b - c) * x3) / s\n",
    "py = (a * (b + c - a) * y1 + b * (c + a - b) * y2 + c * (a + b - c) * y3) / s\n",
    "ar = a**0.5\n",
    "br = b**0.5\n",
    "cr = c**0.5\n",
    "r = ar * br * cr / ((ar + br + cr) * (-ar + br + cr) * (ar - br + cr) * (ar + br - cr))**0.5\n",
    "print(\"Radius of the said circle:\")\n",
    "print(\"{:>.3f}\".format(r))\n",
    "print(\"Central coordinate (x, y) of the circle:\")\n",
    "print(\"{:>.3f}\".format(px), \"{:>.3f}\".format(py))"
   ]
  },
  {
   "cell_type": "code",
   "execution_count": 12,
   "id": "d3994e7a-b159-4ab6-870c-dcb949d753e5",
   "metadata": {},
   "outputs": [
    {
     "name": "stdout",
     "output_type": "stream",
     "text": [
      "Input x1, y1, x2, y2, x3, y3, xp, yp:\n"
     ]
    },
    {
     "name": "stdin",
     "output_type": "stream",
     "text": [
      " 2 3 4 5 6 8 7 1\n"
     ]
    },
    {
     "name": "stdout",
     "output_type": "stream",
     "text": [
      "The point is outside the triangle.\n"
     ]
    }
   ],
   "source": [
    "#Task40\n",
    "print(\"Input x1, y1, x2, y2, x3, y3, xp, yp:\")\n",
    "x1, y1, x2, y2, x3, y3, xp, yp = map(float, input().split())\n",
    "c1 = (x2 - x1) * (yp - y1) - (y2 - y1) * (xp - x1)\n",
    "c2 = (x3 - x2) * (yp - y2) - (y3 - y2) * (xp - x2)\n",
    "c3 = (x1 - x3) * (yp - y3) - (y1 - y3) * (xp - x3)\n",
    "if (c1 < 0 and c2 < 0 and c3 < 0) or (c1 > 0 and c2 > 0 and c3 > 0):\n",
    "    print(\"The point is in the triangle.\")\n",
    "else:\n",
    "    print(\"The point is outside the triangle.\")"
   ]
  },
  {
   "cell_type": "code",
   "execution_count": 14,
   "id": "08e6a100-b2c5-4b88-a445-858af21703ce",
   "metadata": {},
   "outputs": [
    {
     "name": "stdin",
     "output_type": "stream",
     "text": [
      " 5\n",
      " 7\n"
     ]
    },
    {
     "name": "stdout",
     "output_type": "stream",
     "text": [
      "Sum of the two integers:  12\n"
     ]
    }
   ],
   "source": [
    "#Task41\n",
    "num1 = int(input())\n",
    "num2 = int(input())\n",
    "\n",
    "if num1 >= 10 ** 80 or num2 >= 10 ** 80 or num1 + num2 >= 10 ** 80:\n",
    "    print(\"Overflow!\")\n",
    "else:\n",
    "    print(\"Sum of the two integers: \", num1 + num2)\n"
   ]
  },
  {
   "cell_type": "code",
   "execution_count": 16,
   "id": "786be147-2edb-4d7c-85bd-caaf7eb00a2e",
   "metadata": {},
   "outputs": [
    {
     "name": "stdout",
     "output_type": "stream",
     "text": [
      "[40, 35, 30, 25, 15, 14]\n"
     ]
    }
   ],
   "source": [
    "#Task42\n",
    "def sort_list(list_numbers):\n",
    "    return sorted(list_numbers,reverse=True)\n",
    "\n",
    "print(sort_list([15,30,25,14 ,35, 40]))"
   ]
  },
  {
   "cell_type": "code",
   "execution_count": 22,
   "id": "30aca281-a6e1-474b-a92f-f344884a58c9",
   "metadata": {},
   "outputs": [
    {
     "name": "stdin",
     "output_type": "stream",
     "text": [
      " 2 5 6 4 8 3 9 7\n"
     ]
    },
    {
     "name": "stdout",
     "output_type": "stream",
     "text": [
      "Parallel\n"
     ]
    }
   ],
   "source": [
    "#Task43\n",
    "x1, y1, x2, y2, x3, y3, x4, y4 = map(float, input().split())\n",
    "res_x_12=x2-x1\n",
    "res_x_34=x4-x3\n",
    "res_y_12=y2-y1\n",
    "res_y_34=y4-y3\n",
    "if ((res_x_12*res_x_34)+(res_y_12*res_y_34))==0:\n",
    "    print('Parallel')\n",
    "\n",
    "else:\n",
    "    print('Not parallel')"
   ]
  },
  {
   "cell_type": "code",
   "execution_count": 24,
   "id": "33d3077b-cd46-4fe9-ab46-549b8d6294ba",
   "metadata": {},
   "outputs": [
    {
     "name": "stdout",
     "output_type": "stream",
     "text": [
      "Input x1, y1, r1, x2, y2, r2:\n"
     ]
    },
    {
     "name": "stdin",
     "output_type": "stream",
     "text": [
      " 5 4 2 3 9 2\n"
     ]
    },
    {
     "name": "stdout",
     "output_type": "stream",
     "text": [
      "C1 and C2 do not overlap\n"
     ]
    }
   ],
   "source": [
    "#Task45\n",
    "import math\n",
    "print(\"Input x1, y1, r1, x2, y2, r2:\")\n",
    "x1, y1, r1, x2, y2, r2 = [float(i) for i in input().split()]\n",
    "d = math.sqrt((x1 - x2)**2 + (y1 - y2)**2)\n",
    "if d <= r1 - r2:\n",
    "    print(\"C2 is in C1\")\n",
    "elif d <= r2 - r1:\n",
    "    print(\"C1 is in C2\")\n",
    "elif d < r1 + r2:\n",
    "    print(\"Circumference of C1 and C2 intersect\")\n",
    "elif d == r1 + r2:\n",
    "    print(\"Circumference of C1 and C2 will touch\")\n",
    "else:\n",
    "    print(\"C1 and C2 do not overlap\")"
   ]
  },
  {
   "cell_type": "code",
   "execution_count": null,
   "id": "4555e4b2-7b7f-4b9e-9c73-621a101b8491",
   "metadata": {},
   "outputs": [],
   "source": [
    "#Task46\n"
   ]
  },
  {
   "cell_type": "code",
   "execution_count": 26,
   "id": "12a39f5f-73f1-4896-83ff-ad1a2ca29a56",
   "metadata": {},
   "outputs": [
    {
     "name": "stdout",
     "output_type": "stream",
     "text": [
      "Input a text in a line.\n"
     ]
    },
    {
     "name": "stdin",
     "output_type": "stream",
     "text": [
      "  Thank you for your comment and your participation.\n"
     ]
    },
    {
     "name": "stdout",
     "output_type": "stream",
     "text": [
      "\n",
      "Most frequent text and the word which has the maximum number of letters.\n",
      "your participation.\n"
     ]
    }
   ],
   "source": [
    "#Task47\n",
    "import collections\n",
    "print(\"Input a text in a line.\")\n",
    "text_list = list(map(str, input().split()))\n",
    "sc = collections.Counter(text_list)\n",
    "common_word = sc.most_common()[0][0]\n",
    "max_char = \"\"\n",
    "for s in text_list:\n",
    "    if len(max_char) < len(s):\n",
    "        max_char = s  \n",
    "print(\"\\nMost frequent text and the word which has the maximum number of letters.\")\n",
    "print(common_word, max_char)\n"
   ]
  },
  {
   "cell_type": "code",
   "execution_count": 7,
   "id": "1e92be17-0716-4398-ab88-3de1846a705c",
   "metadata": {},
   "outputs": [
    {
     "name": "stdin",
     "output_type": "stream",
     "text": [
      "Enter the sides :  3,4,5\n"
     ]
    },
    {
     "name": "stdout",
     "output_type": "stream",
     "text": [
      "This is a rectangle\n"
     ]
    },
    {
     "data": {
      "text/plain": [
       "3"
      ]
     },
     "execution_count": 7,
     "metadata": {},
     "output_type": "execute_result"
    }
   ],
   "source": [
    "#Task49\n",
    "x,y,z=map(int,input(\"Enter the sides : \").split(','))\n",
    "if x==y : \n",
    "    print('This is a rhombus')\n",
    "if (x**2)+(y**2)==(z**2):\n",
    "    print('This is a rectangle')\n",
    "x"
   ]
  },
  {
   "cell_type": "code",
   "execution_count": 23,
   "id": "a00ed8d4-6602-4ada-bb92-0f7053346c49",
   "metadata": {},
   "outputs": [
    {
     "data": {
      "text/plain": [
       "'java is popular than python '"
      ]
     },
     "execution_count": 23,
     "metadata": {},
     "output_type": "execute_result"
    }
   ],
   "source": [
    "#Task50\n",
    "def replace_wordes(str):\n",
    "    new_str=''\n",
    "    str=str.lower().split()\n",
    "    for i in range(len(str)):\n",
    "        if str[i]=='python':\n",
    "            str[i]='java'\n",
    "        elif str[i]=='java':\n",
    "            str[i]='python'\n",
    "        new_str+=str[i]+\" \"\n",
    "    return new_str\n",
    "\n",
    "replace_wordes('Python is popular than Java')\n",
    "    "
   ]
  },
  {
   "cell_type": "code",
   "execution_count": 29,
   "id": "31ab0c8a-2f54-4bb3-aa45-6dbb3a87f41b",
   "metadata": {},
   "outputs": [
    {
     "name": "stdin",
     "output_type": "stream",
     "text": [
      "Input an integer created by 8 numbers from 0 to 9 34568729\n"
     ]
    },
    {
     "name": "stdout",
     "output_type": "stream",
     "text": [
      "['9', '8', '7', '6', '5', '4', '3', '2']\n",
      "23456789\n",
      "diff is 75308643\n"
     ]
    }
   ],
   "source": [
    "#Task51\n",
    "numbers=list(input('Input an integer created by 8 numbers from 0 to 9'))\n",
    "numbers=sorted(numbers,reverse=True)\n",
    "print(numbers)\n",
    "large=''\n",
    "small=''\n",
    "for number in numbers :\n",
    "    large+=number\n",
    "numbers=sorted(numbers)\n",
    "for number in numbers :\n",
    "    small+=number\n",
    "print(small)\n",
    "print(f'diff is {int(large)-int(small)}')"
   ]
  },
  {
   "cell_type": "code",
   "execution_count": 29,
   "id": "98df199e-6c32-4366-918f-a63e071cbeea",
   "metadata": {},
   "outputs": [
    {
     "data": {
      "text/plain": [
       "1060"
      ]
     },
     "execution_count": 29,
     "metadata": {},
     "output_type": "execute_result"
    }
   ],
   "source": [
    "#Task52\n",
    "def sum_prime(number):\n",
    "    prime_counter=0\n",
    "    sum=0\n",
    "    for i in range(2,10000):\n",
    "        check_counter=0\n",
    "        for y in range(1,i+1):\n",
    "            if i%y==0:\n",
    "                check_counter+=1\n",
    "        if check_counter==2:\n",
    "            sum+=i\n",
    "            prime_counter+=1\n",
    "            \n",
    "        if prime_counter==number:\n",
    "            break\n",
    "    return sum        \n",
    "sum_prime(25)    "
   ]
  },
  {
   "cell_type": "code",
   "execution_count": null,
   "id": "bc2d6d88-f511-4cc8-825f-feb96ea5438d",
   "metadata": {},
   "outputs": [],
   "source": [
    "#Task53\n"
   ]
  },
  {
   "cell_type": "code",
   "execution_count": 2,
   "id": "11dc3291-8ffe-4600-83de-85ee55d8adba",
   "metadata": {},
   "outputs": [
    {
     "name": "stdout",
     "output_type": "stream",
     "text": [
      "11\n"
     ]
    }
   ],
   "source": [
    "#Task54\n",
    "def max_regions(n):\n",
    "    return (n * (n + 1)) // 2 + 1\n",
    "\n",
    "print(max_regions(4))"
   ]
  },
  {
   "cell_type": "code",
   "execution_count": 33,
   "id": "6be861ca-15b3-42e5-865d-f5677b4ca84b",
   "metadata": {},
   "outputs": [
    {
     "name": "stdin",
     "output_type": "stream",
     "text": [
      " 4.5,-2.5,-2.5,4.5,3.5,3.5,3.8,-3.5\n"
     ]
    },
    {
     "name": "stdout",
     "output_type": "stream",
     "text": [
      "AB and CD are not orthogonal\n"
     ]
    }
   ],
   "source": [
    "#Task55\n",
    "ax,ay,bx,by,cx,cy,dx,dy=map(float,input().split(','))\n",
    "result_abx=bx-ax\n",
    "result_aby=by-ay\n",
    "result_cdx=dx-cx\n",
    "result_cdy=dy-cy\n",
    "dot_product=(result_abx*result_cdx)+(result_aby*result_cdy)\n",
    "if dot_product ==0:\n",
    "    print(\"AB and CD are orthogonal \")\n",
    "\n",
    "else:\n",
    "    print(\"AB and CD are not orthogonal\")\n",
    "\n"
   ]
  },
  {
   "cell_type": "code",
   "execution_count": 7,
   "id": "8eda4eaa-0661-4afb-a63f-9c4ef0ce6265",
   "metadata": {},
   "outputs": [
    {
     "name": "stdout",
     "output_type": "stream",
     "text": [
      "80\n"
     ]
    }
   ],
   "source": [
    "#Task56\n",
    "import re\n",
    "def sum_number(text):\n",
    "    result = sum(map(int,re.findall(r'[0-9]{1,5}', text)))\n",
    "    return result\n",
    "    \n",
    "    \n",
    "\n",
    "print(sum_number(\"sd1fdsfs23 dssd56\"))\n"
   ]
  },
  {
   "cell_type": "code",
   "execution_count": 8,
   "id": "e33f54aa-3bfd-4342-b523-4105c926a27c",
   "metadata": {},
   "outputs": [],
   "source": [
    "#Task57"
   ]
  },
  {
   "cell_type": "code",
   "execution_count": 21,
   "id": "ad948d17-f058-43bc-ae13-c9584147b074",
   "metadata": {},
   "outputs": [
    {
     "data": {
      "text/plain": [
       "'xyzzzzzz1000026'"
      ]
     },
     "execution_count": 21,
     "metadata": {},
     "output_type": "execute_result"
    }
   ],
   "source": [
    "#Task58\n",
    "def restore_orignal(str):\n",
    "    new_str=''\n",
    "    i=0\n",
    "    while i <len(str):\n",
    "        if str[i]!='#':\n",
    "            new_str+=str[i]\n",
    "            i+=1\n",
    "        else:\n",
    "            for y in range (int(str[i+1])):\n",
    "                new_str+=str[i+2]\n",
    "            i+=3\n",
    "\n",
    "    return new_str\n",
    "restore_orignal('xy#6z1#4026')"
   ]
  },
  {
   "cell_type": "code",
   "execution_count": 1,
   "id": "1d514ca2-1914-41fe-aa30-4055e19481e3",
   "metadata": {},
   "outputs": [
    {
     "name": "stdin",
     "output_type": "stream",
     "text": [
      "Input number of sides:  5\n"
     ]
    },
    {
     "name": "stdout",
     "output_type": "stream",
     "text": [
      "Side: 1\n",
      "Input the Coordinate:\n"
     ]
    },
    {
     "name": "stdin",
     "output_type": "stream",
     "text": [
      "Input Coordinate x: 1\n",
      "Input Coordinate y: 0\n"
     ]
    },
    {
     "name": "stdout",
     "output_type": "stream",
     "text": [
      "Side: 2\n",
      "Input the Coordinate:\n"
     ]
    },
    {
     "name": "stdin",
     "output_type": "stream",
     "text": [
      "Input Coordinate x: 0\n",
      "Input Coordinate y: 0\n"
     ]
    },
    {
     "name": "stdout",
     "output_type": "stream",
     "text": [
      "Side: 3\n",
      "Input the Coordinate:\n"
     ]
    },
    {
     "name": "stdin",
     "output_type": "stream",
     "text": [
      "Input Coordinate x: 1\n",
      "Input Coordinate y: 1\n"
     ]
    },
    {
     "name": "stdout",
     "output_type": "stream",
     "text": [
      "Side: 4\n",
      "Input the Coordinate:\n"
     ]
    },
    {
     "name": "stdin",
     "output_type": "stream",
     "text": [
      "Input Coordinate x: 2\n",
      "Input Coordinate y: 0\n"
     ]
    },
    {
     "name": "stdout",
     "output_type": "stream",
     "text": [
      "Side: 5\n",
      "Input the Coordinate:\n"
     ]
    },
    {
     "name": "stdin",
     "output_type": "stream",
     "text": [
      "Input Coordinate x: -1\n",
      "Input Coordinate y: 1\n"
     ]
    },
    {
     "name": "stdout",
     "output_type": "stream",
     "text": [
      "\n",
      "Area of the Polygon: 0.5\n"
     ]
    }
   ],
   "source": [
    "#Task59\n",
    "def poly_area(c):\n",
    "    add = []\n",
    "    for i in range(0, (len(c) - 2), 2):\n",
    "        add.append(c[i] * c[i + 3] - c[i + 1] * c[i + 2])\n",
    "    \n",
    "    add.append(c[len(c) - 2] * c[1] - c[len(c) - 1] * c[0])\n",
    "    \n",
    "    return abs(sum(add) / 2)\n",
    "\n",
    "no_sides = int(input('Input number of sides: '))\n",
    "cord_data = []\n",
    "for z in range(no_sides):\n",
    "    print(\"Side:\", z+1)\n",
    "    print(\"Input the Coordinate:\")\n",
    "    x = int(input('Input Coordinate x:'))\n",
    "    y = int(input('Input Coordinate y:'))\n",
    "    cord_data.append(x)\n",
    "    cord_data.append(y)\n",
    "print(\"\\nArea of the Polygon:\", poly_area(cord_data))\n"
   ]
  },
  {
   "cell_type": "code",
   "execution_count": 5,
   "id": "51c86eb0-a863-48c4-831d-98f0c78949a5",
   "metadata": {},
   "outputs": [
    {
     "name": "stdout",
     "output_type": "stream",
     "text": [
      "Input a sentence\n"
     ]
    },
    {
     "name": "stdin",
     "output_type": "stream",
     "text": [
      " The quick brown fox\n"
     ]
    },
    {
     "name": "stdout",
     "output_type": "stream",
     "text": [
      "3 to 6 characters length of words:\n",
      "The quick brown fox\n"
     ]
    }
   ],
   "source": [
    "#Task60\n",
    "print(\"Input a sentence\")\n",
    "yy = input()\n",
    "yy = yy.replace(\",\", \" \")\n",
    "yy = yy.replace(\".\", \" \")\n",
    "print(\"3 to 6 characters length of words:\")\n",
    "print(*[y for y in yy.split() if 3 <= len(y) <= 6])\n"
   ]
  },
  {
   "cell_type": "code",
   "execution_count": null,
   "id": "71133990-e388-470f-acd1-5ce94c30dd8f",
   "metadata": {},
   "outputs": [],
   "source": [
    "#Task61\n"
   ]
  },
  {
   "cell_type": "code",
   "execution_count": null,
   "id": "6b2873c7-4842-492c-adab-7d9959a7dd8c",
   "metadata": {},
   "outputs": [
    {
     "name": "stdout",
     "output_type": "stream",
     "text": [
      "Input a positive integer:\n"
     ]
    },
    {
     "name": "stdin",
     "output_type": "stream",
     "text": [
      " 252\n"
     ]
    },
    {
     "name": "stdout",
     "output_type": "stream",
     "text": [
      "Number of combinations of a, b, c, d: 2731135\n"
     ]
    },
    {
     "name": "stdin",
     "output_type": "stream",
     "text": [
      " 366666666666\n"
     ]
    }
   ],
   "source": [
    "#Task62\n",
    "\n",
    "from collections import Counter\n",
    "\n",
    "print(\"Input a positive integer:\")\n",
    "\n",
    "pair_dict = Counter()\n",
    "\n",
    "for i in range(2001):\n",
    "    pair_dict[i] = min(i, 2000 - i) + 1\n",
    "while True:\n",
    "    try:\n",
    "        n = int(input())\n",
    "        ans = 0\n",
    "        for i in range(n + 1):\n",
    "            ans += pair_dict[i] * pair_dict[n - i]\n",
    "\n",
    "        print(\"Number of combinations of a, b, c, d:\", ans)\n",
    "    except EOFError:\n",
    "        break\n"
   ]
  },
  {
   "cell_type": "code",
   "execution_count": 3,
   "id": "e46035d3-b350-486a-9019-4369d2a5f7b2",
   "metadata": {},
   "outputs": [
    {
     "name": "stdout",
     "output_type": "stream",
     "text": [
      "Input number of rows/columns (0 to exit)\n"
     ]
    },
    {
     "name": "stdin",
     "output_type": "stream",
     "text": [
      " 4\n"
     ]
    },
    {
     "name": "stdout",
     "output_type": "stream",
     "text": [
      "Input cell value:\n"
     ]
    },
    {
     "name": "stdin",
     "output_type": "stream",
     "text": [
      " 25 69 51 26\n",
      " 68 35 29 54\n",
      " 54 57 45 63\n",
      " 61 68 47 59\n"
     ]
    },
    {
     "name": "stdout",
     "output_type": "stream",
     "text": [
      "Result:\n",
      "   25   69   51   26  171   68   35   29   54  186   54   57   45   63  219   61   68   47   59  235  208  229  172  202  811Input number of rows/columns (0 to exit)\n"
     ]
    },
    {
     "name": "stdin",
     "output_type": "stream",
     "text": [
      " 0\n"
     ]
    }
   ],
   "source": [
    "#Task63\n",
    "# Continuous loop to execute the program until the user chooses to exit (input 0)\n",
    "while True:\n",
    "    print(\"Input number of rows/columns \")\n",
    "\n",
    "    n = int(input())\n",
    "\n",
    "    if n == 0:\n",
    "        break\n",
    "    print(\"Input cell value:\")\n",
    "\n",
    "    x = []\n",
    "\n",
    "    for i in range(n):\n",
    "        x.append([int(num) for num in input().split()])\n",
    "\n",
    "    for i in range(n):\n",
    "        sum = 0\n",
    "        for j in range(n):\n",
    "            sum += x[i][j]\n",
    "        x[i].append(sum)\n",
    "    x.append([])\n",
    "\n",
    "    for i in range(n + 1):\n",
    "        sum = 0\n",
    "        for j in range(n):\n",
    "            sum += x[j][i]\n",
    "        x[n].append(sum)\n",
    "\n",
    "    print(\"Result:\")\n",
    "\n",
    "    for i in range(n + 1):\n",
    "        for j in range(n + 1):\n",
    "            print('{0:>5}'.format(x[i][j]), end=\"\")\n",
    "        "
   ]
  },
  {
   "cell_type": "code",
   "execution_count": 5,
   "id": "fa77f734-df01-4f77-9969-e37374211cd3",
   "metadata": {},
   "outputs": [
    {
     "name": "stdout",
     "output_type": "stream",
     "text": [
      "True\n",
      "True\n",
      "True\n",
      "False\n"
     ]
    }
   ],
   "source": [
    "#Task64\n",
    "\n",
    "def check_sum(nums, k):   \n",
    "\n",
    "    for i in range(len(nums)):\n",
    "\n",
    "        for j in range(i+1, len(nums)):\n",
    "\n",
    "            if nums[i] + nums[j] == k:\n",
    "                return True  \n",
    "    return False  \n",
    "print(check_sum([12, 5, 0, 5], 10))\n",
    "print(check_sum([20, 20, 4, 5], 40))\n",
    "print(check_sum([1, -1], 0))\n",
    "print(check_sum([1, 1, 0], 0))"
   ]
  },
  {
   "cell_type": "code",
   "execution_count": 7,
   "id": "0b6f0b5b-a521-4e40-9dc7-24ca9b2d0e42",
   "metadata": {},
   "outputs": [
    {
     "name": "stdout",
     "output_type": "stream",
     "text": [
      "Gren\n",
      "exercises\n"
     ]
    }
   ],
   "source": [
    "#Task65\n",
    "\n",
    "def longest_word_sequence(s, d):\n",
    "    long_word = \"\"  \n",
    "    \n",
    "    for word in d:  \n",
    "        temp_word = ''  \n",
    "        j = 0  \n",
    "        \n",
    "        for letter in word:  \n",
    "            for i in range(j, len(s)): \n",
    "                if letter == s[i]:  \n",
    "                    temp_word += letter  \n",
    "                    j = i \n",
    "                    break\n",
    "                else:\n",
    "                    continue  \n",
    "            \n",
    "        \n",
    "        if temp_word == word and len(long_word) < len(temp_word):\n",
    "            long_word = temp_word \n",
    "    \n",
    "    return long_word  \n",
    "\n",
    "\n",
    "print(longest_word_sequence(\"Green\", {\"Gn\", \"Gren\", \"ree\", \"en\"}))\n",
    "print(longest_word_sequence(\"pythonexercises\", {\"py\", \"ex\", \"exercises\"}))\n"
   ]
  },
  {
   "cell_type": "code",
   "execution_count": 1,
   "id": "0f578de0-7122-4335-9c1a-bfabddadd04c",
   "metadata": {},
   "outputs": [
    {
     "name": "stdout",
     "output_type": "stream",
     "text": [
      "True\n",
      "True\n",
      "False\n"
     ]
    }
   ],
   "source": [
    "#Task66\n",
    "\n",
    "def is_Happy_num(n):\n",
    "    past = set()  \n",
    "    while n != 1:  \n",
    "        n = sum(int(i) ** 2 for i in str(n)) \n",
    "        if n in past: \n",
    "            return False  \n",
    "        past.add(n)  \n",
    "    return True  \n",
    "\n",
    "print(is_Happy_num(7))\n",
    "print(is_Happy_num(932))\n",
    "print(is_Happy_num(6))\n"
   ]
  },
  {
   "cell_type": "code",
   "execution_count": 7,
   "id": "b657c17b-e9cb-424c-ab07-d6ba26e7e932",
   "metadata": {},
   "outputs": [
    {
     "name": "stdout",
     "output_type": "stream",
     "text": [
      "4\n",
      "25\n"
     ]
    }
   ],
   "source": [
    "#Task68\n",
    "def count_prime(number):\n",
    "    count=0\n",
    "    \n",
    "    for i in range(2,number):\n",
    "        is_prime=0\n",
    "        for y in range(1,i+1):\n",
    "            if i%y==0:\n",
    "                is_prime+=1\n",
    "        if is_prime==2:\n",
    "            count+=1\n",
    "    return count\n",
    "print(count_prime(10))\n",
    "print(count_prime(100))"
   ]
  },
  {
   "cell_type": "code",
   "execution_count": 11,
   "id": "05951413-f715-49c9-93d3-4ec45e6031aa",
   "metadata": {},
   "outputs": [
    {
     "name": "stdout",
     "output_type": "stream",
     "text": [
      "abc\n",
      "w3r\n",
      "P\n",
      "\n"
     ]
    }
   ],
   "source": [
    "#Task70\n",
    "def longest_Common_Prefix(str1):\n",
    "    \n",
    "    if not str1: \n",
    "        return \"\"\n",
    "\n",
    "    short_str = min(str1, key=len)  \n",
    "\n",
    "    for i, char in enumerate(short_str):  \n",
    "        for other in str1:  \n",
    "            if other[i] != char:  \n",
    "                return short_str[:i]  \n",
    "\n",
    "    return short_str  \n",
    "\n",
    "print(longest_Common_Prefix([\"abcdefgh\", \"abcefgh\"]))\n",
    "print(longest_Common_Prefix([\"w3r\", \"w3resource\"])) \n",
    "print(longest_Common_Prefix([\"Python\", \"PHP\", \"Perl\"])) \n",
    "print(longest_Common_Prefix([\"Python\", \"PHP\", \"Java\"]))  \n"
   ]
  },
  {
   "cell_type": "code",
   "execution_count": 13,
   "id": "2b8b1ab4-258e-40c4-8f33-b21f1e0b31eb",
   "metadata": {},
   "outputs": [
    {
     "name": "stdout",
     "output_type": "stream",
     "text": [
      "w3resuorce\n",
      "Python\n",
      "Perl\n",
      "ASU\n"
     ]
    }
   ],
   "source": [
    "#Task71\n",
    "def reverse_vowels(str1):\n",
    "    vowels = \"\"  \n",
    "    for char in str1:\n",
    "        if char in \"aeiouAEIOU\":  \n",
    "            vowels += char  \n",
    "    result_string = \"\"  \n",
    "    for char in str1:\n",
    "        if char in \"aeiouAEIOU\":  \n",
    "            result_string += vowels[-1] \n",
    "            vowels = vowels[:-1]  \n",
    "        else:\n",
    "            result_string += char  \n",
    "    return result_string\n",
    "\n",
    "print(reverse_vowels(\"w3resource\"))   \n",
    "print(reverse_vowels(\"Python\"))\n",
    "print(reverse_vowels(\"Perl\"))  \n",
    "print(reverse_vowels(\"USA\"))  "
   ]
  },
  {
   "cell_type": "code",
   "execution_count": 11,
   "id": "a252d902-1cd5-40b5-87c8-c62b141c2249",
   "metadata": {},
   "outputs": [
    {
     "name": "stdout",
     "output_type": "stream",
     "text": [
      "True\n",
      "False\n",
      "False\n"
     ]
    }
   ],
   "source": [
    "#Task72\n",
    "def palindeome (number):\n",
    "    return str(number)==str(number)[::-1]\n",
    "\n",
    "print(palindeome(393))\n",
    "print(palindeome(100))\n",
    "print(palindeome(-838))"
   ]
  },
  {
   "cell_type": "code",
   "execution_count": 21,
   "id": "231c55a9-74c9-410d-9f47-55e5ec2bf914",
   "metadata": {},
   "outputs": [
    {
     "name": "stdout",
     "output_type": "stream",
     "text": [
      "5\n",
      "3\n"
     ]
    }
   ],
   "source": [
    "#Task73\n",
    "def remove_duplicates(list_numbers):\n",
    "    for number in list_numbers:\n",
    "        if number in list_numbers:\n",
    "            list_numbers.remove(number)\n",
    "            \n",
    "\n",
    "    return len(list_numbers)\n",
    "\n",
    "print(remove_duplicates([0,0,1,1,2,2,3,3,4,4,4]))\n",
    "print(remove_duplicates([1, 2, 2, 3, 4, 4]))"
   ]
  },
  {
   "cell_type": "code",
   "execution_count": 15,
   "id": "4e26fb07-ac73-4291-bc2d-54951216c91a",
   "metadata": {},
   "outputs": [
    {
     "name": "stdout",
     "output_type": "stream",
     "text": [
      "10\n",
      "7\n",
      "0\n"
     ]
    }
   ],
   "source": [
    "#Task74\n",
    "\n",
    "def buy_and_sell(stock_price):\n",
    "    max_profit_val, current_max_val = 0, 0\n",
    "    \n",
    "    \n",
    "    for price in reversed(stock_price):\n",
    "\n",
    "        current_max_val = max(current_max_val, price)\n",
    "        \n",
    "        potential_profit = current_max_val - price\n",
    "        \n",
    "\n",
    "        max_profit_val = max(potential_profit, max_profit_val)\n",
    "\n",
    "    return max_profit_val\n",
    "\n",
    "\n",
    "print(buy_and_sell([8, 10, 7, 5, 7, 15])) \n",
    "print(buy_and_sell([1, 2, 8, 1]))           \n",
    "print(buy_and_sell([]))                     \n"
   ]
  },
  {
   "cell_type": "code",
   "execution_count": 17,
   "id": "fe45b1cc-b664-4b58-ae92-ad6768a8df77",
   "metadata": {},
   "outputs": [
    {
     "name": "stdout",
     "output_type": "stream",
     "text": [
      "6\n",
      "0\n",
      "5\n",
      "0\n"
     ]
    }
   ],
   "source": [
    "#Task75\n",
    "def remove_element(array_nums, val):\n",
    "\n",
    "    i = 0\n",
    "    \n",
    "\n",
    "    while i < len(array_nums):\n",
    "        if array_nums[i] == val:\n",
    "\n",
    "            array_nums.remove(array_nums[i])\n",
    "        else:\n",
    "\n",
    "            i += 1\n",
    "    return len(array_nums)\n",
    "\n",
    "print(remove_element([1, 2, 3, 4, 5, 6, 7, 5], 5))    \n",
    "print(remove_element([10, 10, 10, 10, 10], 10))       \n",
    "print(remove_element([10, 10, 10, 10, 10], 20))       \n",
    "print(remove_element([], 1))    \n"
   ]
  },
  {
   "cell_type": "code",
   "execution_count": null,
   "id": "cc2c79cc-cc18-44f6-92d1-15d28e3d8c1a",
   "metadata": {},
   "outputs": [],
   "source": [
    "#Task76"
   ]
  },
  {
   "cell_type": "code",
   "execution_count": null,
   "id": "5a2e63a9-92f8-45e2-8e6e-d77900739fa6",
   "metadata": {},
   "outputs": [],
   "source": [
    "#Task77\n",
    "\n",
    "def max_profit(stock_price):\n",
    "    max_profit_amt = 0\n",
    "    for i in range(len(stock_price)):\n",
    "        profit_amt = 0\n",
    "    \n",
    "        for j in range(i+1, len(stock_price)):\n",
    "\n",
    "            profit_amt = stock_price[j] - stock_price[i]\n",
    "            \n",
    "\n",
    "            if profit_amt > max_profit_amt:\n",
    "                max_profit_amt = profit_amt\n",
    "    \n",
    "\n",
    "    return max_profit_amt\n",
    "\n",
    "\n",
    "print(max_profit([224, 236, 247, 258, 259, 225]))\n"
   ]
  },
  {
   "cell_type": "code",
   "execution_count": null,
   "id": "9d894118-5651-4b3d-a58d-e9b25d0b9623",
   "metadata": {},
   "outputs": [],
   "source": [
    "#Task78"
   ]
  },
  {
   "cell_type": "code",
   "execution_count": null,
   "id": "bcfacee3-5bae-4a0a-9d94-02d0d2c53cc7",
   "metadata": {},
   "outputs": [],
   "source": [
    "#Task79"
   ]
  },
  {
   "cell_type": "code",
   "execution_count": 62,
   "id": "f0fa717a-523b-4dcd-9ffa-78744808940b",
   "metadata": {},
   "outputs": [
    {
     "name": "stdout",
     "output_type": "stream",
     "text": [
      "4\n",
      "3\n",
      "8\n",
      "4\n"
     ]
    }
   ],
   "source": [
    "#Task80\n",
    "def missing_number(numbers):\n",
    "    if len(numbers) != 0:\n",
    "        numbers=sorted(numbers)\n",
    "        for number in numbers:\n",
    "            if number>0 and number+1 not in numbers:\n",
    "                return number+1\n",
    "    else:\n",
    "        return 1\n",
    "print(missing_number([2, 3, 7, 6, 8, -1, -10, 15, 16]))\n",
    "print(missing_number([1, 2, 4, -7, 6, 8, 1, -10, 15]))\n",
    "print(missing_number([1, 2, 3, 4, 5, 6, 7]))\n",
    "print(missing_number([-2, -3, -1, 1, 2, 3]))"
   ]
  },
  {
   "cell_type": "code",
   "execution_count": 58,
   "id": "e4b544a3-a852-4104-9d86-f6ef5637f44e",
   "metadata": {},
   "outputs": [
    {
     "name": "stdout",
     "output_type": "stream",
     "text": [
      "[46, 22, 10, 90, 4, 8, 92, 98, 20, 18]\n"
     ]
    }
   ],
   "source": [
    "#Task81\n",
    "import random\n",
    "print(random.sample([i for i in range(1,100) if i%2==0],10))"
   ]
  },
  {
   "cell_type": "code",
   "execution_count": 41,
   "id": "b905c00a-e22b-4d22-84fa-034191355798",
   "metadata": {},
   "outputs": [
    {
     "name": "stdout",
     "output_type": "stream",
     "text": [
      "3.0\n",
      "3.5\n",
      "3.5\n",
      "3.73\n",
      "3.1659999999999995\n",
      "23.15\n"
     ]
    }
   ],
   "source": [
    "#Task82\n",
    "def median_numbers(numbers):\n",
    "    return (sum(numbers)/len(numbers))\n",
    "print(median_numbers([1,2,3,4,5]))\n",
    "print(median_numbers([1,2,3,4,5,6]))\n",
    "print(median_numbers([6,1,2,4,5,3]))\n",
    "print(median_numbers([1.0,2.11,3.3,4.2,5.22,6.55]))\n",
    "print(median_numbers([1.0,2.11,3.3,4.2,5.22]))\n",
    "print(median_numbers([2.0,12.11,22.3,24.12,55.22]))"
   ]
  },
  {
   "cell_type": "code",
   "execution_count": 37,
   "id": "ca16e455-1218-4501-96b7-f5eec254c954",
   "metadata": {},
   "outputs": [
    {
     "name": "stdout",
     "output_type": "stream",
     "text": [
      "True\n",
      "True\n",
      "False\n",
      "True\n"
     ]
    }
   ],
   "source": [
    "#Task83\n",
    "def is_symmetric(number):\n",
    "    return str(number)==str(number)[::-1]\n",
    "\n",
    "print(is_symmetric(525))\n",
    "print(is_symmetric(0))\n",
    "print(is_symmetric(122))\n",
    "print(is_symmetric(990099))"
   ]
  },
  {
   "cell_type": "code",
   "execution_count": 29,
   "id": "6aa4aa12-5a6c-4892-afb5-46669bca2758",
   "metadata": {},
   "outputs": [
    {
     "name": "stdout",
     "output_type": "stream",
     "text": [
      "negative numbers are and the sum of positive numbers are: [0, 15]\n",
      "negative numbers are and the sum of positive numbers are: [5, 0]\n",
      "negative numbers are and the sum of positive numbers are:[2, 6]\n"
     ]
    }
   ],
   "source": [
    "#Task84\n",
    "def sum_and_negative(numbers):\n",
    "    result=0\n",
    "    count_negative=0\n",
    "    for number in numbers:\n",
    "        if number>=0:\n",
    "            result+=number\n",
    "        else:\n",
    "            count_negative+=1\n",
    "\n",
    "    return [count_negative,result]\n",
    "\n",
    "print(f'negative numbers are and the sum of positive numbers are: {sum_and_negative([1,2,3,4,5])}')\n",
    "print(f'negative numbers are and the sum of positive numbers are: {sum_and_negative([-1, -2, -3, -4, -5])}')\n",
    "print(f'negative numbers are and the sum of positive numbers are:{sum_and_negative([1, 2, 3, -4, -5])}')"
   ]
  },
  {
   "cell_type": "code",
   "execution_count": 110,
   "id": "04ec2b02-f0dc-4414-8718-e9d1bc604069",
   "metadata": {},
   "outputs": [
    {
     "name": "stdout",
     "output_type": "stream",
     "text": [
      "False\n",
      "True\n",
      "True\n",
      "False\n"
     ]
    }
   ],
   "source": [
    "#Task85\n",
    "def check_isogram(str1):\n",
    "    return len(str1) == len(set(str1.lower()))\n",
    "print(check_isogram(\"w3resource\"))\n",
    "print(check_isogram(\"w3r\"))\n",
    "print(check_isogram(\"Python\"))\n",
    "print(check_isogram(\"Java\"))"
   ]
  },
  {
   "cell_type": "code",
   "execution_count": 116,
   "id": "4120fd66-4ddb-494e-b6dd-202874ce3594",
   "metadata": {},
   "outputs": [
    {
     "name": "stdout",
     "output_type": "stream",
     "text": [
      "3\n",
      "2\n",
      "0\n",
      "3\n"
     ]
    }
   ],
   "source": [
    "#Task86\n",
    "def sum_equal (x,y,z):\n",
    "    sum=0\n",
    "    s=set([x,y,z])\n",
    "    if len(s)==3:\n",
    "        return 0\n",
    "    else:\n",
    "        \n",
    "        return 4-len(s)\n",
    "print(sum_equal(1,1,1))\n",
    "print(sum_equal(1,2,2))\n",
    "print(sum_equal(-1, -2, -3))\n",
    "print(sum_equal(-1, -1, -1))"
   ]
  },
  {
   "cell_type": "code",
   "execution_count": 357,
   "id": "50e643c4-bd1d-46d0-b473-2380e184cb48",
   "metadata": {},
   "outputs": [
    {
     "name": "stdout",
     "output_type": "stream",
     "text": [
      "True\n",
      "False\n",
      "False\n",
      "True\n",
      "False\n"
     ]
    }
   ],
   "source": [
    "#Task87\n",
    "def employee_code (code):\n",
    "    if (len(code)==8 or len(code)==12) and code.isdigit():\n",
    "        return True\n",
    "    return False\n",
    "print(employee_code('12345678'))      \n",
    "print(employee_code('1234567j'))       \n",
    "print(employee_code('12345678j'))      \n",
    "print(employee_code('123456789123'))   \n",
    "print(employee_code('123456abcdef')) "
   ]
  },
  {
   "cell_type": "code",
   "execution_count": 335,
   "id": "18965b67-5698-40b2-b907-959f18d06861",
   "metadata": {},
   "outputs": [
    {
     "name": "stdout",
     "output_type": "stream",
     "text": [
      "True\n",
      "False\n",
      "True\n",
      "False\n",
      "True\n"
     ]
    }
   ],
   "source": [
    "#Task88\n",
    "def present_str(txt1,txt2):\n",
    "    count=0\n",
    "    for char in txt2:\n",
    "        if char in txt1:\n",
    "            count+=1\n",
    "\n",
    "    return count==len(txt2)\n",
    "print(present_str(\"python\", \"ypth\"))   \n",
    "print(present_str(\"python\", \"ypths\"))   \n",
    "print(present_str(\"python\", \"ypthon\")) \n",
    "print(present_str(\"123456\", \"01234\"))  \n",
    "print(present_str(\"123456\", \"1234\"))    "
   ]
  },
  {
   "cell_type": "code",
   "execution_count": 333,
   "id": "b9a3cd30-7344-4a97-84bd-1152e415a717",
   "metadata": {},
   "outputs": [
    {
     "name": "stdout",
     "output_type": "stream",
     "text": [
      "3\n",
      "37\n"
     ]
    }
   ],
   "source": [
    "#Task89\n",
    "def sum_low(numbers):\n",
    "    sum=0\n",
    "    numbers=sorted(numbers)\n",
    "    for number in range(0,3):\n",
    "        sum+=numbers[number]\n",
    "    return sum\n",
    "\n",
    "print(sum_low([0, 1, 2, 3, 4, 5]))\n",
    "print(sum_low([10, 20, 30, 40, 50, 60, 7]))"
   ]
  },
  {
   "cell_type": "code",
   "execution_count": 347,
   "id": "f65b91f8-1e07-46b3-8910-49421a414427",
   "metadata": {},
   "outputs": [
    {
     "name": "stdout",
     "output_type": "stream",
     "text": [
      "*******3swke\n",
      "******bcdef\n",
      "12345\n"
     ]
    }
   ],
   "source": [
    "#Task90\n",
    "def replace_str(str):\n",
    "    for i in range(0,(len(str)-5)):\n",
    "        str=str.replace(str[i],'*',1)\n",
    "    return str\n",
    "print(replace_str('kdi39323swke'))\n",
    "print(replace_str('12345abcdef'))\n",
    "print(replace_str('12345'))"
   ]
  },
  {
   "cell_type": "code",
   "execution_count": 363,
   "id": "77768acf-801f-4cd6-95a8-520a6b227aee",
   "metadata": {},
   "outputs": [
    {
     "name": "stdout",
     "output_type": "stream",
     "text": [
      "0\n",
      "2\n",
      "3\n",
      "6\n"
     ]
    }
   ],
   "source": [
    "#Task91\n",
    "def len_arg(*x):\n",
    "    return len(x)\n",
    "\n",
    "print(len_arg())\n",
    "print(len_arg(1,2))\n",
    "print(len_arg(2,7,9))\n",
    "print(len_arg(54,22,15,356,545,555))"
   ]
  },
  {
   "cell_type": "code",
   "execution_count": 65,
   "id": "baa37052-bdb8-44cb-8ca2-7dbc6a81400d",
   "metadata": {},
   "outputs": [
    {
     "name": "stdout",
     "output_type": "stream",
     "text": [
      "[10, 30, 60, 100, 150, 210, 217]\n",
      "[1, 3, 6, 10, 15]\n",
      "[0, 1, 3, 6, 10, 15]\n"
     ]
    }
   ],
   "source": [
    "#Task92\n",
    "def sum_comulative(numbers):\n",
    "    return [sum(numbers[:i+1]) for i in range(len(numbers))]\n",
    "\n",
    "print(sum_comulative([10, 20, 30, 40, 50, 60, 7]))\n",
    "print(sum_comulative([1, 2, 3, 4, 5]))\n",
    "print(sum_comulative([0, 1, 2, 3, 4, 5]))"
   ]
  },
  {
   "cell_type": "code",
   "execution_count": 58,
   "id": "b490712b-b769-46ec-b02c-af53081f4302",
   "metadata": {},
   "outputs": [
    {
     "name": "stdout",
     "output_type": "stream",
     "text": [
      "av\n",
      "h\n"
     ]
    }
   ],
   "source": [
    "#Task93\n",
    "def middle (str):\n",
    "    index=int(len(str)/2)\n",
    "    index2=int((len(str)-1)/2)\n",
    "    if len(str)%2==0:       \n",
    "        return str[((index)-1):index+1]\n",
    "    else :\n",
    "        return str[index2]\n",
    "        \n",
    "print(middle('java'))\n",
    "print(middle('php'))"
   ]
  },
  {
   "cell_type": "code",
   "execution_count": 62,
   "id": "d545b052-8e7b-4009-883c-7124f9c5f14e",
   "metadata": {},
   "outputs": [
    {
     "name": "stdout",
     "output_type": "stream",
     "text": [
      "30\n",
      "20\n"
     ]
    }
   ],
   "source": [
    "#Task94\n",
    "def adj_product(numbers):\n",
    "    numbers=sorted(numbers,reverse=True)\n",
    "    return numbers[0]*numbers[1]\n",
    "\n",
    "print(adj_product([1, 2, 3, 4, 5, 6]))\n",
    "print(adj_product([1, 2, 3, 4, 5]))"
   ]
  },
  {
   "cell_type": "code",
   "execution_count": 78,
   "id": "e2011f50-cddd-46a7-a8e0-e08f46c2419a",
   "metadata": {},
   "outputs": [
    {
     "name": "stdout",
     "output_type": "stream",
     "text": [
      "True\n",
      "False\n",
      "True\n"
     ]
    }
   ],
   "source": [
    "#Task95\n",
    "def even_odd (numbers):\n",
    "    return all(i%2==numbers[i]%2 for i in range (len(numbers)))\n",
    "            \n",
    "\n",
    "print(even_odd([2, 1, 4, 3, 6, 7, 6, 3]))\n",
    "print(even_odd([2, 1, 4, 3, 6, 7, 6, 4]))\n",
    "print(even_odd([2, 1, 4, 3, 6, 7, 6, 3]))"
   ]
  },
  {
   "cell_type": "code",
   "execution_count": 80,
   "id": "8f703227-b362-4132-bb71-1eaab3c7f2e2",
   "metadata": {},
   "outputs": [
    {
     "name": "stdout",
     "output_type": "stream",
     "text": [
      "True\n",
      "True\n",
      "True\n",
      "False\n",
      "True\n"
     ]
    }
   ],
   "source": [
    "#Task96\n",
    "def is_narciss(number):\n",
    "    return number==sum(int(i)**len(str(number))for i in str(number))\n",
    "\n",
    "print(is_narciss(153))\n",
    "print(is_narciss(370))\n",
    "print(is_narciss(407))\n",
    "print(is_narciss(409))\n",
    "print(is_narciss(1634))"
   ]
  },
  {
   "cell_type": "code",
   "execution_count": 104,
   "id": "1a2ac9af-e219-49eb-99a5-a425678f49d0",
   "metadata": {},
   "outputs": [
    {
     "name": "stdout",
     "output_type": "stream",
     "text": [
      "lowest and highest number of the said string is : (0, 77)\n"
     ]
    }
   ],
   "source": [
    "#Task97\n",
    "def high_low(str):\n",
    "    lista =str.split()\n",
    "    li=[]\n",
    "    for number in lista:\n",
    "        li.append(int(number))\n",
    "    li=sorted(li)\n",
    "    return  li[0],li[-1]\n",
    "print(f\"lowest and highest number of the said string is : {high_low('1 4 5 77 9 0')}\")"
   ]
  },
  {
   "cell_type": "code",
   "execution_count": null,
   "id": "8a7a3066-de5d-4d9e-a2c4-26f135a05588",
   "metadata": {},
   "outputs": [],
   "source": [
    "#Task98\n",
    "def inc_fun(numbers):\n",
    "    if sorted(numbers)==numbers:\n",
    "        return True\n",
    "    return False\n",
    "print(inc_fun([1,2,3,4]))\n",
    "print(inc_fun([1,2,5,3,4]))\n",
    "print(inc_fun([-1,-2,-3,-4]))\n",
    "print(inc_fun([-4,-3,-2,-1]))\n",
    "print(inc_fun([1,2,3,4,0]))        \n"
   ]
  },
  {
   "cell_type": "code",
   "execution_count": 285,
   "id": "9e892a8e-d6b8-4622-91a8-0dc9337b022b",
   "metadata": {},
   "outputs": [
    {
     "name": "stdout",
     "output_type": "stream",
     "text": [
      "-1\n",
      "31\n"
     ]
    }
   ],
   "source": [
    "#Task99\n",
    "def find_str(txt,str):\n",
    "    if str in txt and txt.count(str)>=2:\n",
    "        return txt.index(str,txt.index(str)+1)\n",
    "        \n",
    "    return -1\n",
    "print(find_str(\"The quick brown fox jumps over the lazy dog\", \"the\"))\n",
    "print(find_str(\"the quick brown fox jumps over the lazy dog the\", \"the\"))"
   ]
  },
  {
   "cell_type": "code",
   "execution_count": 287,
   "id": "c40ea45c-b964-4e1b-aa53-11488f0b5d26",
   "metadata": {},
   "outputs": [
    {
     "name": "stdout",
     "output_type": "stream",
     "text": [
      "20\n",
      "-20\n",
      "0\n"
     ]
    }
   ],
   "source": [
    "#Task100\n",
    "def sum(numbers):\n",
    "    sum=0\n",
    "    for number in numbers:\n",
    "        sum+=(number* numbers.index(number))\n",
    "\n",
    "    return sum\n",
    "print(sum([1,2,3,4]))\n",
    "print(sum([-1,-2,-3,-4]))\n",
    "print(sum([]))\n"
   ]
  },
  {
   "cell_type": "code",
   "execution_count": 77,
   "id": "849b0e7c-1c98-4f9e-ac26-984112a9ff60",
   "metadata": {},
   "outputs": [
    {
     "name": "stdout",
     "output_type": "stream",
     "text": [
      "The oldest student is: Bob\n"
     ]
    }
   ],
   "source": [
    "#Task101\n",
    "def find_oldest_student(students):\n",
    "    oldest_student = max(students, key=students.get)\n",
    "    return oldest_student\n",
    "students = {\n",
    "    'Alice': 22,\n",
    "    'Bob': 25,\n",
    "    'Charlie': 23,\n",
    "    'David': 21\n",
    "}\n",
    "print(f\"The oldest student is: {find_oldest_student(students)}\")"
   ]
  },
  {
   "cell_type": "code",
   "execution_count": 327,
   "id": "b1343b3b-bcb9-45ff-8a9c-90f6cfe9de39",
   "metadata": {},
   "outputs": [
    {
     "name": "stdout",
     "output_type": "stream",
     "text": [
      "PYTHON\n",
      "Python\n",
      "Java\n",
      "PHP\n",
      "PaPa\n"
     ]
    }
   ],
   "source": [
    "#Task102\n",
    "def no_consec(str):\n",
    "    text=str[0]\n",
    "    for char in range(1,len(str)):\n",
    "        if str[char] != str[char-1] :\n",
    "            text+=str[char]\n",
    "    return text\n",
    "print(no_consec(\"PPYYYTTHON\"))\n",
    "print(no_consec(\"PPyyythonnn\"))\n",
    "print(no_consec(\"Java\"))\n",
    "print(no_consec(\"PPPHHHPPP\")) \n",
    "print(no_consec(\"PaPa\")) "
   ]
  },
  {
   "cell_type": "code",
   "execution_count": null,
   "id": "a81c46f0-9b6f-41bb-bc51-d0b95663e2b0",
   "metadata": {},
   "outputs": [],
   "source": [
    "#Task103\n"
   ]
  },
  {
   "cell_type": "code",
   "execution_count": null,
   "id": "10f0570a-3868-43aa-b51f-421714ac3059",
   "metadata": {},
   "outputs": [],
   "source": [
    "#Task104"
   ]
  },
  {
   "cell_type": "code",
   "execution_count": null,
   "id": "c3478769-d2f3-4679-adef-5cfd616b61fb",
   "metadata": {},
   "outputs": [],
   "source": [
    "#Task105"
   ]
  },
  {
   "cell_type": "code",
   "execution_count": null,
   "id": "7892f306-3242-41b3-b06e-6ccac689f506",
   "metadata": {},
   "outputs": [],
   "source": [
    "#Task106"
   ]
  },
  {
   "cell_type": "code",
   "execution_count": 85,
   "id": "f2c6622a-e79f-4750-8411-b4c89db596b6",
   "metadata": {},
   "outputs": [
    {
     "name": "stdout",
     "output_type": "stream",
     "text": [
      "Odd\n",
      "Even\n",
      "Even\n",
      "Odd\n"
     ]
    }
   ],
   "source": [
    "#Task107\n",
    "def even_or_odd(number):\n",
    "    sum=0\n",
    "    for i in range(len(str(number))):\n",
    "        sum+=int(str(number)[i])\n",
    "    if sum%2==0:\n",
    "        return \"Even\"\n",
    "    else:\n",
    "        return \"Odd\"\n",
    "\n",
    "print(even_or_odd(120))\n",
    "print(even_or_odd(3214))\n",
    "print(even_or_odd(321))\n",
    "print(even_or_odd(43))"
   ]
  },
  {
   "cell_type": "code",
   "execution_count": 87,
   "id": "4d41c0b5-5812-48d7-805e-0794ae3781fb",
   "metadata": {},
   "outputs": [
    {
     "name": "stdout",
     "output_type": "stream",
     "text": [
      "True\n",
      "False\n",
      "True\n",
      "True\n"
     ]
    }
   ],
   "source": [
    "#Task108\n",
    "def check_last_digit(x,y,z):\n",
    "    return str(x+z)[-1]==str(y)[-1]\n",
    "print(check_last_digit(12, 26, 44))\n",
    "print(check_last_digit(145, 122, 1010))\n",
    "print(check_last_digit(0, 20, 40))\n",
    "print(check_last_digit(145, 129, 104))"
   ]
  },
  {
   "cell_type": "code",
   "execution_count": null,
   "id": "2256561d-932f-41ff-ab50-a4fd28a3825f",
   "metadata": {},
   "outputs": [],
   "source": [
    "#Task109"
   ]
  },
  {
   "cell_type": "code",
   "execution_count": null,
   "id": "f28d330c-4802-407d-a651-9df1aca80dc1",
   "metadata": {},
   "outputs": [],
   "source": [
    "#Task110"
   ]
  },
  {
   "cell_type": "code",
   "execution_count": null,
   "id": "6adaf13d-b6d2-45e0-9d08-007491d011a0",
   "metadata": {},
   "outputs": [],
   "source": [
    "#Task111"
   ]
  },
  {
   "cell_type": "code",
   "execution_count": null,
   "id": "993e6aec-5d42-4a86-99c4-4cf3740d7b09",
   "metadata": {},
   "outputs": [],
   "source": [
    "#Task112"
   ]
  },
  {
   "cell_type": "code",
   "execution_count": null,
   "id": "f3d9374a-3cb2-4440-9d92-35dcf8d0cee0",
   "metadata": {},
   "outputs": [],
   "source": [
    "#Task113"
   ]
  },
  {
   "cell_type": "code",
   "execution_count": null,
   "id": "56c95664-6c9a-4c5a-8473-6c14d5337b59",
   "metadata": {},
   "outputs": [],
   "source": [
    "#Task114"
   ]
  },
  {
   "cell_type": "code",
   "execution_count": null,
   "id": "c2b46f74-ec13-41d6-b507-251a1755253e",
   "metadata": {},
   "outputs": [],
   "source": [
    "#Task115"
   ]
  },
  {
   "cell_type": "code",
   "execution_count": null,
   "id": "695d38df-d831-4c75-b373-8f4e2ebd8214",
   "metadata": {},
   "outputs": [],
   "source": [
    "#Task116"
   ]
  },
  {
   "cell_type": "code",
   "execution_count": null,
   "id": "286c863e-1b51-407f-a6d0-d16b25ac14fb",
   "metadata": {},
   "outputs": [],
   "source": [
    "#Task117"
   ]
  },
  {
   "cell_type": "code",
   "execution_count": null,
   "id": "683d4ebf-28ac-4437-8f85-e1c85822d844",
   "metadata": {},
   "outputs": [],
   "source": [
    "#Task118"
   ]
  },
  {
   "cell_type": "code",
   "execution_count": null,
   "id": "cefb9a0e-7de9-4d87-919a-0a4f6db67eb2",
   "metadata": {},
   "outputs": [],
   "source": [
    "#Task119"
   ]
  },
  {
   "cell_type": "code",
   "execution_count": null,
   "id": "57e7de84-6047-4487-a739-3a8bc083d0b0",
   "metadata": {},
   "outputs": [],
   "source": [
    "#Task120"
   ]
  },
  {
   "cell_type": "code",
   "execution_count": null,
   "id": "56eddf98-2f6c-4ef2-af98-da87f9da0064",
   "metadata": {},
   "outputs": [],
   "source": [
    "#Task121"
   ]
  },
  {
   "cell_type": "code",
   "execution_count": null,
   "id": "1f0ca88a-25fe-4447-ac68-3114cc21c75a",
   "metadata": {},
   "outputs": [],
   "source": [
    "#Task122"
   ]
  },
  {
   "cell_type": "code",
   "execution_count": null,
   "id": "0275df1b-e88f-488d-b6e3-34a64b5e1559",
   "metadata": {},
   "outputs": [],
   "source": [
    "#Task123"
   ]
  },
  {
   "cell_type": "code",
   "execution_count": null,
   "id": "9645a6b9-2958-4db9-892e-bcdd94d90067",
   "metadata": {},
   "outputs": [],
   "source": [
    "#Task124"
   ]
  },
  {
   "cell_type": "code",
   "execution_count": null,
   "id": "f3470c61-3cd1-487b-a503-334352ce43ab",
   "metadata": {},
   "outputs": [],
   "source": [
    "#Task125"
   ]
  },
  {
   "cell_type": "code",
   "execution_count": null,
   "id": "ea690473-c6e5-4c30-9c1c-177b2ab57ca7",
   "metadata": {},
   "outputs": [],
   "source": [
    "#Task126"
   ]
  },
  {
   "cell_type": "code",
   "execution_count": null,
   "id": "cb8dcc86-b6af-4cd2-a3d8-af9991f1885b",
   "metadata": {},
   "outputs": [],
   "source": [
    "#Task127"
   ]
  },
  {
   "cell_type": "code",
   "execution_count": null,
   "id": "fc640275-b833-477b-a53b-b81f920d98f0",
   "metadata": {},
   "outputs": [],
   "source": [
    "#Task128"
   ]
  },
  {
   "cell_type": "code",
   "execution_count": null,
   "id": "e2b56383-25fd-42b7-a468-f6f38316ecb4",
   "metadata": {},
   "outputs": [],
   "source": [
    "#Task129"
   ]
  },
  {
   "cell_type": "code",
   "execution_count": null,
   "id": "d50db6c1-30b9-44ef-afa8-a8abd6095cf4",
   "metadata": {},
   "outputs": [],
   "source": [
    "#Task130"
   ]
  },
  {
   "cell_type": "code",
   "execution_count": null,
   "id": "74d3becf-b25e-42e8-bc25-5e6db8e769e3",
   "metadata": {},
   "outputs": [],
   "source": [
    "#Task131"
   ]
  },
  {
   "cell_type": "code",
   "execution_count": null,
   "id": "df4aab32-a1cc-4da1-a0e6-0f6a55745595",
   "metadata": {},
   "outputs": [],
   "source": [
    "#Task132"
   ]
  },
  {
   "cell_type": "code",
   "execution_count": null,
   "id": "b81ab5ac-6ca7-45e7-86ee-70cdd4e3d2cf",
   "metadata": {},
   "outputs": [],
   "source": [
    "#Task133"
   ]
  },
  {
   "cell_type": "code",
   "execution_count": null,
   "id": "b785a296-7f3b-4473-833b-675811f08115",
   "metadata": {},
   "outputs": [],
   "source": [
    "#Task134"
   ]
  },
  {
   "cell_type": "code",
   "execution_count": null,
   "id": "7bf911e7-ebe9-4cbe-9378-7928aaad5e8c",
   "metadata": {},
   "outputs": [],
   "source": [
    "#Task135"
   ]
  },
  {
   "cell_type": "code",
   "execution_count": 18,
   "id": "4b3193dd-d30e-4e3b-96fa-99715f8d74bd",
   "metadata": {},
   "outputs": [
    {
     "name": "stdout",
     "output_type": "stream",
     "text": [
      "ehT\n",
      "kciuq\n",
      "nworb\n",
      "xof\n",
      "spmuj\n",
      "eht\n",
      "god\n"
     ]
    }
   ],
   "source": [
    "#Task136\n",
    "text=\"The quick brown fox jumps over the lazy dog\"\n",
    "new_txt=text.split()\n",
    "for i in range (len(new_txt)):\n",
    "    if len(new_txt[i])%2!=0:\n",
    "        print(new_txt[i][::-1])"
   ]
  },
  {
   "cell_type": "code",
   "execution_count": 31,
   "id": "9afd35c9-02f4-4071-96dd-8e2d213e4436",
   "metadata": {},
   "outputs": [
    {
     "name": "stdout",
     "output_type": "stream",
     "text": [
      "ing\n"
     ]
    }
   ],
   "source": [
    "#Task137\n",
    "def test(str1, str2):\n",
    "    for i in range(len(str2)):\n",
    "        while str2[i:] in str1 and str2[-1] == str1[-1]:\n",
    "            return str2[i:]\n",
    "    return ''\n",
    "print(test(\"running\",\"ruminating\"))\n"
   ]
  },
  {
   "cell_type": "code",
   "execution_count": 16,
   "id": "83596c91-f03f-4008-b63d-17716d9358bd",
   "metadata": {},
   "outputs": [
    {
     "name": "stdout",
     "output_type": "stream",
     "text": [
      "13\n",
      "145\n",
      "1342\n"
     ]
    }
   ],
   "source": [
    "#Task138\n",
    "def bin_int(number):\n",
    "    total_sum = 0\n",
    "    reversed_bin = bin(number)[2:][::-1] \n",
    "    for i in range(len(reversed_bin)):\n",
    "        total_sum += int(reversed_bin[i]) * (2 ** i)\n",
    "    \n",
    "    return total_sum\n",
    "print(bin_int(13))\n",
    "print(bin_int(145))\n",
    "print(bin_int(1342))  \n"
   ]
  },
  {
   "cell_type": "code",
   "execution_count": 1,
   "id": "b3b2d508-1b7b-4770-8b91-c969839b0919",
   "metadata": {},
   "outputs": [
    {
     "data": {
      "text/plain": [
       "121"
      ]
     },
     "execution_count": 1,
     "metadata": {},
     "output_type": "execute_result"
    }
   ],
   "source": [
    "#Task139\n",
    "def palindrome(n):\n",
    "    x=n\n",
    "    y=n\n",
    "    while True:\n",
    "        if str(x) == str(x)[::-1]:\n",
    "            return x       \n",
    "        x -= 1\n",
    "        if str(y) == str(y)[::-1]:\n",
    "            return y\n",
    "        y += 1\n",
    "\n",
    "palindrome(120)"
   ]
  },
  {
   "cell_type": "code",
   "execution_count": 134,
   "id": "056c972d-c304-4763-ab4b-52a51dce3334",
   "metadata": {},
   "outputs": [
    {
     "name": "stdout",
     "output_type": "stream",
     "text": [
      "[0.49, 0.54, 0.54, 0.54, 0.54, 0.54, 0.55, 0.54, 0.54, 0.54, 0.55, 0.55, 0.55, 0.54, 0.55, 0.55, 0.54, 0.55, 0.55, 0.54]\n"
     ]
    }
   ],
   "source": [
    "#Task140\n",
    "nums = ['0.49', '0.54', '0.54', '0.54', '0.54', '0.54', '0.55', '0.54', '0.54', '0.54',\n",
    "        '0.55', '0.55', '0.55', '0.54', '0.55', '0.55', '0.54', '0.55', '0.55', '0.54']\n",
    "nums_fl=[]\n",
    "for i in nums:\n",
    "    nums_fl.append(float(i))\n",
    "\n",
    "print(nums_fl)"
   ]
  },
  {
   "cell_type": "code",
   "execution_count": 19,
   "id": "31b56f69-f4a8-4ecb-8649-538e09c183c7",
   "metadata": {},
   "outputs": [
    {
     "name": "stdout",
     "output_type": "stream",
     "text": [
      "Domain name using PTR DNS:\n",
      "dns.google\n",
      "ec2-13-251-106-90.ap-southeast-1.compute.amazonaws.com\n",
      "dns.google\n",
      "ec2-23-23-212-126.compute-1.amazonaws.com\n"
     ]
    }
   ],
   "source": [
    "#Task141\n",
    "def get_domain_name(ip_address):\n",
    "   \n",
    "    import socket\n",
    "    \n",
    "    \n",
    "    result = socket.gethostbyaddr(ip_address)\n",
    "    \n",
    "   \n",
    "    return list(result)[0]\n",
    "\n",
    "\n",
    "print(\"Domain name using PTR DNS:\")\n",
    "\n",
    "\n",
    "print(get_domain_name(\"8.8.8.8\"))\n",
    "print(get_domain_name(\"13.251.106.90\"))\n",
    "print(get_domain_name(\"8.8.4.4\"))\n",
    "print(get_domain_name(\"23.23.212.126\"))\n"
   ]
  },
  {
   "cell_type": "code",
   "execution_count": null,
   "id": "32a435ea-e8c5-427a-88aa-952a52e80110",
   "metadata": {},
   "outputs": [],
   "source": []
  },
  {
   "cell_type": "code",
   "execution_count": null,
   "id": "b5858e0f-ac7b-4b6c-bc95-279e6aeac16d",
   "metadata": {},
   "outputs": [],
   "source": []
  },
  {
   "cell_type": "code",
   "execution_count": null,
   "id": "8398d060-0c95-4a42-a9b3-746c06bda828",
   "metadata": {},
   "outputs": [],
   "source": []
  },
  {
   "cell_type": "code",
   "execution_count": null,
   "id": "d6f054f3-ab80-4adb-a5b4-507bdfb2dedd",
   "metadata": {},
   "outputs": [],
   "source": []
  },
  {
   "cell_type": "code",
   "execution_count": null,
   "id": "e481636e-c074-4654-834b-8649d444b88c",
   "metadata": {},
   "outputs": [],
   "source": []
  },
  {
   "cell_type": "code",
   "execution_count": null,
   "id": "518bb036-cb86-46b0-9640-db1822668bf5",
   "metadata": {},
   "outputs": [],
   "source": []
  },
  {
   "cell_type": "code",
   "execution_count": null,
   "id": "e6d934f1-0278-4d35-a7e5-7e4009d4233a",
   "metadata": {},
   "outputs": [],
   "source": []
  },
  {
   "cell_type": "code",
   "execution_count": null,
   "id": "c49b38df-6ab2-4d6c-b075-222dc046cf26",
   "metadata": {},
   "outputs": [],
   "source": []
  },
  {
   "cell_type": "code",
   "execution_count": null,
   "id": "96f535fa-fd68-423e-888d-1770c80e1234",
   "metadata": {},
   "outputs": [],
   "source": []
  }
 ],
 "metadata": {
  "kernelspec": {
   "display_name": "Python 3 (ipykernel)",
   "language": "python",
   "name": "python3"
  },
  "language_info": {
   "codemirror_mode": {
    "name": "ipython",
    "version": 3
   },
   "file_extension": ".py",
   "mimetype": "text/x-python",
   "name": "python",
   "nbconvert_exporter": "python",
   "pygments_lexer": "ipython3",
   "version": "3.11.7"
  }
 },
 "nbformat": 4,
 "nbformat_minor": 5
}
